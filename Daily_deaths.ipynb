{
 "cells": [
  {
   "cell_type": "code",
   "execution_count": 79,
   "metadata": {
    "collapsed": true
   },
   "outputs": [],
   "source": [
    "import pandas as pd"
   ]
  },
  {
   "cell_type": "code",
   "execution_count": 165,
   "outputs": [
    {
     "data": {
      "text/plain": "0        NHS England Region Up to 01-Mar-20 2020-03-01 00:00:00  \\\n0           East Of England               0                   0   \n1                    London               0                   0   \n2                  Midlands               0                   0   \n3  North East And Yorkshire               0                   0   \n4                North West               0                   0   \n5                South East               0                   0   \n6                South West               0                   0   \n\n0 2020-03-02 00:00:00 2020-03-03 00:00:00 2020-03-04 00:00:00  \\\n0                   1                   0                   0   \n1                   0                   0                   0   \n2                   0                   1                   0   \n3                   0                   0                   0   \n4                   0                   0                   0   \n5                   0                   1                   0   \n6                   0                   0                   0   \n\n0 2020-03-05 00:00:00 2020-03-06 00:00:00 2020-03-07 00:00:00  \\\n0                   0                   1                   0   \n1                   0                   1                   0   \n2                   0                   0                   0   \n3                   0                   0                   0   \n4                   1                   0                   0   \n5                   1                   0                   0   \n6                   0                   0                   0   \n\n0 2020-03-08 00:00:00  ... 2020-12-18 00:00:00 2020-12-19 00:00:00  \\\n0                   0  ...                  34                  42   \n1                   0  ...                  39                  38   \n2                   2  ...                  76                  54   \n3                   0  ...                  54                  47   \n4                   1  ...                  46                  45   \n5                   1  ...                  38                  34   \n6                   0  ...                   8                  20   \n\n0 2020-12-20 00:00:00 2020-12-21 00:00:00 2020-12-22 00:00:00  \\\n0                  42                  55                  40   \n1                  50                  54                  48   \n2                  65                  77                  64   \n3                  48                  33                  50   \n4                  36                  47                  47   \n5                  44                  54                  51   \n6                  17                  20                  10   \n\n0 2020-12-23 00:00:00 2020-12-24 00:00:00 2020-12-25 00:00:00  \\\n0                  39                  24                  28   \n1                  50                  41                  35   \n2                  55                  47                  53   \n3                  41                  41                  39   \n4                  41                  29                  23   \n5                  56                  33                  39   \n6                  11                   9                   4   \n\n0 2020-12-26 00:00:00 2020-12-27 00:00:00  \n0                  24                   5  \n1                  24                   9  \n2                  38                   7  \n3                  31                   8  \n4                  24                   4  \n5                  28                   8  \n6                  10                   2  \n\n[7 rows x 304 columns]",
      "text/html": "<div>\n<style scoped>\n    .dataframe tbody tr th:only-of-type {\n        vertical-align: middle;\n    }\n\n    .dataframe tbody tr th {\n        vertical-align: top;\n    }\n\n    .dataframe thead th {\n        text-align: right;\n    }\n</style>\n<table border=\"1\" class=\"dataframe\">\n  <thead>\n    <tr style=\"text-align: right;\">\n      <th></th>\n      <th>NHS England Region</th>\n      <th>Up to 01-Mar-20</th>\n      <th>2020-03-01 00:00:00</th>\n      <th>2020-03-02 00:00:00</th>\n      <th>2020-03-03 00:00:00</th>\n      <th>2020-03-04 00:00:00</th>\n      <th>2020-03-05 00:00:00</th>\n      <th>2020-03-06 00:00:00</th>\n      <th>2020-03-07 00:00:00</th>\n      <th>2020-03-08 00:00:00</th>\n      <th>...</th>\n      <th>2020-12-18 00:00:00</th>\n      <th>2020-12-19 00:00:00</th>\n      <th>2020-12-20 00:00:00</th>\n      <th>2020-12-21 00:00:00</th>\n      <th>2020-12-22 00:00:00</th>\n      <th>2020-12-23 00:00:00</th>\n      <th>2020-12-24 00:00:00</th>\n      <th>2020-12-25 00:00:00</th>\n      <th>2020-12-26 00:00:00</th>\n      <th>2020-12-27 00:00:00</th>\n    </tr>\n  </thead>\n  <tbody>\n    <tr>\n      <th>0</th>\n      <td>East Of England</td>\n      <td>0</td>\n      <td>0</td>\n      <td>1</td>\n      <td>0</td>\n      <td>0</td>\n      <td>0</td>\n      <td>1</td>\n      <td>0</td>\n      <td>0</td>\n      <td>...</td>\n      <td>34</td>\n      <td>42</td>\n      <td>42</td>\n      <td>55</td>\n      <td>40</td>\n      <td>39</td>\n      <td>24</td>\n      <td>28</td>\n      <td>24</td>\n      <td>5</td>\n    </tr>\n    <tr>\n      <th>1</th>\n      <td>London</td>\n      <td>0</td>\n      <td>0</td>\n      <td>0</td>\n      <td>0</td>\n      <td>0</td>\n      <td>0</td>\n      <td>1</td>\n      <td>0</td>\n      <td>0</td>\n      <td>...</td>\n      <td>39</td>\n      <td>38</td>\n      <td>50</td>\n      <td>54</td>\n      <td>48</td>\n      <td>50</td>\n      <td>41</td>\n      <td>35</td>\n      <td>24</td>\n      <td>9</td>\n    </tr>\n    <tr>\n      <th>2</th>\n      <td>Midlands</td>\n      <td>0</td>\n      <td>0</td>\n      <td>0</td>\n      <td>1</td>\n      <td>0</td>\n      <td>0</td>\n      <td>0</td>\n      <td>0</td>\n      <td>2</td>\n      <td>...</td>\n      <td>76</td>\n      <td>54</td>\n      <td>65</td>\n      <td>77</td>\n      <td>64</td>\n      <td>55</td>\n      <td>47</td>\n      <td>53</td>\n      <td>38</td>\n      <td>7</td>\n    </tr>\n    <tr>\n      <th>3</th>\n      <td>North East And Yorkshire</td>\n      <td>0</td>\n      <td>0</td>\n      <td>0</td>\n      <td>0</td>\n      <td>0</td>\n      <td>0</td>\n      <td>0</td>\n      <td>0</td>\n      <td>0</td>\n      <td>...</td>\n      <td>54</td>\n      <td>47</td>\n      <td>48</td>\n      <td>33</td>\n      <td>50</td>\n      <td>41</td>\n      <td>41</td>\n      <td>39</td>\n      <td>31</td>\n      <td>8</td>\n    </tr>\n    <tr>\n      <th>4</th>\n      <td>North West</td>\n      <td>0</td>\n      <td>0</td>\n      <td>0</td>\n      <td>0</td>\n      <td>0</td>\n      <td>1</td>\n      <td>0</td>\n      <td>0</td>\n      <td>1</td>\n      <td>...</td>\n      <td>46</td>\n      <td>45</td>\n      <td>36</td>\n      <td>47</td>\n      <td>47</td>\n      <td>41</td>\n      <td>29</td>\n      <td>23</td>\n      <td>24</td>\n      <td>4</td>\n    </tr>\n    <tr>\n      <th>5</th>\n      <td>South East</td>\n      <td>0</td>\n      <td>0</td>\n      <td>0</td>\n      <td>1</td>\n      <td>0</td>\n      <td>1</td>\n      <td>0</td>\n      <td>0</td>\n      <td>1</td>\n      <td>...</td>\n      <td>38</td>\n      <td>34</td>\n      <td>44</td>\n      <td>54</td>\n      <td>51</td>\n      <td>56</td>\n      <td>33</td>\n      <td>39</td>\n      <td>28</td>\n      <td>8</td>\n    </tr>\n    <tr>\n      <th>6</th>\n      <td>South West</td>\n      <td>0</td>\n      <td>0</td>\n      <td>0</td>\n      <td>0</td>\n      <td>0</td>\n      <td>0</td>\n      <td>0</td>\n      <td>0</td>\n      <td>0</td>\n      <td>...</td>\n      <td>8</td>\n      <td>20</td>\n      <td>17</td>\n      <td>20</td>\n      <td>10</td>\n      <td>11</td>\n      <td>9</td>\n      <td>4</td>\n      <td>10</td>\n      <td>2</td>\n    </tr>\n  </tbody>\n</table>\n<p>7 rows × 304 columns</p>\n</div>"
     },
     "execution_count": 165,
     "metadata": {},
     "output_type": "execute_result"
    }
   ],
   "source": [
    "df_daily_deaths = pd.read_excel(r'/Users/ivan/Desktop/PycharmProjects/Data_Science_Mini/Data/raw/COVID-19-total-announced-deaths-28-December-2020.xlsx',\n",
    "                   sheet_name='Tab1 Deaths by region',\n",
    "                   engine='openpyxl')\n",
    "\n",
    "# remove all but rows 14 to 23 as others not needed\n",
    "df_daily_deaths = df_daily_deaths.iloc[14:24]\n",
    "df_daily_deaths.reset_index(drop=True,inplace=True)\n",
    "\n",
    "new_header = df_daily_deaths.iloc[0]\n",
    "df_daily_deaths = df_daily_deaths[1:]\n",
    "df_daily_deaths.columns = new_header\n",
    "\n",
    "# remove 1st and 2nd rows as not needed\n",
    "df_daily_deaths.drop(df_daily_deaths.index[[0,1]], inplace=True)\n",
    "\n",
    "# drop rows with NaN\n",
    "df_daily_deaths = df_daily_deaths.dropna(axis=1)\n",
    "\n",
    "# drop last two columns as not needed\n",
    "df_daily_deaths = df_daily_deaths.drop(columns=['Awaiting verification', 'Total'])\n",
    "\n",
    "df_daily_deaths.reset_index(drop=True,inplace=True)\n",
    "\n",
    "\n",
    "df_daily_deaths\n"
   ],
   "metadata": {
    "collapsed": false,
    "pycharm": {
     "name": "#%%\n"
    }
   }
  }
 ],
 "metadata": {
  "kernelspec": {
   "display_name": "Python 3",
   "language": "python",
   "name": "python3"
  },
  "language_info": {
   "codemirror_mode": {
    "name": "ipython",
    "version": 2
   },
   "file_extension": ".py",
   "mimetype": "text/x-python",
   "name": "python",
   "nbconvert_exporter": "python",
   "pygments_lexer": "ipython2",
   "version": "2.7.6"
  }
 },
 "nbformat": 4,
 "nbformat_minor": 0
}