{
 "cells": [
  {
   "cell_type": "code",
   "execution_count": 9,
   "metadata": {
    "collapsed": true
   },
   "outputs": [],
   "source": [
    "import pandas as pd"
   ]
  },
  {
   "cell_type": "markdown",
   "source": [
    "### Importing and pre-processing of data"
   ],
   "metadata": {
    "collapsed": false,
    "pycharm": {
     "name": "#%% md\n"
    }
   }
  },
  {
   "cell_type": "code",
   "execution_count": 10,
   "outputs": [
    {
     "name": "stdout",
     "output_type": "stream",
     "text": [
      "302\n"
     ]
    },
    {
     "data": {
      "text/plain": "0        NHS England Region 01-03-2020 02-03-2020 03-03-2020 04-03-2020  \\\n0           East Of England          0          1          0          0   \n1                    London          0          0          0          0   \n2                  Midlands          0          0          1          0   \n3  North East And Yorkshire          0          0          0          0   \n4                North West          0          0          0          0   \n\n0 05-03-2020 06-03-2020 07-03-2020 08-03-2020 09-03-2020  ... 18-12-2020  \\\n0          0          1          0          0          1  ...         34   \n1          0          1          0          0          1  ...         39   \n2          0          0          0          2          1  ...         76   \n3          0          0          0          0          0  ...         54   \n4          1          0          0          1          0  ...         46   \n\n0 19-12-2020 20-12-2020 21-12-2020 22-12-2020 23-12-2020 24-12-2020  \\\n0         42         42         55         40         39         24   \n1         38         50         54         48         50         41   \n2         54         65         77         64         55         47   \n3         47         48         33         50         41         41   \n4         45         36         47         47         41         29   \n\n0 25-12-2020 26-12-2020 27-12-2020  \n0         28         24          5  \n1         35         24          9  \n2         53         38          7  \n3         39         31          8  \n4         23         24          4  \n\n[5 rows x 303 columns]",
      "text/html": "<div>\n<style scoped>\n    .dataframe tbody tr th:only-of-type {\n        vertical-align: middle;\n    }\n\n    .dataframe tbody tr th {\n        vertical-align: top;\n    }\n\n    .dataframe thead th {\n        text-align: right;\n    }\n</style>\n<table border=\"1\" class=\"dataframe\">\n  <thead>\n    <tr style=\"text-align: right;\">\n      <th></th>\n      <th>NHS England Region</th>\n      <th>01-03-2020</th>\n      <th>02-03-2020</th>\n      <th>03-03-2020</th>\n      <th>04-03-2020</th>\n      <th>05-03-2020</th>\n      <th>06-03-2020</th>\n      <th>07-03-2020</th>\n      <th>08-03-2020</th>\n      <th>09-03-2020</th>\n      <th>...</th>\n      <th>18-12-2020</th>\n      <th>19-12-2020</th>\n      <th>20-12-2020</th>\n      <th>21-12-2020</th>\n      <th>22-12-2020</th>\n      <th>23-12-2020</th>\n      <th>24-12-2020</th>\n      <th>25-12-2020</th>\n      <th>26-12-2020</th>\n      <th>27-12-2020</th>\n    </tr>\n  </thead>\n  <tbody>\n    <tr>\n      <th>0</th>\n      <td>East Of England</td>\n      <td>0</td>\n      <td>1</td>\n      <td>0</td>\n      <td>0</td>\n      <td>0</td>\n      <td>1</td>\n      <td>0</td>\n      <td>0</td>\n      <td>1</td>\n      <td>...</td>\n      <td>34</td>\n      <td>42</td>\n      <td>42</td>\n      <td>55</td>\n      <td>40</td>\n      <td>39</td>\n      <td>24</td>\n      <td>28</td>\n      <td>24</td>\n      <td>5</td>\n    </tr>\n    <tr>\n      <th>1</th>\n      <td>London</td>\n      <td>0</td>\n      <td>0</td>\n      <td>0</td>\n      <td>0</td>\n      <td>0</td>\n      <td>1</td>\n      <td>0</td>\n      <td>0</td>\n      <td>1</td>\n      <td>...</td>\n      <td>39</td>\n      <td>38</td>\n      <td>50</td>\n      <td>54</td>\n      <td>48</td>\n      <td>50</td>\n      <td>41</td>\n      <td>35</td>\n      <td>24</td>\n      <td>9</td>\n    </tr>\n    <tr>\n      <th>2</th>\n      <td>Midlands</td>\n      <td>0</td>\n      <td>0</td>\n      <td>1</td>\n      <td>0</td>\n      <td>0</td>\n      <td>0</td>\n      <td>0</td>\n      <td>2</td>\n      <td>1</td>\n      <td>...</td>\n      <td>76</td>\n      <td>54</td>\n      <td>65</td>\n      <td>77</td>\n      <td>64</td>\n      <td>55</td>\n      <td>47</td>\n      <td>53</td>\n      <td>38</td>\n      <td>7</td>\n    </tr>\n    <tr>\n      <th>3</th>\n      <td>North East And Yorkshire</td>\n      <td>0</td>\n      <td>0</td>\n      <td>0</td>\n      <td>0</td>\n      <td>0</td>\n      <td>0</td>\n      <td>0</td>\n      <td>0</td>\n      <td>0</td>\n      <td>...</td>\n      <td>54</td>\n      <td>47</td>\n      <td>48</td>\n      <td>33</td>\n      <td>50</td>\n      <td>41</td>\n      <td>41</td>\n      <td>39</td>\n      <td>31</td>\n      <td>8</td>\n    </tr>\n    <tr>\n      <th>4</th>\n      <td>North West</td>\n      <td>0</td>\n      <td>0</td>\n      <td>0</td>\n      <td>0</td>\n      <td>1</td>\n      <td>0</td>\n      <td>0</td>\n      <td>1</td>\n      <td>0</td>\n      <td>...</td>\n      <td>46</td>\n      <td>45</td>\n      <td>36</td>\n      <td>47</td>\n      <td>47</td>\n      <td>41</td>\n      <td>29</td>\n      <td>23</td>\n      <td>24</td>\n      <td>4</td>\n    </tr>\n  </tbody>\n</table>\n<p>5 rows × 303 columns</p>\n</div>"
     },
     "execution_count": 10,
     "metadata": {},
     "output_type": "execute_result"
    }
   ],
   "source": [
    "df_daily_deaths = pd.read_excel(r'/Users/ivan/Desktop/PycharmProjects/Data_Science_Mini/Data/raw/COVID-19-total-announced-deaths-28-December-2020.xlsx',\n",
    "                   sheet_name='Tab1 Deaths by region',\n",
    "                   engine='openpyxl')\n",
    "\n",
    "# remove all but rows 14 to 23 as others not needed\n",
    "df_daily_deaths = df_daily_deaths.iloc[14:24]\n",
    "df_daily_deaths.reset_index(drop=True,inplace=True)\n",
    "\n",
    "new_header = df_daily_deaths.iloc[0]\n",
    "df_daily_deaths = df_daily_deaths[1:]\n",
    "df_daily_deaths.columns = new_header\n",
    "\n",
    "# remove 1st and 2nd rows as not needed\n",
    "df_daily_deaths.drop(df_daily_deaths.index[[0,1]], inplace=True)\n",
    "\n",
    "# drop rows with NaN\n",
    "df_daily_deaths = df_daily_deaths.dropna(axis=1)\n",
    "\n",
    "# drop various columns as not needed\n",
    "df_daily_deaths = df_daily_deaths.drop(columns=['Up to 01-Mar-20','Awaiting verification', 'Total'])\n",
    "\n",
    "df_daily_deaths.reset_index(drop=True,inplace=True)\n",
    "\n",
    "\n",
    "# changing headers to dates\n",
    "datelist = pd.date_range(start='03/01/2020', end='12/27/2020').strftime('%d-%m-%Y')\n",
    "print(len(datelist))\n",
    "i = 0\n",
    "for col in df_daily_deaths.columns[1:len(datelist)+2]:\n",
    "    df_daily_deaths.rename(columns={col:datelist[i]}, inplace=True)\n",
    "    i += 1\n",
    "\n",
    "\n",
    "df_daily_deaths.head()"
   ],
   "metadata": {
    "collapsed": false,
    "pycharm": {
     "name": "#%%\n"
    }
   }
  },
  {
   "cell_type": "markdown",
   "source": [
    "### Function to find and remove any columns where sum is 0 (I'll write a function in case it needs to be used later for another dataframe)"
   ],
   "metadata": {
    "collapsed": false,
    "pycharm": {
     "name": "#%% md\n"
    }
   }
  },
  {
   "cell_type": "code",
   "execution_count": 11,
   "outputs": [
    {
     "data": {
      "text/plain": "0        NHS England Region 02-03-2020 03-03-2020 05-03-2020 06-03-2020  \\\n0           East Of England          1          0          0          1   \n1                    London          0          0          0          1   \n2                  Midlands          0          1          0          0   \n3  North East And Yorkshire          0          0          0          0   \n4                North West          0          0          1          0   \n5                South East          0          1          1          0   \n6                South West          0          0          0          0   \n\n0 08-03-2020 09-03-2020 10-03-2020 11-03-2020 12-03-2020  ... 18-12-2020  \\\n0          0          1          0          0          0  ...         34   \n1          0          1          0          5          6  ...         39   \n2          2          1          0          2          6  ...         76   \n3          0          0          0          0          0  ...         54   \n4          1          0          0          0          2  ...         46   \n5          1          1          1          1          0  ...         38   \n6          0          0          0          1          0  ...          8   \n\n0 19-12-2020 20-12-2020 21-12-2020 22-12-2020 23-12-2020 24-12-2020  \\\n0         42         42         55         40         39         24   \n1         38         50         54         48         50         41   \n2         54         65         77         64         55         47   \n3         47         48         33         50         41         41   \n4         45         36         47         47         41         29   \n5         34         44         54         51         56         33   \n6         20         17         20         10         11          9   \n\n0 25-12-2020 26-12-2020 27-12-2020  \n0         28         24          5  \n1         35         24          9  \n2         53         38          7  \n3         39         31          8  \n4         23         24          4  \n5         39         28          8  \n6          4         10          2  \n\n[7 rows x 300 columns]",
      "text/html": "<div>\n<style scoped>\n    .dataframe tbody tr th:only-of-type {\n        vertical-align: middle;\n    }\n\n    .dataframe tbody tr th {\n        vertical-align: top;\n    }\n\n    .dataframe thead th {\n        text-align: right;\n    }\n</style>\n<table border=\"1\" class=\"dataframe\">\n  <thead>\n    <tr style=\"text-align: right;\">\n      <th></th>\n      <th>NHS England Region</th>\n      <th>02-03-2020</th>\n      <th>03-03-2020</th>\n      <th>05-03-2020</th>\n      <th>06-03-2020</th>\n      <th>08-03-2020</th>\n      <th>09-03-2020</th>\n      <th>10-03-2020</th>\n      <th>11-03-2020</th>\n      <th>12-03-2020</th>\n      <th>...</th>\n      <th>18-12-2020</th>\n      <th>19-12-2020</th>\n      <th>20-12-2020</th>\n      <th>21-12-2020</th>\n      <th>22-12-2020</th>\n      <th>23-12-2020</th>\n      <th>24-12-2020</th>\n      <th>25-12-2020</th>\n      <th>26-12-2020</th>\n      <th>27-12-2020</th>\n    </tr>\n  </thead>\n  <tbody>\n    <tr>\n      <th>0</th>\n      <td>East Of England</td>\n      <td>1</td>\n      <td>0</td>\n      <td>0</td>\n      <td>1</td>\n      <td>0</td>\n      <td>1</td>\n      <td>0</td>\n      <td>0</td>\n      <td>0</td>\n      <td>...</td>\n      <td>34</td>\n      <td>42</td>\n      <td>42</td>\n      <td>55</td>\n      <td>40</td>\n      <td>39</td>\n      <td>24</td>\n      <td>28</td>\n      <td>24</td>\n      <td>5</td>\n    </tr>\n    <tr>\n      <th>1</th>\n      <td>London</td>\n      <td>0</td>\n      <td>0</td>\n      <td>0</td>\n      <td>1</td>\n      <td>0</td>\n      <td>1</td>\n      <td>0</td>\n      <td>5</td>\n      <td>6</td>\n      <td>...</td>\n      <td>39</td>\n      <td>38</td>\n      <td>50</td>\n      <td>54</td>\n      <td>48</td>\n      <td>50</td>\n      <td>41</td>\n      <td>35</td>\n      <td>24</td>\n      <td>9</td>\n    </tr>\n    <tr>\n      <th>2</th>\n      <td>Midlands</td>\n      <td>0</td>\n      <td>1</td>\n      <td>0</td>\n      <td>0</td>\n      <td>2</td>\n      <td>1</td>\n      <td>0</td>\n      <td>2</td>\n      <td>6</td>\n      <td>...</td>\n      <td>76</td>\n      <td>54</td>\n      <td>65</td>\n      <td>77</td>\n      <td>64</td>\n      <td>55</td>\n      <td>47</td>\n      <td>53</td>\n      <td>38</td>\n      <td>7</td>\n    </tr>\n    <tr>\n      <th>3</th>\n      <td>North East And Yorkshire</td>\n      <td>0</td>\n      <td>0</td>\n      <td>0</td>\n      <td>0</td>\n      <td>0</td>\n      <td>0</td>\n      <td>0</td>\n      <td>0</td>\n      <td>0</td>\n      <td>...</td>\n      <td>54</td>\n      <td>47</td>\n      <td>48</td>\n      <td>33</td>\n      <td>50</td>\n      <td>41</td>\n      <td>41</td>\n      <td>39</td>\n      <td>31</td>\n      <td>8</td>\n    </tr>\n    <tr>\n      <th>4</th>\n      <td>North West</td>\n      <td>0</td>\n      <td>0</td>\n      <td>1</td>\n      <td>0</td>\n      <td>1</td>\n      <td>0</td>\n      <td>0</td>\n      <td>0</td>\n      <td>2</td>\n      <td>...</td>\n      <td>46</td>\n      <td>45</td>\n      <td>36</td>\n      <td>47</td>\n      <td>47</td>\n      <td>41</td>\n      <td>29</td>\n      <td>23</td>\n      <td>24</td>\n      <td>4</td>\n    </tr>\n    <tr>\n      <th>5</th>\n      <td>South East</td>\n      <td>0</td>\n      <td>1</td>\n      <td>1</td>\n      <td>0</td>\n      <td>1</td>\n      <td>1</td>\n      <td>1</td>\n      <td>1</td>\n      <td>0</td>\n      <td>...</td>\n      <td>38</td>\n      <td>34</td>\n      <td>44</td>\n      <td>54</td>\n      <td>51</td>\n      <td>56</td>\n      <td>33</td>\n      <td>39</td>\n      <td>28</td>\n      <td>8</td>\n    </tr>\n    <tr>\n      <th>6</th>\n      <td>South West</td>\n      <td>0</td>\n      <td>0</td>\n      <td>0</td>\n      <td>0</td>\n      <td>0</td>\n      <td>0</td>\n      <td>0</td>\n      <td>1</td>\n      <td>0</td>\n      <td>...</td>\n      <td>8</td>\n      <td>20</td>\n      <td>17</td>\n      <td>20</td>\n      <td>10</td>\n      <td>11</td>\n      <td>9</td>\n      <td>4</td>\n      <td>10</td>\n      <td>2</td>\n    </tr>\n  </tbody>\n</table>\n<p>7 rows × 300 columns</p>\n</div>"
     },
     "execution_count": 11,
     "metadata": {},
     "output_type": "execute_result"
    }
   ],
   "source": [
    "def remove_col_if_sum_0(df):\n",
    "    for column in df:\n",
    "        if df[column].sum() == 0:\n",
    "            df.drop(column, axis=1, inplace=True)\n",
    "\n",
    "remove_col_if_sum_0(df_daily_deaths)\n",
    "df_daily_deaths\n",
    "\n"
   ],
   "metadata": {
    "collapsed": false,
    "pycharm": {
     "name": "#%%\n"
    }
   }
  },
  {
   "cell_type": "markdown",
   "source": [
    "### Saving cleaned data to Processed folder"
   ],
   "metadata": {
    "collapsed": false,
    "pycharm": {
     "name": "#%% md\n"
    }
   }
  },
  {
   "cell_type": "code",
   "execution_count": 12,
   "outputs": [],
   "source": [
    "df_daily_deaths.to_csv('Data/Processed/daily_deaths.csv')"
   ],
   "metadata": {
    "collapsed": false,
    "pycharm": {
     "name": "#%%\n"
    }
   }
  }
 ],
 "metadata": {
  "kernelspec": {
   "display_name": "Python 3",
   "language": "python",
   "name": "python3"
  },
  "language_info": {
   "codemirror_mode": {
    "name": "ipython",
    "version": 2
   },
   "file_extension": ".py",
   "mimetype": "text/x-python",
   "name": "python",
   "nbconvert_exporter": "python",
   "pygments_lexer": "ipython2",
   "version": "2.7.6"
  }
 },
 "nbformat": 4,
 "nbformat_minor": 0
}