{
 "cells": [
  {
   "cell_type": "markdown",
   "metadata": {
    "collapsed": true,
    "pycharm": {
     "name": "#%% md\n"
    }
   },
   "source": [
    "### Importing of modules and packages"
   ]
  },
  {
   "cell_type": "code",
   "execution_count": null,
   "outputs": [],
   "source": [
    "import pandas as pd\n",
    "import matplotlib.pyplot as plt\n",
    "from datetime import datetime\n"
   ],
   "metadata": {
    "collapsed": false,
    "pycharm": {
     "name": "#%%\n"
    }
   }
  },
  {
   "cell_type": "code",
   "execution_count": null,
   "outputs": [],
   "source": [
    "df_postive_cases = pd.read_excel(r'/Users/ivan/Desktop/PycharmProjects/Data_Science_Mini/Data/raw/covid19infectionsurveydatasets2020122423122020174305.xlsx',\n",
    "                                 sheet_name='1a',\n",
    "                                 engine='openpyxl')\n",
    "\n",
    "# remove unwanted rows\n",
    "df_postive_cases = df_postive_cases[17:41].reindex()\n",
    "\n",
    "# remove unwanted columns\n",
    "column_list = ['Unnamed: 1', 'Unnamed: 2','Unnamed: 3','Unnamed: 5','Unnamed: 6','Unnamed: 8','Unnamed: 9',]\n",
    "df_postive_cases = df_postive_cases.drop(column_list, axis=1)\n",
    "\n",
    "# remove empty columns\n",
    "df_postive_cases = df_postive_cases.loc[:,:'Unnamed: 7']\n",
    "\n",
    "# rename columns\n",
    "df_postive_cases = df_postive_cases.rename(columns={'Contents': 'Date',\n",
    "                                                    'Unnamed: 4': 'Estimate of number testing positive',\n",
    "                                                    'Unnamed: 7': 'Proportion of population that had COVID'})"
   ],
   "metadata": {
    "collapsed": false,
    "pycharm": {
     "name": "#%%\n"
    }
   }
  },
  {
   "cell_type": "code",
   "execution_count": null,
   "outputs": [],
   "source": [
    "# function to turn ratio (like '1 in 2000') into a decimal\n",
    "def convert_ratio(x):\n",
    "    a,b = x.split('in')\n",
    "    c = int(a) / int(b)\n",
    "    return c"
   ],
   "metadata": {
    "collapsed": false,
    "pycharm": {
     "name": "#%%\n"
    }
   }
  },
  {
   "cell_type": "code",
   "execution_count": null,
   "outputs": [],
   "source": [
    "# lambda function to remove the commas (for example replace 1,200 with 1200)\n",
    "df_postive_cases['Proportion of population that had COVID'] = df_postive_cases['Proportion of population that had COVID'].map(lambda x: x.replace(',',''))\n",
    "\n",
    "df_postive_cases['Proportion of population that had COVID'] = df_postive_cases['Proportion of population that had COVID'].apply(convert_ratio)\n",
    "df_postive_cases.reset_index(drop=True, inplace=True)\n",
    "df_postive_cases"
   ],
   "metadata": {
    "collapsed": false,
    "pycharm": {
     "name": "#%%\n"
    }
   }
  },
  {
   "cell_type": "code",
   "execution_count": null,
   "outputs": [],
   "source": [
    "# function to convert '28 November' to 28/11/2020\n",
    "# default year of 1900 needs replacing\n",
    "def convert_date(x):\n",
    "    x = datetime.strptime(x,\"%d %B\").strftime('%d/%m/%Y')\n",
    "    x = x.replace('1900','2020')\n",
    "    return x"
   ],
   "metadata": {
    "collapsed": false,
    "pycharm": {
     "name": "#%%\n"
    }
   }
  },
  {
   "cell_type": "code",
   "execution_count": null,
   "outputs": [],
   "source": [
    "# make a copy of the Series (column named 'Date') to avoid the warning 'A value is trying to be set on a copy of a slice from a DataFrame'\n",
    "df_copy = df_postive_cases['Date'].copy()\n",
    "\n",
    "# iterate over 'Date' series and replace with last date (i.e. 06 July to 12 July replaced with 12/07/2020)\n",
    "\n",
    "for i in range(df_postive_cases['Date'].size):\n",
    "    date = df_postive_cases['Date'].iloc[i].split(' to ')[1]\n",
    "    date = date.strip()\n",
    "    df_copy.iloc[i] = convert_date(date)\n",
    "\n",
    "# reassign Series back into dataframe\n",
    "df_postive_cases['Date'] = df_copy\n",
    "\n",
    "# colour the values in the style of a bar chart\n",
    "df_postive_cases.style.bar(subset=['Estimate of number testing positive'], align='mid', color=['#ffAAAA'])"
   ],
   "metadata": {
    "collapsed": false,
    "pycharm": {
     "name": "#%%\n"
    }
   }
  }
 ],
 "metadata": {
  "kernelspec": {
   "display_name": "Python 3",
   "language": "python",
   "name": "python3"
  },
  "language_info": {
   "codemirror_mode": {
    "name": "ipython",
    "version": 2
   },
   "file_extension": ".py",
   "mimetype": "text/x-python",
   "name": "python",
   "nbconvert_exporter": "python",
   "pygments_lexer": "ipython2",
   "version": "2.7.6"
  }
 },
 "nbformat": 4,
 "nbformat_minor": 0
}