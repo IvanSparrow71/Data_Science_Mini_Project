{
 "cells": [
  {
   "cell_type": "markdown",
   "metadata": {
    "collapsed": true,
    "pycharm": {
     "name": "#%% md\n"
    }
   },
   "source": [
    "### Importing of modules and packages"
   ]
  },
  {
   "cell_type": "code",
   "execution_count": 16,
   "outputs": [],
   "source": [
    "import pandas as pd\n",
    "import matplotlib.pyplot as plt\n",
    "from datetime import datetime\n"
   ],
   "metadata": {
    "collapsed": false,
    "pycharm": {
     "name": "#%%\n"
    }
   }
  },
  {
   "cell_type": "code",
   "execution_count": 17,
   "outputs": [],
   "source": [
    "df_postive_cases = pd.read_excel(r'/Users/ivan/Desktop/PycharmProjects/Data_Science_Mini/Data/raw/covid19infectionsurveydatasets2020122423122020174305.xlsx',\n",
    "                                 sheet_name='1a',\n",
    "                                 engine='openpyxl')\n",
    "\n",
    "# remove unwanted rows\n",
    "df_postive_cases = df_postive_cases[17:41].reindex()\n",
    "\n",
    "# remove unwanted columns\n",
    "column_list = ['Unnamed: 1', 'Unnamed: 2','Unnamed: 3','Unnamed: 5','Unnamed: 6','Unnamed: 8','Unnamed: 9',]\n",
    "df_postive_cases = df_postive_cases.drop(column_list, axis=1)\n",
    "\n",
    "# remove empty columns\n",
    "df_postive_cases = df_postive_cases.loc[:,:'Unnamed: 7']\n",
    "\n",
    "# rename columns\n",
    "df_postive_cases = df_postive_cases.rename(columns={'Contents': 'Date',\n",
    "                                                    'Unnamed: 4': 'Estimate of number testing positive',\n",
    "                                                    'Unnamed: 7': 'Proportion of population that had COVID'})"
   ],
   "metadata": {
    "collapsed": false,
    "pycharm": {
     "name": "#%%\n"
    }
   }
  },
  {
   "cell_type": "code",
   "execution_count": 18,
   "outputs": [],
   "source": [
    "# function to turn ratio (like '1 in 2000') into a decimal\n",
    "def convert_ratio(x):\n",
    "    a,b = x.split('in')\n",
    "    c = int(a) / int(b)\n",
    "    return c"
   ],
   "metadata": {
    "collapsed": false,
    "pycharm": {
     "name": "#%%\n"
    }
   }
  },
  {
   "cell_type": "code",
   "execution_count": 19,
   "outputs": [
    {
     "data": {
      "text/plain": "                            Date Estimate of number testing positive  \\\n0             06 July to 12 July                               23600   \n1             13 July to 19 July                               27700   \n2             20 July to 26 July                               35700   \n3            27 July to 2 August                               28300   \n4         03 August to 09 August                               28300   \n5         07 August to 13 August                               24600   \n6         14 August to 20 August                               28200   \n7         19 August to 25 August                               27100   \n8      30 August to 05 September                               39700   \n9   04 September to 10 September                               59800   \n10  13 September to 19 September                              103600   \n11  18 September to 24 September                              116600   \n12    25 September to 01 October                              224400   \n13      02 October to 08 October                              336500   \n14      10 October to 16 October                              433300   \n15      17 October to 23 October                              568100   \n16      25 October to 31 October                              618700   \n17     31 October to 06 November                              654000   \n18    08 November to 14 November                              664700   \n19    15 November to 21 November                              633000   \n20    22 November to 28 November                              521300   \n21    29 November to 05 December                              481500   \n22    06 December to 12 December                              567300   \n23    12 December to 18 December                              645800   \n\n    Proportion of population that had COVID  \n0                                  0.000435  \n1                                  0.000500  \n2                                  0.000667  \n3                                  0.000526  \n4                                  0.000526  \n5                                  0.000455  \n6                                  0.000526  \n7                                  0.000500  \n8                                  0.000714  \n9                                  0.001111  \n10                                 0.002000  \n11                                 0.002128  \n12                                 0.004167  \n13                                 0.006250  \n14                                 0.007692  \n15                                 0.010000  \n16                                 0.011111  \n17                                 0.011765  \n18                                 0.012500  \n19                                 0.011765  \n20                                 0.009524  \n21                                 0.008696  \n22                                 0.010526  \n23                                 0.011765  ",
      "text/html": "<div>\n<style scoped>\n    .dataframe tbody tr th:only-of-type {\n        vertical-align: middle;\n    }\n\n    .dataframe tbody tr th {\n        vertical-align: top;\n    }\n\n    .dataframe thead th {\n        text-align: right;\n    }\n</style>\n<table border=\"1\" class=\"dataframe\">\n  <thead>\n    <tr style=\"text-align: right;\">\n      <th></th>\n      <th>Date</th>\n      <th>Estimate of number testing positive</th>\n      <th>Proportion of population that had COVID</th>\n    </tr>\n  </thead>\n  <tbody>\n    <tr>\n      <th>0</th>\n      <td>06 July to 12 July</td>\n      <td>23600</td>\n      <td>0.000435</td>\n    </tr>\n    <tr>\n      <th>1</th>\n      <td>13 July to 19 July</td>\n      <td>27700</td>\n      <td>0.000500</td>\n    </tr>\n    <tr>\n      <th>2</th>\n      <td>20 July to 26 July</td>\n      <td>35700</td>\n      <td>0.000667</td>\n    </tr>\n    <tr>\n      <th>3</th>\n      <td>27 July to 2 August</td>\n      <td>28300</td>\n      <td>0.000526</td>\n    </tr>\n    <tr>\n      <th>4</th>\n      <td>03 August to 09 August</td>\n      <td>28300</td>\n      <td>0.000526</td>\n    </tr>\n    <tr>\n      <th>5</th>\n      <td>07 August to 13 August</td>\n      <td>24600</td>\n      <td>0.000455</td>\n    </tr>\n    <tr>\n      <th>6</th>\n      <td>14 August to 20 August</td>\n      <td>28200</td>\n      <td>0.000526</td>\n    </tr>\n    <tr>\n      <th>7</th>\n      <td>19 August to 25 August</td>\n      <td>27100</td>\n      <td>0.000500</td>\n    </tr>\n    <tr>\n      <th>8</th>\n      <td>30 August to 05 September</td>\n      <td>39700</td>\n      <td>0.000714</td>\n    </tr>\n    <tr>\n      <th>9</th>\n      <td>04 September to 10 September</td>\n      <td>59800</td>\n      <td>0.001111</td>\n    </tr>\n    <tr>\n      <th>10</th>\n      <td>13 September to 19 September</td>\n      <td>103600</td>\n      <td>0.002000</td>\n    </tr>\n    <tr>\n      <th>11</th>\n      <td>18 September to 24 September</td>\n      <td>116600</td>\n      <td>0.002128</td>\n    </tr>\n    <tr>\n      <th>12</th>\n      <td>25 September to 01 October</td>\n      <td>224400</td>\n      <td>0.004167</td>\n    </tr>\n    <tr>\n      <th>13</th>\n      <td>02 October to 08 October</td>\n      <td>336500</td>\n      <td>0.006250</td>\n    </tr>\n    <tr>\n      <th>14</th>\n      <td>10 October to 16 October</td>\n      <td>433300</td>\n      <td>0.007692</td>\n    </tr>\n    <tr>\n      <th>15</th>\n      <td>17 October to 23 October</td>\n      <td>568100</td>\n      <td>0.010000</td>\n    </tr>\n    <tr>\n      <th>16</th>\n      <td>25 October to 31 October</td>\n      <td>618700</td>\n      <td>0.011111</td>\n    </tr>\n    <tr>\n      <th>17</th>\n      <td>31 October to 06 November</td>\n      <td>654000</td>\n      <td>0.011765</td>\n    </tr>\n    <tr>\n      <th>18</th>\n      <td>08 November to 14 November</td>\n      <td>664700</td>\n      <td>0.012500</td>\n    </tr>\n    <tr>\n      <th>19</th>\n      <td>15 November to 21 November</td>\n      <td>633000</td>\n      <td>0.011765</td>\n    </tr>\n    <tr>\n      <th>20</th>\n      <td>22 November to 28 November</td>\n      <td>521300</td>\n      <td>0.009524</td>\n    </tr>\n    <tr>\n      <th>21</th>\n      <td>29 November to 05 December</td>\n      <td>481500</td>\n      <td>0.008696</td>\n    </tr>\n    <tr>\n      <th>22</th>\n      <td>06 December to 12 December</td>\n      <td>567300</td>\n      <td>0.010526</td>\n    </tr>\n    <tr>\n      <th>23</th>\n      <td>12 December to 18 December</td>\n      <td>645800</td>\n      <td>0.011765</td>\n    </tr>\n  </tbody>\n</table>\n</div>"
     },
     "execution_count": 19,
     "metadata": {},
     "output_type": "execute_result"
    }
   ],
   "source": [
    "# lambda function to remove the commas (for example replace 1,200 with 1200)\n",
    "df_postive_cases['Proportion of population that had COVID'] = df_postive_cases['Proportion of population that had COVID'].map(lambda x: x.replace(',',''))\n",
    "\n",
    "df_postive_cases['Proportion of population that had COVID'] = df_postive_cases['Proportion of population that had COVID'].apply(convert_ratio)\n",
    "df_postive_cases.reset_index(drop=True, inplace=True)\n",
    "df_postive_cases"
   ],
   "metadata": {
    "collapsed": false,
    "pycharm": {
     "name": "#%%\n"
    }
   }
  },
  {
   "cell_type": "code",
   "execution_count": 20,
   "outputs": [],
   "source": [
    "# function to convert '28 November' to 28/11/2020\n",
    "# default year of 1900 needs replacing\n",
    "def convert_date(x):\n",
    "    x = datetime.strptime(x,\"%d %B\").strftime('%d/%m/%Y')\n",
    "    x = x.replace('1900','2020')\n",
    "    return x"
   ],
   "metadata": {
    "collapsed": false,
    "pycharm": {
     "name": "#%%\n"
    }
   }
  },
  {
   "cell_type": "code",
   "execution_count": 21,
   "outputs": [
    {
     "data": {
      "text/plain": "<pandas.io.formats.style.Styler at 0x7f9301b12af0>",
      "text/html": "<style  type=\"text/css\" >\n#T_41f87efc_49be_11eb_afd9_8c2daa487df9row0_col1{\n            width:  10em;\n             height:  80%;\n            background:  linear-gradient(90deg,#ffAAAA 3.6%, transparent 3.6%);\n        }#T_41f87efc_49be_11eb_afd9_8c2daa487df9row1_col1,#T_41f87efc_49be_11eb_afd9_8c2daa487df9row6_col1{\n            width:  10em;\n             height:  80%;\n            background:  linear-gradient(90deg,#ffAAAA 4.2%, transparent 4.2%);\n        }#T_41f87efc_49be_11eb_afd9_8c2daa487df9row2_col1{\n            width:  10em;\n             height:  80%;\n            background:  linear-gradient(90deg,#ffAAAA 5.4%, transparent 5.4%);\n        }#T_41f87efc_49be_11eb_afd9_8c2daa487df9row3_col1,#T_41f87efc_49be_11eb_afd9_8c2daa487df9row4_col1{\n            width:  10em;\n             height:  80%;\n            background:  linear-gradient(90deg,#ffAAAA 4.3%, transparent 4.3%);\n        }#T_41f87efc_49be_11eb_afd9_8c2daa487df9row5_col1{\n            width:  10em;\n             height:  80%;\n            background:  linear-gradient(90deg,#ffAAAA 3.7%, transparent 3.7%);\n        }#T_41f87efc_49be_11eb_afd9_8c2daa487df9row7_col1{\n            width:  10em;\n             height:  80%;\n            background:  linear-gradient(90deg,#ffAAAA 4.1%, transparent 4.1%);\n        }#T_41f87efc_49be_11eb_afd9_8c2daa487df9row8_col1{\n            width:  10em;\n             height:  80%;\n            background:  linear-gradient(90deg,#ffAAAA 6.0%, transparent 6.0%);\n        }#T_41f87efc_49be_11eb_afd9_8c2daa487df9row9_col1{\n            width:  10em;\n             height:  80%;\n            background:  linear-gradient(90deg,#ffAAAA 9.0%, transparent 9.0%);\n        }#T_41f87efc_49be_11eb_afd9_8c2daa487df9row10_col1{\n            width:  10em;\n             height:  80%;\n            background:  linear-gradient(90deg,#ffAAAA 15.6%, transparent 15.6%);\n        }#T_41f87efc_49be_11eb_afd9_8c2daa487df9row11_col1{\n            width:  10em;\n             height:  80%;\n            background:  linear-gradient(90deg,#ffAAAA 17.5%, transparent 17.5%);\n        }#T_41f87efc_49be_11eb_afd9_8c2daa487df9row12_col1{\n            width:  10em;\n             height:  80%;\n            background:  linear-gradient(90deg,#ffAAAA 33.8%, transparent 33.8%);\n        }#T_41f87efc_49be_11eb_afd9_8c2daa487df9row13_col1{\n            width:  10em;\n             height:  80%;\n            background:  linear-gradient(90deg,#ffAAAA 50.6%, transparent 50.6%);\n        }#T_41f87efc_49be_11eb_afd9_8c2daa487df9row14_col1{\n            width:  10em;\n             height:  80%;\n            background:  linear-gradient(90deg,#ffAAAA 65.2%, transparent 65.2%);\n        }#T_41f87efc_49be_11eb_afd9_8c2daa487df9row15_col1{\n            width:  10em;\n             height:  80%;\n            background:  linear-gradient(90deg,#ffAAAA 85.5%, transparent 85.5%);\n        }#T_41f87efc_49be_11eb_afd9_8c2daa487df9row16_col1{\n            width:  10em;\n             height:  80%;\n            background:  linear-gradient(90deg,#ffAAAA 93.1%, transparent 93.1%);\n        }#T_41f87efc_49be_11eb_afd9_8c2daa487df9row17_col1{\n            width:  10em;\n             height:  80%;\n            background:  linear-gradient(90deg,#ffAAAA 98.4%, transparent 98.4%);\n        }#T_41f87efc_49be_11eb_afd9_8c2daa487df9row18_col1{\n            width:  10em;\n             height:  80%;\n            background:  linear-gradient(90deg,#ffAAAA 100.0%, transparent 100.0%);\n        }#T_41f87efc_49be_11eb_afd9_8c2daa487df9row19_col1{\n            width:  10em;\n             height:  80%;\n            background:  linear-gradient(90deg,#ffAAAA 95.2%, transparent 95.2%);\n        }#T_41f87efc_49be_11eb_afd9_8c2daa487df9row20_col1{\n            width:  10em;\n             height:  80%;\n            background:  linear-gradient(90deg,#ffAAAA 78.4%, transparent 78.4%);\n        }#T_41f87efc_49be_11eb_afd9_8c2daa487df9row21_col1{\n            width:  10em;\n             height:  80%;\n            background:  linear-gradient(90deg,#ffAAAA 72.4%, transparent 72.4%);\n        }#T_41f87efc_49be_11eb_afd9_8c2daa487df9row22_col1{\n            width:  10em;\n             height:  80%;\n            background:  linear-gradient(90deg,#ffAAAA 85.3%, transparent 85.3%);\n        }#T_41f87efc_49be_11eb_afd9_8c2daa487df9row23_col1{\n            width:  10em;\n             height:  80%;\n            background:  linear-gradient(90deg,#ffAAAA 97.2%, transparent 97.2%);\n        }</style><table id=\"T_41f87efc_49be_11eb_afd9_8c2daa487df9\" ><thead>    <tr>        <th class=\"blank level0\" ></th>        <th class=\"col_heading level0 col0\" >Date</th>        <th class=\"col_heading level0 col1\" >Estimate of number testing positive</th>        <th class=\"col_heading level0 col2\" >Proportion of population that had COVID</th>    </tr></thead><tbody>\n                <tr>\n                        <th id=\"T_41f87efc_49be_11eb_afd9_8c2daa487df9level0_row0\" class=\"row_heading level0 row0\" >0</th>\n                        <td id=\"T_41f87efc_49be_11eb_afd9_8c2daa487df9row0_col0\" class=\"data row0 col0\" >12/07/2020</td>\n                        <td id=\"T_41f87efc_49be_11eb_afd9_8c2daa487df9row0_col1\" class=\"data row0 col1\" >23600</td>\n                        <td id=\"T_41f87efc_49be_11eb_afd9_8c2daa487df9row0_col2\" class=\"data row0 col2\" >0.000435</td>\n            </tr>\n            <tr>\n                        <th id=\"T_41f87efc_49be_11eb_afd9_8c2daa487df9level0_row1\" class=\"row_heading level0 row1\" >1</th>\n                        <td id=\"T_41f87efc_49be_11eb_afd9_8c2daa487df9row1_col0\" class=\"data row1 col0\" >19/07/2020</td>\n                        <td id=\"T_41f87efc_49be_11eb_afd9_8c2daa487df9row1_col1\" class=\"data row1 col1\" >27700</td>\n                        <td id=\"T_41f87efc_49be_11eb_afd9_8c2daa487df9row1_col2\" class=\"data row1 col2\" >0.000500</td>\n            </tr>\n            <tr>\n                        <th id=\"T_41f87efc_49be_11eb_afd9_8c2daa487df9level0_row2\" class=\"row_heading level0 row2\" >2</th>\n                        <td id=\"T_41f87efc_49be_11eb_afd9_8c2daa487df9row2_col0\" class=\"data row2 col0\" >26/07/2020</td>\n                        <td id=\"T_41f87efc_49be_11eb_afd9_8c2daa487df9row2_col1\" class=\"data row2 col1\" >35700</td>\n                        <td id=\"T_41f87efc_49be_11eb_afd9_8c2daa487df9row2_col2\" class=\"data row2 col2\" >0.000667</td>\n            </tr>\n            <tr>\n                        <th id=\"T_41f87efc_49be_11eb_afd9_8c2daa487df9level0_row3\" class=\"row_heading level0 row3\" >3</th>\n                        <td id=\"T_41f87efc_49be_11eb_afd9_8c2daa487df9row3_col0\" class=\"data row3 col0\" >02/08/2020</td>\n                        <td id=\"T_41f87efc_49be_11eb_afd9_8c2daa487df9row3_col1\" class=\"data row3 col1\" >28300</td>\n                        <td id=\"T_41f87efc_49be_11eb_afd9_8c2daa487df9row3_col2\" class=\"data row3 col2\" >0.000526</td>\n            </tr>\n            <tr>\n                        <th id=\"T_41f87efc_49be_11eb_afd9_8c2daa487df9level0_row4\" class=\"row_heading level0 row4\" >4</th>\n                        <td id=\"T_41f87efc_49be_11eb_afd9_8c2daa487df9row4_col0\" class=\"data row4 col0\" >09/08/2020</td>\n                        <td id=\"T_41f87efc_49be_11eb_afd9_8c2daa487df9row4_col1\" class=\"data row4 col1\" >28300</td>\n                        <td id=\"T_41f87efc_49be_11eb_afd9_8c2daa487df9row4_col2\" class=\"data row4 col2\" >0.000526</td>\n            </tr>\n            <tr>\n                        <th id=\"T_41f87efc_49be_11eb_afd9_8c2daa487df9level0_row5\" class=\"row_heading level0 row5\" >5</th>\n                        <td id=\"T_41f87efc_49be_11eb_afd9_8c2daa487df9row5_col0\" class=\"data row5 col0\" >13/08/2020</td>\n                        <td id=\"T_41f87efc_49be_11eb_afd9_8c2daa487df9row5_col1\" class=\"data row5 col1\" >24600</td>\n                        <td id=\"T_41f87efc_49be_11eb_afd9_8c2daa487df9row5_col2\" class=\"data row5 col2\" >0.000455</td>\n            </tr>\n            <tr>\n                        <th id=\"T_41f87efc_49be_11eb_afd9_8c2daa487df9level0_row6\" class=\"row_heading level0 row6\" >6</th>\n                        <td id=\"T_41f87efc_49be_11eb_afd9_8c2daa487df9row6_col0\" class=\"data row6 col0\" >20/08/2020</td>\n                        <td id=\"T_41f87efc_49be_11eb_afd9_8c2daa487df9row6_col1\" class=\"data row6 col1\" >28200</td>\n                        <td id=\"T_41f87efc_49be_11eb_afd9_8c2daa487df9row6_col2\" class=\"data row6 col2\" >0.000526</td>\n            </tr>\n            <tr>\n                        <th id=\"T_41f87efc_49be_11eb_afd9_8c2daa487df9level0_row7\" class=\"row_heading level0 row7\" >7</th>\n                        <td id=\"T_41f87efc_49be_11eb_afd9_8c2daa487df9row7_col0\" class=\"data row7 col0\" >25/08/2020</td>\n                        <td id=\"T_41f87efc_49be_11eb_afd9_8c2daa487df9row7_col1\" class=\"data row7 col1\" >27100</td>\n                        <td id=\"T_41f87efc_49be_11eb_afd9_8c2daa487df9row7_col2\" class=\"data row7 col2\" >0.000500</td>\n            </tr>\n            <tr>\n                        <th id=\"T_41f87efc_49be_11eb_afd9_8c2daa487df9level0_row8\" class=\"row_heading level0 row8\" >8</th>\n                        <td id=\"T_41f87efc_49be_11eb_afd9_8c2daa487df9row8_col0\" class=\"data row8 col0\" >05/09/2020</td>\n                        <td id=\"T_41f87efc_49be_11eb_afd9_8c2daa487df9row8_col1\" class=\"data row8 col1\" >39700</td>\n                        <td id=\"T_41f87efc_49be_11eb_afd9_8c2daa487df9row8_col2\" class=\"data row8 col2\" >0.000714</td>\n            </tr>\n            <tr>\n                        <th id=\"T_41f87efc_49be_11eb_afd9_8c2daa487df9level0_row9\" class=\"row_heading level0 row9\" >9</th>\n                        <td id=\"T_41f87efc_49be_11eb_afd9_8c2daa487df9row9_col0\" class=\"data row9 col0\" >10/09/2020</td>\n                        <td id=\"T_41f87efc_49be_11eb_afd9_8c2daa487df9row9_col1\" class=\"data row9 col1\" >59800</td>\n                        <td id=\"T_41f87efc_49be_11eb_afd9_8c2daa487df9row9_col2\" class=\"data row9 col2\" >0.001111</td>\n            </tr>\n            <tr>\n                        <th id=\"T_41f87efc_49be_11eb_afd9_8c2daa487df9level0_row10\" class=\"row_heading level0 row10\" >10</th>\n                        <td id=\"T_41f87efc_49be_11eb_afd9_8c2daa487df9row10_col0\" class=\"data row10 col0\" >19/09/2020</td>\n                        <td id=\"T_41f87efc_49be_11eb_afd9_8c2daa487df9row10_col1\" class=\"data row10 col1\" >103600</td>\n                        <td id=\"T_41f87efc_49be_11eb_afd9_8c2daa487df9row10_col2\" class=\"data row10 col2\" >0.002000</td>\n            </tr>\n            <tr>\n                        <th id=\"T_41f87efc_49be_11eb_afd9_8c2daa487df9level0_row11\" class=\"row_heading level0 row11\" >11</th>\n                        <td id=\"T_41f87efc_49be_11eb_afd9_8c2daa487df9row11_col0\" class=\"data row11 col0\" >24/09/2020</td>\n                        <td id=\"T_41f87efc_49be_11eb_afd9_8c2daa487df9row11_col1\" class=\"data row11 col1\" >116600</td>\n                        <td id=\"T_41f87efc_49be_11eb_afd9_8c2daa487df9row11_col2\" class=\"data row11 col2\" >0.002128</td>\n            </tr>\n            <tr>\n                        <th id=\"T_41f87efc_49be_11eb_afd9_8c2daa487df9level0_row12\" class=\"row_heading level0 row12\" >12</th>\n                        <td id=\"T_41f87efc_49be_11eb_afd9_8c2daa487df9row12_col0\" class=\"data row12 col0\" >01/10/2020</td>\n                        <td id=\"T_41f87efc_49be_11eb_afd9_8c2daa487df9row12_col1\" class=\"data row12 col1\" >224400</td>\n                        <td id=\"T_41f87efc_49be_11eb_afd9_8c2daa487df9row12_col2\" class=\"data row12 col2\" >0.004167</td>\n            </tr>\n            <tr>\n                        <th id=\"T_41f87efc_49be_11eb_afd9_8c2daa487df9level0_row13\" class=\"row_heading level0 row13\" >13</th>\n                        <td id=\"T_41f87efc_49be_11eb_afd9_8c2daa487df9row13_col0\" class=\"data row13 col0\" >08/10/2020</td>\n                        <td id=\"T_41f87efc_49be_11eb_afd9_8c2daa487df9row13_col1\" class=\"data row13 col1\" >336500</td>\n                        <td id=\"T_41f87efc_49be_11eb_afd9_8c2daa487df9row13_col2\" class=\"data row13 col2\" >0.006250</td>\n            </tr>\n            <tr>\n                        <th id=\"T_41f87efc_49be_11eb_afd9_8c2daa487df9level0_row14\" class=\"row_heading level0 row14\" >14</th>\n                        <td id=\"T_41f87efc_49be_11eb_afd9_8c2daa487df9row14_col0\" class=\"data row14 col0\" >16/10/2020</td>\n                        <td id=\"T_41f87efc_49be_11eb_afd9_8c2daa487df9row14_col1\" class=\"data row14 col1\" >433300</td>\n                        <td id=\"T_41f87efc_49be_11eb_afd9_8c2daa487df9row14_col2\" class=\"data row14 col2\" >0.007692</td>\n            </tr>\n            <tr>\n                        <th id=\"T_41f87efc_49be_11eb_afd9_8c2daa487df9level0_row15\" class=\"row_heading level0 row15\" >15</th>\n                        <td id=\"T_41f87efc_49be_11eb_afd9_8c2daa487df9row15_col0\" class=\"data row15 col0\" >23/10/2020</td>\n                        <td id=\"T_41f87efc_49be_11eb_afd9_8c2daa487df9row15_col1\" class=\"data row15 col1\" >568100</td>\n                        <td id=\"T_41f87efc_49be_11eb_afd9_8c2daa487df9row15_col2\" class=\"data row15 col2\" >0.010000</td>\n            </tr>\n            <tr>\n                        <th id=\"T_41f87efc_49be_11eb_afd9_8c2daa487df9level0_row16\" class=\"row_heading level0 row16\" >16</th>\n                        <td id=\"T_41f87efc_49be_11eb_afd9_8c2daa487df9row16_col0\" class=\"data row16 col0\" >31/10/2020</td>\n                        <td id=\"T_41f87efc_49be_11eb_afd9_8c2daa487df9row16_col1\" class=\"data row16 col1\" >618700</td>\n                        <td id=\"T_41f87efc_49be_11eb_afd9_8c2daa487df9row16_col2\" class=\"data row16 col2\" >0.011111</td>\n            </tr>\n            <tr>\n                        <th id=\"T_41f87efc_49be_11eb_afd9_8c2daa487df9level0_row17\" class=\"row_heading level0 row17\" >17</th>\n                        <td id=\"T_41f87efc_49be_11eb_afd9_8c2daa487df9row17_col0\" class=\"data row17 col0\" >06/11/2020</td>\n                        <td id=\"T_41f87efc_49be_11eb_afd9_8c2daa487df9row17_col1\" class=\"data row17 col1\" >654000</td>\n                        <td id=\"T_41f87efc_49be_11eb_afd9_8c2daa487df9row17_col2\" class=\"data row17 col2\" >0.011765</td>\n            </tr>\n            <tr>\n                        <th id=\"T_41f87efc_49be_11eb_afd9_8c2daa487df9level0_row18\" class=\"row_heading level0 row18\" >18</th>\n                        <td id=\"T_41f87efc_49be_11eb_afd9_8c2daa487df9row18_col0\" class=\"data row18 col0\" >14/11/2020</td>\n                        <td id=\"T_41f87efc_49be_11eb_afd9_8c2daa487df9row18_col1\" class=\"data row18 col1\" >664700</td>\n                        <td id=\"T_41f87efc_49be_11eb_afd9_8c2daa487df9row18_col2\" class=\"data row18 col2\" >0.012500</td>\n            </tr>\n            <tr>\n                        <th id=\"T_41f87efc_49be_11eb_afd9_8c2daa487df9level0_row19\" class=\"row_heading level0 row19\" >19</th>\n                        <td id=\"T_41f87efc_49be_11eb_afd9_8c2daa487df9row19_col0\" class=\"data row19 col0\" >21/11/2020</td>\n                        <td id=\"T_41f87efc_49be_11eb_afd9_8c2daa487df9row19_col1\" class=\"data row19 col1\" >633000</td>\n                        <td id=\"T_41f87efc_49be_11eb_afd9_8c2daa487df9row19_col2\" class=\"data row19 col2\" >0.011765</td>\n            </tr>\n            <tr>\n                        <th id=\"T_41f87efc_49be_11eb_afd9_8c2daa487df9level0_row20\" class=\"row_heading level0 row20\" >20</th>\n                        <td id=\"T_41f87efc_49be_11eb_afd9_8c2daa487df9row20_col0\" class=\"data row20 col0\" >28/11/2020</td>\n                        <td id=\"T_41f87efc_49be_11eb_afd9_8c2daa487df9row20_col1\" class=\"data row20 col1\" >521300</td>\n                        <td id=\"T_41f87efc_49be_11eb_afd9_8c2daa487df9row20_col2\" class=\"data row20 col2\" >0.009524</td>\n            </tr>\n            <tr>\n                        <th id=\"T_41f87efc_49be_11eb_afd9_8c2daa487df9level0_row21\" class=\"row_heading level0 row21\" >21</th>\n                        <td id=\"T_41f87efc_49be_11eb_afd9_8c2daa487df9row21_col0\" class=\"data row21 col0\" >05/12/2020</td>\n                        <td id=\"T_41f87efc_49be_11eb_afd9_8c2daa487df9row21_col1\" class=\"data row21 col1\" >481500</td>\n                        <td id=\"T_41f87efc_49be_11eb_afd9_8c2daa487df9row21_col2\" class=\"data row21 col2\" >0.008696</td>\n            </tr>\n            <tr>\n                        <th id=\"T_41f87efc_49be_11eb_afd9_8c2daa487df9level0_row22\" class=\"row_heading level0 row22\" >22</th>\n                        <td id=\"T_41f87efc_49be_11eb_afd9_8c2daa487df9row22_col0\" class=\"data row22 col0\" >12/12/2020</td>\n                        <td id=\"T_41f87efc_49be_11eb_afd9_8c2daa487df9row22_col1\" class=\"data row22 col1\" >567300</td>\n                        <td id=\"T_41f87efc_49be_11eb_afd9_8c2daa487df9row22_col2\" class=\"data row22 col2\" >0.010526</td>\n            </tr>\n            <tr>\n                        <th id=\"T_41f87efc_49be_11eb_afd9_8c2daa487df9level0_row23\" class=\"row_heading level0 row23\" >23</th>\n                        <td id=\"T_41f87efc_49be_11eb_afd9_8c2daa487df9row23_col0\" class=\"data row23 col0\" >18/12/2020</td>\n                        <td id=\"T_41f87efc_49be_11eb_afd9_8c2daa487df9row23_col1\" class=\"data row23 col1\" >645800</td>\n                        <td id=\"T_41f87efc_49be_11eb_afd9_8c2daa487df9row23_col2\" class=\"data row23 col2\" >0.011765</td>\n            </tr>\n    </tbody></table>"
     },
     "execution_count": 21,
     "metadata": {},
     "output_type": "execute_result"
    }
   ],
   "source": [
    "# make a copy of the Series (column named 'Date') to avoid the warning 'A value is trying to be set on a copy of a slice from a DataFrame'\n",
    "df_copy = df_postive_cases['Date'].copy()\n",
    "\n",
    "# iterate over 'Date' series and replace with last date (i.e. 06 July to 12 July replaced with 12/07/2020)\n",
    "\n",
    "for i in range(df_postive_cases['Date'].size):\n",
    "    date = df_postive_cases['Date'].iloc[i].split(' to ')[1]\n",
    "    date = date.strip()\n",
    "    df_copy.iloc[i] = convert_date(date)\n",
    "\n",
    "# reassign Series back into dataframe\n",
    "df_postive_cases['Date'] = df_copy\n",
    "\n",
    "# colour the values in the style of a bar chart\n",
    "df_postive_cases.style.bar(subset=['Estimate of number testing positive'], align='mid', color=['#ffAAAA'])"
   ],
   "metadata": {
    "collapsed": false,
    "pycharm": {
     "name": "#%%\n"
    }
   }
  },
  {
   "cell_type": "markdown",
   "source": [
    "### Save dataframe to be used in other notebooks (make Date column the index)"
   ],
   "metadata": {
    "collapsed": false,
    "pycharm": {
     "name": "#%%\nmd\n"
    }
   }
  },
  {
   "cell_type": "code",
   "execution_count": 24,
   "outputs": [],
   "source": [
    "df_postive_cases.set_index('Date', inplace=True)\n",
    "df_postive_cases.to_csv('positive_cases.csv')\n"
   ],
   "metadata": {
    "collapsed": false,
    "pycharm": {
     "name": "#%%\n"
    }
   }
  }
 ],
 "metadata": {
  "kernelspec": {
   "display_name": "Python 3",
   "language": "python",
   "name": "python3"
  },
  "language_info": {
   "codemirror_mode": {
    "name": "ipython",
    "version": 2
   },
   "file_extension": ".py",
   "mimetype": "text/x-python",
   "name": "python",
   "nbconvert_exporter": "python",
   "pygments_lexer": "ipython2",
   "version": "2.7.6"
  }
 },
 "nbformat": 4,
 "nbformat_minor": 0
}