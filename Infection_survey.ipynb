{
 "cells": [
  {
   "cell_type": "markdown",
   "metadata": {
    "collapsed": true,
    "pycharm": {
     "name": "#%% md\n"
    }
   },
   "source": [
    "### Importing of modules and packages"
   ]
  },
  {
   "cell_type": "code",
   "execution_count": 114,
   "outputs": [],
   "source": [
    "import pandas as pd\n",
    "import matplotlib.pyplot as plt\n",
    "from datetime import datetime"
   ],
   "metadata": {
    "collapsed": false,
    "pycharm": {
     "name": "#%%\n"
    }
   }
  },
  {
   "cell_type": "code",
   "execution_count": 115,
   "outputs": [],
   "source": [
    "df_postive_cases = pd.read_excel(r'/Users/ivan/Desktop/PycharmProjects/Data_Science_Mini/Data/raw/covid19infectionsurveydatasets2020122423122020174305.xlsx',\n",
    "                                 sheet_name='1a',\n",
    "                                 engine='openpyxl')\n",
    "\n",
    "# remove unwanted rows\n",
    "df_postive_cases = df_postive_cases[17:41].reindex()\n",
    "\n",
    "# remove unwanted columns\n",
    "column_list = ['Unnamed: 1', 'Unnamed: 2','Unnamed: 3','Unnamed: 5','Unnamed: 6','Unnamed: 8','Unnamed: 9',]\n",
    "df_postive_cases = df_postive_cases.drop(column_list, axis=1)\n",
    "\n",
    "# remove empty columns\n",
    "df_postive_cases = df_postive_cases.loc[:,:'Unnamed: 7']\n",
    "\n",
    "# rename columns\n",
    "df_postive_cases = df_postive_cases.rename(columns={'Contents': 'Date',\n",
    "                                                    'Unnamed: 4': 'Number testing positive',\n",
    "                                                    'Unnamed: 7': 'Proportion of population that had COVID'})"
   ],
   "metadata": {
    "collapsed": false,
    "pycharm": {
     "name": "#%%\n"
    }
   }
  },
  {
   "cell_type": "code",
   "execution_count": 116,
   "outputs": [],
   "source": [
    "# function to turn ratio (like '1 in 2000') into a decimal\n",
    "def convert_ratio(x):\n",
    "    a,b = x.split('in')\n",
    "    c = int(a) / int(b)\n",
    "    return c"
   ],
   "metadata": {
    "collapsed": false,
    "pycharm": {
     "name": "#%%\n"
    }
   }
  },
  {
   "cell_type": "code",
   "execution_count": 117,
   "outputs": [
    {
     "data": {
      "text/plain": "                            Date Number testing positive  \\\n17            06 July to 12 July                   23600   \n18            13 July to 19 July                   27700   \n19            20 July to 26 July                   35700   \n20           27 July to 2 August                   28300   \n21        03 August to 09 August                   28300   \n22        07 August to 13 August                   24600   \n23        14 August to 20 August                   28200   \n24        19 August to 25 August                   27100   \n25     30 August to 05 September                   39700   \n26  04 September to 10 September                   59800   \n27  13 September to 19 September                  103600   \n28  18 September to 24 September                  116600   \n29    25 September to 01 October                  224400   \n30      02 October to 08 October                  336500   \n31      10 October to 16 October                  433300   \n32      17 October to 23 October                  568100   \n33      25 October to 31 October                  618700   \n34     31 October to 06 November                  654000   \n35    08 November to 14 November                  664700   \n36    15 November to 21 November                  633000   \n37    22 November to 28 November                  521300   \n38    29 November to 05 December                  481500   \n39    06 December to 12 December                  567300   \n40    12 December to 18 December                  645800   \n\n    Proportion of population that had COVID  \n17                                 0.000435  \n18                                 0.000500  \n19                                 0.000667  \n20                                 0.000526  \n21                                 0.000526  \n22                                 0.000455  \n23                                 0.000526  \n24                                 0.000500  \n25                                 0.000714  \n26                                 0.001111  \n27                                 0.002000  \n28                                 0.002128  \n29                                 0.004167  \n30                                 0.006250  \n31                                 0.007692  \n32                                 0.010000  \n33                                 0.011111  \n34                                 0.011765  \n35                                 0.012500  \n36                                 0.011765  \n37                                 0.009524  \n38                                 0.008696  \n39                                 0.010526  \n40                                 0.011765  ",
      "text/html": "<div>\n<style scoped>\n    .dataframe tbody tr th:only-of-type {\n        vertical-align: middle;\n    }\n\n    .dataframe tbody tr th {\n        vertical-align: top;\n    }\n\n    .dataframe thead th {\n        text-align: right;\n    }\n</style>\n<table border=\"1\" class=\"dataframe\">\n  <thead>\n    <tr style=\"text-align: right;\">\n      <th></th>\n      <th>Date</th>\n      <th>Number testing positive</th>\n      <th>Proportion of population that had COVID</th>\n    </tr>\n  </thead>\n  <tbody>\n    <tr>\n      <th>17</th>\n      <td>06 July to 12 July</td>\n      <td>23600</td>\n      <td>0.000435</td>\n    </tr>\n    <tr>\n      <th>18</th>\n      <td>13 July to 19 July</td>\n      <td>27700</td>\n      <td>0.000500</td>\n    </tr>\n    <tr>\n      <th>19</th>\n      <td>20 July to 26 July</td>\n      <td>35700</td>\n      <td>0.000667</td>\n    </tr>\n    <tr>\n      <th>20</th>\n      <td>27 July to 2 August</td>\n      <td>28300</td>\n      <td>0.000526</td>\n    </tr>\n    <tr>\n      <th>21</th>\n      <td>03 August to 09 August</td>\n      <td>28300</td>\n      <td>0.000526</td>\n    </tr>\n    <tr>\n      <th>22</th>\n      <td>07 August to 13 August</td>\n      <td>24600</td>\n      <td>0.000455</td>\n    </tr>\n    <tr>\n      <th>23</th>\n      <td>14 August to 20 August</td>\n      <td>28200</td>\n      <td>0.000526</td>\n    </tr>\n    <tr>\n      <th>24</th>\n      <td>19 August to 25 August</td>\n      <td>27100</td>\n      <td>0.000500</td>\n    </tr>\n    <tr>\n      <th>25</th>\n      <td>30 August to 05 September</td>\n      <td>39700</td>\n      <td>0.000714</td>\n    </tr>\n    <tr>\n      <th>26</th>\n      <td>04 September to 10 September</td>\n      <td>59800</td>\n      <td>0.001111</td>\n    </tr>\n    <tr>\n      <th>27</th>\n      <td>13 September to 19 September</td>\n      <td>103600</td>\n      <td>0.002000</td>\n    </tr>\n    <tr>\n      <th>28</th>\n      <td>18 September to 24 September</td>\n      <td>116600</td>\n      <td>0.002128</td>\n    </tr>\n    <tr>\n      <th>29</th>\n      <td>25 September to 01 October</td>\n      <td>224400</td>\n      <td>0.004167</td>\n    </tr>\n    <tr>\n      <th>30</th>\n      <td>02 October to 08 October</td>\n      <td>336500</td>\n      <td>0.006250</td>\n    </tr>\n    <tr>\n      <th>31</th>\n      <td>10 October to 16 October</td>\n      <td>433300</td>\n      <td>0.007692</td>\n    </tr>\n    <tr>\n      <th>32</th>\n      <td>17 October to 23 October</td>\n      <td>568100</td>\n      <td>0.010000</td>\n    </tr>\n    <tr>\n      <th>33</th>\n      <td>25 October to 31 October</td>\n      <td>618700</td>\n      <td>0.011111</td>\n    </tr>\n    <tr>\n      <th>34</th>\n      <td>31 October to 06 November</td>\n      <td>654000</td>\n      <td>0.011765</td>\n    </tr>\n    <tr>\n      <th>35</th>\n      <td>08 November to 14 November</td>\n      <td>664700</td>\n      <td>0.012500</td>\n    </tr>\n    <tr>\n      <th>36</th>\n      <td>15 November to 21 November</td>\n      <td>633000</td>\n      <td>0.011765</td>\n    </tr>\n    <tr>\n      <th>37</th>\n      <td>22 November to 28 November</td>\n      <td>521300</td>\n      <td>0.009524</td>\n    </tr>\n    <tr>\n      <th>38</th>\n      <td>29 November to 05 December</td>\n      <td>481500</td>\n      <td>0.008696</td>\n    </tr>\n    <tr>\n      <th>39</th>\n      <td>06 December to 12 December</td>\n      <td>567300</td>\n      <td>0.010526</td>\n    </tr>\n    <tr>\n      <th>40</th>\n      <td>12 December to 18 December</td>\n      <td>645800</td>\n      <td>0.011765</td>\n    </tr>\n  </tbody>\n</table>\n</div>"
     },
     "execution_count": 117,
     "metadata": {},
     "output_type": "execute_result"
    }
   ],
   "source": [
    "df_postive_cases['Proportion of population that had COVID'] = df_postive_cases['Proportion of population that had COVID'].map(lambda x: x.replace(',',''))\n",
    "df_postive_cases\n",
    "df_postive_cases['Proportion of population that had COVID'] = df_postive_cases['Proportion of population that had COVID'].apply(convert_ratio)\n",
    "df_postive_cases"
   ],
   "metadata": {
    "collapsed": false,
    "pycharm": {
     "name": "#%%\n"
    }
   }
  },
  {
   "cell_type": "code",
   "execution_count": 133,
   "outputs": [
    {
     "name": "stdout",
     "output_type": "stream",
     "text": [
      "21/06/1900\n"
     ]
    }
   ],
   "source": [
    "# function to convert '28 November' to 28/11/2020\n",
    "def convert_date(x):\n",
    "    x = datetime.strptime(x,\"%d %B\").strftime('%d/%m/%Y')\n",
    "    return x\n",
    "\n",
    "print(convert_date('21 June'))"
   ],
   "metadata": {
    "collapsed": false,
    "pycharm": {
     "name": "#%%\n"
    }
   }
  }
 ],
 "metadata": {
  "kernelspec": {
   "display_name": "Python 3",
   "language": "python",
   "name": "python3"
  },
  "language_info": {
   "codemirror_mode": {
    "name": "ipython",
    "version": 2
   },
   "file_extension": ".py",
   "mimetype": "text/x-python",
   "name": "python",
   "nbconvert_exporter": "python",
   "pygments_lexer": "ipython2",
   "version": "2.7.6"
  }
 },
 "nbformat": 4,
 "nbformat_minor": 0
}