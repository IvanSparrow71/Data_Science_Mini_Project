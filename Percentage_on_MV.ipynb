{
 "cells": [
  {
   "cell_type": "code",
   "execution_count": 0,
   "metadata": {
    "collapsed": true
   },
   "outputs": [],
   "source": []
  },
  {
   "cell_type": "markdown",
   "source": [
    "### Importing of modules and packages "
   ],
   "metadata": {
    "collapsed": false
   }
  },
  {
   "cell_type": "code",
   "execution_count": 1,
   "outputs": [],
   "source": [
    "import pandas as pd\n",
    "import matplotlib.pyplot as plt\n",
    "import scipy"
   ],
   "metadata": {
    "collapsed": false,
    "pycharm": {
     "name": "#%%\n"
    }
   }
  },
  {
   "cell_type": "markdown",
   "source": [
    "### Read in entire spreadsheet in variable 'xlsx'"
   ],
   "metadata": {
    "collapsed": false,
    "pycharm": {
     "name": "#%%\nmd\n"
    }
   }
  },
  {
   "cell_type": "code",
   "execution_count": 2,
   "outputs": [],
   "source": [
    "xlsx = pd.ExcelFile('/Users/ivan/Desktop/PycharmProjects/Data_Science_Mini/Data/raw/Weekly-covid-admissions-and-beds-publication-201203.xlsx',\n",
    "                    engine='openpyxl')"
   ],
   "metadata": {
    "collapsed": false,
    "pycharm": {
     "name": "#%%\n"
    }
   }
  },
  {
   "cell_type": "markdown",
   "source": [
    "### Extracting last date and assigning it to variable last_day"
   ],
   "metadata": {
    "collapsed": false
   }
  },
  {
   "cell_type": "code",
   "execution_count": 3,
   "outputs": [],
   "source": [
    "df = pd.read_excel(r'/Users/ivan/Desktop/PycharmProjects/Data_Science_Mini/Data/raw/Weekly-covid-admissions-and-beds-publication-201203.xlsx',\n",
    "                   sheet_name='All beds COVID',\n",
    "                   engine='openpyxl')\n",
    "last_index = df.iloc[13].last_valid_index()\n",
    "\n",
    "# convert datetime to date\n",
    "last_day = df.iloc[13][last_index].strftime('%m/%d/%Y')"
   ],
   "metadata": {
    "collapsed": false,
    "pycharm": {
     "name": "#%%\n"
    }
   }
  },
  {
   "cell_type": "markdown",
   "source": [
    " ## Reading in summary data from two sheets (All beds COVID and MV beds COVID)"
   ],
   "metadata": {
    "collapsed": false
   }
  },
  {
   "cell_type": "code",
   "execution_count": 4,
   "outputs": [],
   "source": [
    "list_of_regions = ['East of England','London', 'Midlands','North East and Yorkshire',\n",
    "                   'North West', 'South East', 'South West']\n",
    "columns_to_drop = ['Type 1 Acute?', 'NHS England Region', 'Code']\n"
   ],
   "metadata": {
    "collapsed": false,
    "pycharm": {
     "name": "#%%\n"
    }
   }
  },
  {
   "cell_type": "code",
   "execution_count": 5,
   "outputs": [
    {
     "data": {
      "text/plain": "                       Name  2020-08-01 00:00:00  2020-08-02 00:00:00  \\\n0           East of England                 85.0                 80.0   \n1                    London                126.0                120.0   \n2                  Midlands                216.0                194.0   \n3  North East and Yorkshire                117.0                120.0   \n4                North West                191.0                188.0   \n5                South East                123.0                122.0   \n6                South West                 21.0                 23.0   \n\n   2020-08-03 00:00:00  2020-08-04 00:00:00  2020-08-05 00:00:00  \\\n0                 73.0                 69.0                 70.0   \n1                122.0                118.0                111.0   \n2                206.0                182.0                181.0   \n3                115.0                123.0                128.0   \n4                181.0                181.0                183.0   \n5                122.0                111.0                106.0   \n6                 23.0                 23.0                 26.0   \n\n   2020-08-06 00:00:00  2020-08-07 00:00:00  2020-08-08 00:00:00  \\\n0                 72.0                 60.0                 59.0   \n1                113.0                105.0                126.0   \n2                179.0                178.0                 96.0   \n3                132.0                111.0                117.0   \n4                160.0                160.0                154.0   \n5                 78.0                 77.0                 80.0   \n6                 22.0                 20.0                 18.0   \n\n   2020-08-09 00:00:00  ...  2020-11-22 00:00:00  2020-11-23 00:00:00  \\\n0                 59.0  ...                902.0                956.0   \n1                107.0  ...               1605.0               1675.0   \n2                101.0  ...               3401.0               3414.0   \n3                117.0  ...               3353.0               3437.0   \n4                136.0  ...               2794.0               2810.0   \n5                 72.0  ...               1313.0               1395.0   \n6                 19.0  ...                986.0               1025.0   \n\n   2020-11-24 00:00:00  2020-11-25 00:00:00  2020-11-26 00:00:00  \\\n0                977.0                957.0                969.0   \n1               1626.0               1611.0               1643.0   \n2               3406.0               3378.0               3245.0   \n3               3245.0               3137.0               3030.0   \n4               2811.0               2700.0               2607.0   \n5               1403.0               1437.0               1397.0   \n6               1038.0               1020.0               1017.0   \n\n   2020-11-27 00:00:00  2020-11-28 00:00:00  2020-11-29 00:00:00  \\\n0                969.0                961.0                948.0   \n1               1674.0               1635.0               1663.0   \n2               3203.0               3079.0               3120.0   \n3               2932.0               2859.0               2862.0   \n4               2551.0               2355.0               2510.0   \n5               1429.0               1420.0               1430.0   \n6                996.0                899.0                988.0   \n\n   2020-11-30 00:00:00  2020-12-01 00:00:00  \n0                991.0                997.0  \n1               1677.0               1701.0  \n2               3130.0               3084.0  \n3               2876.0               2814.0  \n4               2572.0               2517.0  \n5               1494.0               1423.0  \n6               1016.0                971.0  \n\n[7 rows x 124 columns]",
      "text/html": "<div>\n<style scoped>\n    .dataframe tbody tr th:only-of-type {\n        vertical-align: middle;\n    }\n\n    .dataframe tbody tr th {\n        vertical-align: top;\n    }\n\n    .dataframe thead th {\n        text-align: right;\n    }\n</style>\n<table border=\"1\" class=\"dataframe\">\n  <thead>\n    <tr style=\"text-align: right;\">\n      <th></th>\n      <th>Name</th>\n      <th>2020-08-01 00:00:00</th>\n      <th>2020-08-02 00:00:00</th>\n      <th>2020-08-03 00:00:00</th>\n      <th>2020-08-04 00:00:00</th>\n      <th>2020-08-05 00:00:00</th>\n      <th>2020-08-06 00:00:00</th>\n      <th>2020-08-07 00:00:00</th>\n      <th>2020-08-08 00:00:00</th>\n      <th>2020-08-09 00:00:00</th>\n      <th>...</th>\n      <th>2020-11-22 00:00:00</th>\n      <th>2020-11-23 00:00:00</th>\n      <th>2020-11-24 00:00:00</th>\n      <th>2020-11-25 00:00:00</th>\n      <th>2020-11-26 00:00:00</th>\n      <th>2020-11-27 00:00:00</th>\n      <th>2020-11-28 00:00:00</th>\n      <th>2020-11-29 00:00:00</th>\n      <th>2020-11-30 00:00:00</th>\n      <th>2020-12-01 00:00:00</th>\n    </tr>\n  </thead>\n  <tbody>\n    <tr>\n      <th>0</th>\n      <td>East of England</td>\n      <td>85.0</td>\n      <td>80.0</td>\n      <td>73.0</td>\n      <td>69.0</td>\n      <td>70.0</td>\n      <td>72.0</td>\n      <td>60.0</td>\n      <td>59.0</td>\n      <td>59.0</td>\n      <td>...</td>\n      <td>902.0</td>\n      <td>956.0</td>\n      <td>977.0</td>\n      <td>957.0</td>\n      <td>969.0</td>\n      <td>969.0</td>\n      <td>961.0</td>\n      <td>948.0</td>\n      <td>991.0</td>\n      <td>997.0</td>\n    </tr>\n    <tr>\n      <th>1</th>\n      <td>London</td>\n      <td>126.0</td>\n      <td>120.0</td>\n      <td>122.0</td>\n      <td>118.0</td>\n      <td>111.0</td>\n      <td>113.0</td>\n      <td>105.0</td>\n      <td>126.0</td>\n      <td>107.0</td>\n      <td>...</td>\n      <td>1605.0</td>\n      <td>1675.0</td>\n      <td>1626.0</td>\n      <td>1611.0</td>\n      <td>1643.0</td>\n      <td>1674.0</td>\n      <td>1635.0</td>\n      <td>1663.0</td>\n      <td>1677.0</td>\n      <td>1701.0</td>\n    </tr>\n    <tr>\n      <th>2</th>\n      <td>Midlands</td>\n      <td>216.0</td>\n      <td>194.0</td>\n      <td>206.0</td>\n      <td>182.0</td>\n      <td>181.0</td>\n      <td>179.0</td>\n      <td>178.0</td>\n      <td>96.0</td>\n      <td>101.0</td>\n      <td>...</td>\n      <td>3401.0</td>\n      <td>3414.0</td>\n      <td>3406.0</td>\n      <td>3378.0</td>\n      <td>3245.0</td>\n      <td>3203.0</td>\n      <td>3079.0</td>\n      <td>3120.0</td>\n      <td>3130.0</td>\n      <td>3084.0</td>\n    </tr>\n    <tr>\n      <th>3</th>\n      <td>North East and Yorkshire</td>\n      <td>117.0</td>\n      <td>120.0</td>\n      <td>115.0</td>\n      <td>123.0</td>\n      <td>128.0</td>\n      <td>132.0</td>\n      <td>111.0</td>\n      <td>117.0</td>\n      <td>117.0</td>\n      <td>...</td>\n      <td>3353.0</td>\n      <td>3437.0</td>\n      <td>3245.0</td>\n      <td>3137.0</td>\n      <td>3030.0</td>\n      <td>2932.0</td>\n      <td>2859.0</td>\n      <td>2862.0</td>\n      <td>2876.0</td>\n      <td>2814.0</td>\n    </tr>\n    <tr>\n      <th>4</th>\n      <td>North West</td>\n      <td>191.0</td>\n      <td>188.0</td>\n      <td>181.0</td>\n      <td>181.0</td>\n      <td>183.0</td>\n      <td>160.0</td>\n      <td>160.0</td>\n      <td>154.0</td>\n      <td>136.0</td>\n      <td>...</td>\n      <td>2794.0</td>\n      <td>2810.0</td>\n      <td>2811.0</td>\n      <td>2700.0</td>\n      <td>2607.0</td>\n      <td>2551.0</td>\n      <td>2355.0</td>\n      <td>2510.0</td>\n      <td>2572.0</td>\n      <td>2517.0</td>\n    </tr>\n    <tr>\n      <th>5</th>\n      <td>South East</td>\n      <td>123.0</td>\n      <td>122.0</td>\n      <td>122.0</td>\n      <td>111.0</td>\n      <td>106.0</td>\n      <td>78.0</td>\n      <td>77.0</td>\n      <td>80.0</td>\n      <td>72.0</td>\n      <td>...</td>\n      <td>1313.0</td>\n      <td>1395.0</td>\n      <td>1403.0</td>\n      <td>1437.0</td>\n      <td>1397.0</td>\n      <td>1429.0</td>\n      <td>1420.0</td>\n      <td>1430.0</td>\n      <td>1494.0</td>\n      <td>1423.0</td>\n    </tr>\n    <tr>\n      <th>6</th>\n      <td>South West</td>\n      <td>21.0</td>\n      <td>23.0</td>\n      <td>23.0</td>\n      <td>23.0</td>\n      <td>26.0</td>\n      <td>22.0</td>\n      <td>20.0</td>\n      <td>18.0</td>\n      <td>19.0</td>\n      <td>...</td>\n      <td>986.0</td>\n      <td>1025.0</td>\n      <td>1038.0</td>\n      <td>1020.0</td>\n      <td>1017.0</td>\n      <td>996.0</td>\n      <td>899.0</td>\n      <td>988.0</td>\n      <td>1016.0</td>\n      <td>971.0</td>\n    </tr>\n  </tbody>\n</table>\n<p>7 rows × 124 columns</p>\n</div>"
     },
     "execution_count": 5,
     "metadata": {},
     "output_type": "execute_result"
    }
   ],
   "source": [
    "\n",
    "df_all_beds = pd.read_excel(r'/Users/ivan/Desktop/PycharmProjects/Data_Science_Mini/Data/raw/Weekly-covid-admissions-and-beds-publication-201203.xlsx',\n",
    "                            sheet_name='All beds COVID',\n",
    "                            header=14,\n",
    "                            engine='openpyxl')\n",
    "df_all_beds = df_all_beds.loc[df_all_beds['Name'].isin(list_of_regions)]\n",
    "df_all_beds = df_all_beds.drop(columns=columns_to_drop)\n",
    "df_all_beds = df_all_beds.reset_index(drop=True)\n",
    "df_all_beds"
   ],
   "metadata": {
    "collapsed": false,
    "pycharm": {
     "name": "#%%\n"
    }
   }
  },
  {
   "cell_type": "markdown",
   "source": [
    " ### Changing column headings to dates"
   ],
   "metadata": {
    "collapsed": false
   }
  },
  {
   "cell_type": "code",
   "execution_count": 6,
   "outputs": [],
   "source": [
    "datelist = pd.date_range(start='08/01/2020', end=last_day).strftime('%d-%m-%Y')\n",
    "i = 0\n",
    "for col in df_all_beds.columns[1:len(datelist)+2]:\n",
    "    df_all_beds.rename(columns={col:datelist[i]}, inplace=True)\n",
    "    i += 1\n"
   ],
   "metadata": {
    "collapsed": false,
    "pycharm": {
     "name": "#%%\n"
    }
   }
  },
  {
   "cell_type": "code",
   "execution_count": 7,
   "outputs": [
    {
     "data": {
      "text/plain": "                       Name  01-08-2020  02-08-2020  03-08-2020  04-08-2020  \\\n0           East of England        85.0        80.0        73.0        69.0   \n1                    London       126.0       120.0       122.0       118.0   \n2                  Midlands       216.0       194.0       206.0       182.0   \n3  North East and Yorkshire       117.0       120.0       115.0       123.0   \n4                North West       191.0       188.0       181.0       181.0   \n5                South East       123.0       122.0       122.0       111.0   \n6                South West        21.0        23.0        23.0        23.0   \n\n   05-08-2020  06-08-2020  07-08-2020  08-08-2020  09-08-2020  ...  \\\n0        70.0        72.0        60.0        59.0        59.0  ...   \n1       111.0       113.0       105.0       126.0       107.0  ...   \n2       181.0       179.0       178.0        96.0       101.0  ...   \n3       128.0       132.0       111.0       117.0       117.0  ...   \n4       183.0       160.0       160.0       154.0       136.0  ...   \n5       106.0        78.0        77.0        80.0        72.0  ...   \n6        26.0        22.0        20.0        18.0        19.0  ...   \n\n   22-11-2020  23-11-2020  24-11-2020  25-11-2020  26-11-2020  27-11-2020  \\\n0       902.0       956.0       977.0       957.0       969.0       969.0   \n1      1605.0      1675.0      1626.0      1611.0      1643.0      1674.0   \n2      3401.0      3414.0      3406.0      3378.0      3245.0      3203.0   \n3      3353.0      3437.0      3245.0      3137.0      3030.0      2932.0   \n4      2794.0      2810.0      2811.0      2700.0      2607.0      2551.0   \n5      1313.0      1395.0      1403.0      1437.0      1397.0      1429.0   \n6       986.0      1025.0      1038.0      1020.0      1017.0       996.0   \n\n   28-11-2020  29-11-2020  30-11-2020  01-12-2020  \n0       961.0       948.0       991.0       997.0  \n1      1635.0      1663.0      1677.0      1701.0  \n2      3079.0      3120.0      3130.0      3084.0  \n3      2859.0      2862.0      2876.0      2814.0  \n4      2355.0      2510.0      2572.0      2517.0  \n5      1420.0      1430.0      1494.0      1423.0  \n6       899.0       988.0      1016.0       971.0  \n\n[7 rows x 124 columns]",
      "text/html": "<div>\n<style scoped>\n    .dataframe tbody tr th:only-of-type {\n        vertical-align: middle;\n    }\n\n    .dataframe tbody tr th {\n        vertical-align: top;\n    }\n\n    .dataframe thead th {\n        text-align: right;\n    }\n</style>\n<table border=\"1\" class=\"dataframe\">\n  <thead>\n    <tr style=\"text-align: right;\">\n      <th></th>\n      <th>Name</th>\n      <th>01-08-2020</th>\n      <th>02-08-2020</th>\n      <th>03-08-2020</th>\n      <th>04-08-2020</th>\n      <th>05-08-2020</th>\n      <th>06-08-2020</th>\n      <th>07-08-2020</th>\n      <th>08-08-2020</th>\n      <th>09-08-2020</th>\n      <th>...</th>\n      <th>22-11-2020</th>\n      <th>23-11-2020</th>\n      <th>24-11-2020</th>\n      <th>25-11-2020</th>\n      <th>26-11-2020</th>\n      <th>27-11-2020</th>\n      <th>28-11-2020</th>\n      <th>29-11-2020</th>\n      <th>30-11-2020</th>\n      <th>01-12-2020</th>\n    </tr>\n  </thead>\n  <tbody>\n    <tr>\n      <th>0</th>\n      <td>East of England</td>\n      <td>85.0</td>\n      <td>80.0</td>\n      <td>73.0</td>\n      <td>69.0</td>\n      <td>70.0</td>\n      <td>72.0</td>\n      <td>60.0</td>\n      <td>59.0</td>\n      <td>59.0</td>\n      <td>...</td>\n      <td>902.0</td>\n      <td>956.0</td>\n      <td>977.0</td>\n      <td>957.0</td>\n      <td>969.0</td>\n      <td>969.0</td>\n      <td>961.0</td>\n      <td>948.0</td>\n      <td>991.0</td>\n      <td>997.0</td>\n    </tr>\n    <tr>\n      <th>1</th>\n      <td>London</td>\n      <td>126.0</td>\n      <td>120.0</td>\n      <td>122.0</td>\n      <td>118.0</td>\n      <td>111.0</td>\n      <td>113.0</td>\n      <td>105.0</td>\n      <td>126.0</td>\n      <td>107.0</td>\n      <td>...</td>\n      <td>1605.0</td>\n      <td>1675.0</td>\n      <td>1626.0</td>\n      <td>1611.0</td>\n      <td>1643.0</td>\n      <td>1674.0</td>\n      <td>1635.0</td>\n      <td>1663.0</td>\n      <td>1677.0</td>\n      <td>1701.0</td>\n    </tr>\n    <tr>\n      <th>2</th>\n      <td>Midlands</td>\n      <td>216.0</td>\n      <td>194.0</td>\n      <td>206.0</td>\n      <td>182.0</td>\n      <td>181.0</td>\n      <td>179.0</td>\n      <td>178.0</td>\n      <td>96.0</td>\n      <td>101.0</td>\n      <td>...</td>\n      <td>3401.0</td>\n      <td>3414.0</td>\n      <td>3406.0</td>\n      <td>3378.0</td>\n      <td>3245.0</td>\n      <td>3203.0</td>\n      <td>3079.0</td>\n      <td>3120.0</td>\n      <td>3130.0</td>\n      <td>3084.0</td>\n    </tr>\n    <tr>\n      <th>3</th>\n      <td>North East and Yorkshire</td>\n      <td>117.0</td>\n      <td>120.0</td>\n      <td>115.0</td>\n      <td>123.0</td>\n      <td>128.0</td>\n      <td>132.0</td>\n      <td>111.0</td>\n      <td>117.0</td>\n      <td>117.0</td>\n      <td>...</td>\n      <td>3353.0</td>\n      <td>3437.0</td>\n      <td>3245.0</td>\n      <td>3137.0</td>\n      <td>3030.0</td>\n      <td>2932.0</td>\n      <td>2859.0</td>\n      <td>2862.0</td>\n      <td>2876.0</td>\n      <td>2814.0</td>\n    </tr>\n    <tr>\n      <th>4</th>\n      <td>North West</td>\n      <td>191.0</td>\n      <td>188.0</td>\n      <td>181.0</td>\n      <td>181.0</td>\n      <td>183.0</td>\n      <td>160.0</td>\n      <td>160.0</td>\n      <td>154.0</td>\n      <td>136.0</td>\n      <td>...</td>\n      <td>2794.0</td>\n      <td>2810.0</td>\n      <td>2811.0</td>\n      <td>2700.0</td>\n      <td>2607.0</td>\n      <td>2551.0</td>\n      <td>2355.0</td>\n      <td>2510.0</td>\n      <td>2572.0</td>\n      <td>2517.0</td>\n    </tr>\n    <tr>\n      <th>5</th>\n      <td>South East</td>\n      <td>123.0</td>\n      <td>122.0</td>\n      <td>122.0</td>\n      <td>111.0</td>\n      <td>106.0</td>\n      <td>78.0</td>\n      <td>77.0</td>\n      <td>80.0</td>\n      <td>72.0</td>\n      <td>...</td>\n      <td>1313.0</td>\n      <td>1395.0</td>\n      <td>1403.0</td>\n      <td>1437.0</td>\n      <td>1397.0</td>\n      <td>1429.0</td>\n      <td>1420.0</td>\n      <td>1430.0</td>\n      <td>1494.0</td>\n      <td>1423.0</td>\n    </tr>\n    <tr>\n      <th>6</th>\n      <td>South West</td>\n      <td>21.0</td>\n      <td>23.0</td>\n      <td>23.0</td>\n      <td>23.0</td>\n      <td>26.0</td>\n      <td>22.0</td>\n      <td>20.0</td>\n      <td>18.0</td>\n      <td>19.0</td>\n      <td>...</td>\n      <td>986.0</td>\n      <td>1025.0</td>\n      <td>1038.0</td>\n      <td>1020.0</td>\n      <td>1017.0</td>\n      <td>996.0</td>\n      <td>899.0</td>\n      <td>988.0</td>\n      <td>1016.0</td>\n      <td>971.0</td>\n    </tr>\n  </tbody>\n</table>\n<p>7 rows × 124 columns</p>\n</div>"
     },
     "execution_count": 7,
     "metadata": {},
     "output_type": "execute_result"
    }
   ],
   "source": [
    "df_all_beds"
   ],
   "metadata": {
    "collapsed": false,
    "pycharm": {
     "name": "#%%\n"
    }
   }
  },
  {
   "cell_type": "code",
   "execution_count": 8,
   "outputs": [
    {
     "data": {
      "text/plain": "                       Name  2020-08-01 00:00:00  2020-08-02 00:00:00  \\\n0           East of England                  9.0                  9.0   \n1                    London                 16.0                 15.0   \n2                  Midlands                 13.0                 10.0   \n3  North East and Yorkshire                  9.0                  8.0   \n4                North West                 15.0                 15.0   \n\n   2020-08-03 00:00:00  2020-08-04 00:00:00  2020-08-05 00:00:00  \\\n0                  8.0                  8.0                  8.0   \n1                 17.0                 15.0                 13.0   \n2                 10.0                 13.0                 13.0   \n3                  7.0                  7.0                  7.0   \n4                 13.0                 13.0                 13.0   \n\n   2020-08-06 00:00:00  2020-08-07 00:00:00  2020-08-08 00:00:00  \\\n0                  9.0                  9.0                 11.0   \n1                 11.0                 10.0                 10.0   \n2                 14.0                 10.0                  5.0   \n3                  6.0                  7.0                  8.0   \n4                 13.0                 13.0                 14.0   \n\n   2020-08-09 00:00:00  ...  2020-11-22 00:00:00  2020-11-23 00:00:00  \\\n0                  9.0  ...                 77.0                 88.0   \n1                 12.0  ...                248.0                252.0   \n2                  6.0  ...                303.0                312.0   \n3                  7.0  ...                240.0                244.0   \n4                 14.0  ...                233.0                234.0   \n\n   2020-11-24 00:00:00  2020-11-25 00:00:00  2020-11-26 00:00:00  \\\n0                 83.0                 79.0                 86.0   \n1                253.0                261.0                251.0   \n2                313.0                313.0                306.0   \n3                247.0                230.0                223.0   \n4                229.0                228.0                221.0   \n\n   2020-11-27 00:00:00  2020-11-28 00:00:00  2020-11-29 00:00:00  \\\n0                 82.0                 86.0                 91.0   \n1                267.0                248.0                260.0   \n2                304.0                291.0                286.0   \n3                207.0                211.0                204.0   \n4                203.0                191.0                198.0   \n\n   2020-11-30 00:00:00  2020-12-01 00:00:00  \n0                 86.0                 86.0  \n1                253.0                259.0  \n2                277.0                274.0  \n3                189.0                185.0  \n4                199.0                194.0  \n\n[5 rows x 124 columns]",
      "text/html": "<div>\n<style scoped>\n    .dataframe tbody tr th:only-of-type {\n        vertical-align: middle;\n    }\n\n    .dataframe tbody tr th {\n        vertical-align: top;\n    }\n\n    .dataframe thead th {\n        text-align: right;\n    }\n</style>\n<table border=\"1\" class=\"dataframe\">\n  <thead>\n    <tr style=\"text-align: right;\">\n      <th></th>\n      <th>Name</th>\n      <th>2020-08-01 00:00:00</th>\n      <th>2020-08-02 00:00:00</th>\n      <th>2020-08-03 00:00:00</th>\n      <th>2020-08-04 00:00:00</th>\n      <th>2020-08-05 00:00:00</th>\n      <th>2020-08-06 00:00:00</th>\n      <th>2020-08-07 00:00:00</th>\n      <th>2020-08-08 00:00:00</th>\n      <th>2020-08-09 00:00:00</th>\n      <th>...</th>\n      <th>2020-11-22 00:00:00</th>\n      <th>2020-11-23 00:00:00</th>\n      <th>2020-11-24 00:00:00</th>\n      <th>2020-11-25 00:00:00</th>\n      <th>2020-11-26 00:00:00</th>\n      <th>2020-11-27 00:00:00</th>\n      <th>2020-11-28 00:00:00</th>\n      <th>2020-11-29 00:00:00</th>\n      <th>2020-11-30 00:00:00</th>\n      <th>2020-12-01 00:00:00</th>\n    </tr>\n  </thead>\n  <tbody>\n    <tr>\n      <th>0</th>\n      <td>East of England</td>\n      <td>9.0</td>\n      <td>9.0</td>\n      <td>8.0</td>\n      <td>8.0</td>\n      <td>8.0</td>\n      <td>9.0</td>\n      <td>9.0</td>\n      <td>11.0</td>\n      <td>9.0</td>\n      <td>...</td>\n      <td>77.0</td>\n      <td>88.0</td>\n      <td>83.0</td>\n      <td>79.0</td>\n      <td>86.0</td>\n      <td>82.0</td>\n      <td>86.0</td>\n      <td>91.0</td>\n      <td>86.0</td>\n      <td>86.0</td>\n    </tr>\n    <tr>\n      <th>1</th>\n      <td>London</td>\n      <td>16.0</td>\n      <td>15.0</td>\n      <td>17.0</td>\n      <td>15.0</td>\n      <td>13.0</td>\n      <td>11.0</td>\n      <td>10.0</td>\n      <td>10.0</td>\n      <td>12.0</td>\n      <td>...</td>\n      <td>248.0</td>\n      <td>252.0</td>\n      <td>253.0</td>\n      <td>261.0</td>\n      <td>251.0</td>\n      <td>267.0</td>\n      <td>248.0</td>\n      <td>260.0</td>\n      <td>253.0</td>\n      <td>259.0</td>\n    </tr>\n    <tr>\n      <th>2</th>\n      <td>Midlands</td>\n      <td>13.0</td>\n      <td>10.0</td>\n      <td>10.0</td>\n      <td>13.0</td>\n      <td>13.0</td>\n      <td>14.0</td>\n      <td>10.0</td>\n      <td>5.0</td>\n      <td>6.0</td>\n      <td>...</td>\n      <td>303.0</td>\n      <td>312.0</td>\n      <td>313.0</td>\n      <td>313.0</td>\n      <td>306.0</td>\n      <td>304.0</td>\n      <td>291.0</td>\n      <td>286.0</td>\n      <td>277.0</td>\n      <td>274.0</td>\n    </tr>\n    <tr>\n      <th>3</th>\n      <td>North East and Yorkshire</td>\n      <td>9.0</td>\n      <td>8.0</td>\n      <td>7.0</td>\n      <td>7.0</td>\n      <td>7.0</td>\n      <td>6.0</td>\n      <td>7.0</td>\n      <td>8.0</td>\n      <td>7.0</td>\n      <td>...</td>\n      <td>240.0</td>\n      <td>244.0</td>\n      <td>247.0</td>\n      <td>230.0</td>\n      <td>223.0</td>\n      <td>207.0</td>\n      <td>211.0</td>\n      <td>204.0</td>\n      <td>189.0</td>\n      <td>185.0</td>\n    </tr>\n    <tr>\n      <th>4</th>\n      <td>North West</td>\n      <td>15.0</td>\n      <td>15.0</td>\n      <td>13.0</td>\n      <td>13.0</td>\n      <td>13.0</td>\n      <td>13.0</td>\n      <td>13.0</td>\n      <td>14.0</td>\n      <td>14.0</td>\n      <td>...</td>\n      <td>233.0</td>\n      <td>234.0</td>\n      <td>229.0</td>\n      <td>228.0</td>\n      <td>221.0</td>\n      <td>203.0</td>\n      <td>191.0</td>\n      <td>198.0</td>\n      <td>199.0</td>\n      <td>194.0</td>\n    </tr>\n  </tbody>\n</table>\n<p>5 rows × 124 columns</p>\n</div>"
     },
     "execution_count": 8,
     "metadata": {},
     "output_type": "execute_result"
    }
   ],
   "source": [
    "df_MV = pd.read_excel(r'/Users/ivan/Desktop/PycharmProjects/Data_Science_Mini/Data/raw/Weekly-covid-admissions-and-beds-publication-201203.xlsx',\n",
    "                            sheet_name='MV beds COVID',\n",
    "                            header=14,\n",
    "                      engine='openpyxl')\n",
    "df_MV = df_MV.loc[df_MV['Name'].isin(list_of_regions)]\n",
    "df_MV = df_MV.drop(columns=columns_to_drop)\n",
    "df_MV = df_MV.reset_index(drop=True)\n",
    "df_MV.head()"
   ],
   "metadata": {
    "collapsed": false,
    "pycharm": {
     "name": "#%%\n"
    }
   }
  },
  {
   "cell_type": "code",
   "execution_count": 9,
   "outputs": [],
   "source": [
    "i = 0\n",
    "for col in df_MV.columns[1:len(datelist)+2]:\n",
    "    df_MV.rename(columns={col:datelist[i]}, inplace=True)\n",
    "    i += 1\n"
   ],
   "metadata": {
    "collapsed": false,
    "pycharm": {
     "name": "#%%\n"
    }
   }
  },
  {
   "cell_type": "code",
   "execution_count": 10,
   "outputs": [
    {
     "data": {
      "text/plain": "                       Name  01-08-2020  02-08-2020  03-08-2020  04-08-2020  \\\n0           East of England         9.0         9.0         8.0         8.0   \n1                    London        16.0        15.0        17.0        15.0   \n2                  Midlands        13.0        10.0        10.0        13.0   \n3  North East and Yorkshire         9.0         8.0         7.0         7.0   \n4                North West        15.0        15.0        13.0        13.0   \n5                South East        12.0        15.0        12.0         9.0   \n6                South West         0.0         0.0         0.0         0.0   \n\n   05-08-2020  06-08-2020  07-08-2020  08-08-2020  09-08-2020  ...  \\\n0         8.0         9.0         9.0        11.0         9.0  ...   \n1        13.0        11.0        10.0        10.0        12.0  ...   \n2        13.0        14.0        10.0         5.0         6.0  ...   \n3         7.0         6.0         7.0         8.0         7.0  ...   \n4        13.0        13.0        13.0        14.0        14.0  ...   \n5         9.0         8.0         8.0         7.0         8.0  ...   \n6         0.0         0.0         0.0         0.0         0.0  ...   \n\n   22-11-2020  23-11-2020  24-11-2020  25-11-2020  26-11-2020  27-11-2020  \\\n0        77.0        88.0        83.0        79.0        86.0        82.0   \n1       248.0       252.0       253.0       261.0       251.0       267.0   \n2       303.0       312.0       313.0       313.0       306.0       304.0   \n3       240.0       244.0       247.0       230.0       223.0       207.0   \n4       233.0       234.0       229.0       228.0       221.0       203.0   \n5        96.0        97.0       111.0       114.0       110.0       113.0   \n6        62.0        72.0        70.0        75.0        67.0        66.0   \n\n   28-11-2020  29-11-2020  30-11-2020  01-12-2020  \n0        86.0        91.0        86.0        86.0  \n1       248.0       260.0       253.0       259.0  \n2       291.0       286.0       277.0       274.0  \n3       211.0       204.0       189.0       185.0  \n4       191.0       198.0       199.0       194.0  \n5       115.0       111.0       120.0       118.0  \n6        62.0        64.0        61.0        66.0  \n\n[7 rows x 124 columns]",
      "text/html": "<div>\n<style scoped>\n    .dataframe tbody tr th:only-of-type {\n        vertical-align: middle;\n    }\n\n    .dataframe tbody tr th {\n        vertical-align: top;\n    }\n\n    .dataframe thead th {\n        text-align: right;\n    }\n</style>\n<table border=\"1\" class=\"dataframe\">\n  <thead>\n    <tr style=\"text-align: right;\">\n      <th></th>\n      <th>Name</th>\n      <th>01-08-2020</th>\n      <th>02-08-2020</th>\n      <th>03-08-2020</th>\n      <th>04-08-2020</th>\n      <th>05-08-2020</th>\n      <th>06-08-2020</th>\n      <th>07-08-2020</th>\n      <th>08-08-2020</th>\n      <th>09-08-2020</th>\n      <th>...</th>\n      <th>22-11-2020</th>\n      <th>23-11-2020</th>\n      <th>24-11-2020</th>\n      <th>25-11-2020</th>\n      <th>26-11-2020</th>\n      <th>27-11-2020</th>\n      <th>28-11-2020</th>\n      <th>29-11-2020</th>\n      <th>30-11-2020</th>\n      <th>01-12-2020</th>\n    </tr>\n  </thead>\n  <tbody>\n    <tr>\n      <th>0</th>\n      <td>East of England</td>\n      <td>9.0</td>\n      <td>9.0</td>\n      <td>8.0</td>\n      <td>8.0</td>\n      <td>8.0</td>\n      <td>9.0</td>\n      <td>9.0</td>\n      <td>11.0</td>\n      <td>9.0</td>\n      <td>...</td>\n      <td>77.0</td>\n      <td>88.0</td>\n      <td>83.0</td>\n      <td>79.0</td>\n      <td>86.0</td>\n      <td>82.0</td>\n      <td>86.0</td>\n      <td>91.0</td>\n      <td>86.0</td>\n      <td>86.0</td>\n    </tr>\n    <tr>\n      <th>1</th>\n      <td>London</td>\n      <td>16.0</td>\n      <td>15.0</td>\n      <td>17.0</td>\n      <td>15.0</td>\n      <td>13.0</td>\n      <td>11.0</td>\n      <td>10.0</td>\n      <td>10.0</td>\n      <td>12.0</td>\n      <td>...</td>\n      <td>248.0</td>\n      <td>252.0</td>\n      <td>253.0</td>\n      <td>261.0</td>\n      <td>251.0</td>\n      <td>267.0</td>\n      <td>248.0</td>\n      <td>260.0</td>\n      <td>253.0</td>\n      <td>259.0</td>\n    </tr>\n    <tr>\n      <th>2</th>\n      <td>Midlands</td>\n      <td>13.0</td>\n      <td>10.0</td>\n      <td>10.0</td>\n      <td>13.0</td>\n      <td>13.0</td>\n      <td>14.0</td>\n      <td>10.0</td>\n      <td>5.0</td>\n      <td>6.0</td>\n      <td>...</td>\n      <td>303.0</td>\n      <td>312.0</td>\n      <td>313.0</td>\n      <td>313.0</td>\n      <td>306.0</td>\n      <td>304.0</td>\n      <td>291.0</td>\n      <td>286.0</td>\n      <td>277.0</td>\n      <td>274.0</td>\n    </tr>\n    <tr>\n      <th>3</th>\n      <td>North East and Yorkshire</td>\n      <td>9.0</td>\n      <td>8.0</td>\n      <td>7.0</td>\n      <td>7.0</td>\n      <td>7.0</td>\n      <td>6.0</td>\n      <td>7.0</td>\n      <td>8.0</td>\n      <td>7.0</td>\n      <td>...</td>\n      <td>240.0</td>\n      <td>244.0</td>\n      <td>247.0</td>\n      <td>230.0</td>\n      <td>223.0</td>\n      <td>207.0</td>\n      <td>211.0</td>\n      <td>204.0</td>\n      <td>189.0</td>\n      <td>185.0</td>\n    </tr>\n    <tr>\n      <th>4</th>\n      <td>North West</td>\n      <td>15.0</td>\n      <td>15.0</td>\n      <td>13.0</td>\n      <td>13.0</td>\n      <td>13.0</td>\n      <td>13.0</td>\n      <td>13.0</td>\n      <td>14.0</td>\n      <td>14.0</td>\n      <td>...</td>\n      <td>233.0</td>\n      <td>234.0</td>\n      <td>229.0</td>\n      <td>228.0</td>\n      <td>221.0</td>\n      <td>203.0</td>\n      <td>191.0</td>\n      <td>198.0</td>\n      <td>199.0</td>\n      <td>194.0</td>\n    </tr>\n    <tr>\n      <th>5</th>\n      <td>South East</td>\n      <td>12.0</td>\n      <td>15.0</td>\n      <td>12.0</td>\n      <td>9.0</td>\n      <td>9.0</td>\n      <td>8.0</td>\n      <td>8.0</td>\n      <td>7.0</td>\n      <td>8.0</td>\n      <td>...</td>\n      <td>96.0</td>\n      <td>97.0</td>\n      <td>111.0</td>\n      <td>114.0</td>\n      <td>110.0</td>\n      <td>113.0</td>\n      <td>115.0</td>\n      <td>111.0</td>\n      <td>120.0</td>\n      <td>118.0</td>\n    </tr>\n    <tr>\n      <th>6</th>\n      <td>South West</td>\n      <td>0.0</td>\n      <td>0.0</td>\n      <td>0.0</td>\n      <td>0.0</td>\n      <td>0.0</td>\n      <td>0.0</td>\n      <td>0.0</td>\n      <td>0.0</td>\n      <td>0.0</td>\n      <td>...</td>\n      <td>62.0</td>\n      <td>72.0</td>\n      <td>70.0</td>\n      <td>75.0</td>\n      <td>67.0</td>\n      <td>66.0</td>\n      <td>62.0</td>\n      <td>64.0</td>\n      <td>61.0</td>\n      <td>66.0</td>\n    </tr>\n  </tbody>\n</table>\n<p>7 rows × 124 columns</p>\n</div>"
     },
     "execution_count": 10,
     "metadata": {},
     "output_type": "execute_result"
    }
   ],
   "source": [
    "df_MV"
   ],
   "metadata": {
    "collapsed": false,
    "pycharm": {
     "name": "#%%\n"
    }
   }
  },
  {
   "cell_type": "markdown",
   "source": [
    "### Comparison of percentage of beds occupied by mechanical ventilation on two user defined days"
   ],
   "metadata": {
    "collapsed": false
   }
  },
  {
   "cell_type": "code",
   "execution_count": 11,
   "outputs": [
    {
     "ename": "KeyError",
     "evalue": "''",
     "output_type": "error",
     "traceback": [
      "\u001B[0;31m---------------------------------------------------------------------------\u001B[0m",
      "\u001B[0;31mKeyError\u001B[0m                                  Traceback (most recent call last)",
      "\u001B[0;32m~/Desktop/PycharmProjects/Data_Science_Mini/venv/lib/python3.9/site-packages/pandas/core/indexes/base.py\u001B[0m in \u001B[0;36mget_loc\u001B[0;34m(self, key, method, tolerance)\u001B[0m\n\u001B[1;32m   2897\u001B[0m             \u001B[0;32mtry\u001B[0m\u001B[0;34m:\u001B[0m\u001B[0;34m\u001B[0m\u001B[0;34m\u001B[0m\u001B[0m\n\u001B[0;32m-> 2898\u001B[0;31m                 \u001B[0;32mreturn\u001B[0m \u001B[0mself\u001B[0m\u001B[0;34m.\u001B[0m\u001B[0m_engine\u001B[0m\u001B[0;34m.\u001B[0m\u001B[0mget_loc\u001B[0m\u001B[0;34m(\u001B[0m\u001B[0mcasted_key\u001B[0m\u001B[0;34m)\u001B[0m\u001B[0;34m\u001B[0m\u001B[0;34m\u001B[0m\u001B[0m\n\u001B[0m\u001B[1;32m   2899\u001B[0m             \u001B[0;32mexcept\u001B[0m \u001B[0mKeyError\u001B[0m \u001B[0;32mas\u001B[0m \u001B[0merr\u001B[0m\u001B[0;34m:\u001B[0m\u001B[0;34m\u001B[0m\u001B[0;34m\u001B[0m\u001B[0m\n",
      "\u001B[0;32mpandas/_libs/index.pyx\u001B[0m in \u001B[0;36mpandas._libs.index.IndexEngine.get_loc\u001B[0;34m()\u001B[0m\n",
      "\u001B[0;32mpandas/_libs/index.pyx\u001B[0m in \u001B[0;36mpandas._libs.index.IndexEngine.get_loc\u001B[0;34m()\u001B[0m\n",
      "\u001B[0;32mpandas/_libs/hashtable_class_helper.pxi\u001B[0m in \u001B[0;36mpandas._libs.hashtable.PyObjectHashTable.get_item\u001B[0;34m()\u001B[0m\n",
      "\u001B[0;32mpandas/_libs/hashtable_class_helper.pxi\u001B[0m in \u001B[0;36mpandas._libs.hashtable.PyObjectHashTable.get_item\u001B[0;34m()\u001B[0m\n",
      "\u001B[0;31mKeyError\u001B[0m: ''",
      "\nThe above exception was the direct cause of the following exception:\n",
      "\u001B[0;31mKeyError\u001B[0m                                  Traceback (most recent call last)",
      "\u001B[0;32m<ipython-input-11-99d34ef532d8>\u001B[0m in \u001B[0;36m<module>\u001B[0;34m\u001B[0m\n\u001B[1;32m     21\u001B[0m \u001B[0;34m\u001B[0m\u001B[0m\n\u001B[1;32m     22\u001B[0m \u001B[0mdate_to_compare\u001B[0m \u001B[0;34m=\u001B[0m \u001B[0minput\u001B[0m\u001B[0;34m(\u001B[0m\u001B[0;34m\"Please enter the first date you would like to compare (dd-mm-yyyy)\"\u001B[0m\u001B[0;34m)\u001B[0m\u001B[0;34m\u001B[0m\u001B[0;34m\u001B[0m\u001B[0m\n\u001B[0;32m---> 23\u001B[0;31m \u001B[0mmv_vs_all_beds\u001B[0m\u001B[0;34m(\u001B[0m\u001B[0mdate_to_compare\u001B[0m\u001B[0;34m)\u001B[0m\u001B[0;34m\u001B[0m\u001B[0;34m\u001B[0m\u001B[0m\n\u001B[0m\u001B[1;32m     24\u001B[0m \u001B[0;34m\u001B[0m\u001B[0m\n\u001B[1;32m     25\u001B[0m \u001B[0mdate_to_compare\u001B[0m \u001B[0;34m=\u001B[0m \u001B[0minput\u001B[0m\u001B[0;34m(\u001B[0m\u001B[0;34m\"Please enter the second date you would like to compare (dd-mm-yyyy)\"\u001B[0m\u001B[0;34m)\u001B[0m\u001B[0;34m\u001B[0m\u001B[0;34m\u001B[0m\u001B[0m\n",
      "\u001B[0;32m<ipython-input-11-99d34ef532d8>\u001B[0m in \u001B[0;36mmv_vs_all_beds\u001B[0;34m(date)\u001B[0m\n\u001B[1;32m      5\u001B[0m     \u001B[0;31m# assigning regions and values to summary_df\u001B[0m\u001B[0;34m\u001B[0m\u001B[0;34m\u001B[0m\u001B[0;34m\u001B[0m\u001B[0m\n\u001B[1;32m      6\u001B[0m     \u001B[0msummary_df\u001B[0m\u001B[0;34m[\u001B[0m\u001B[0;34m'Region'\u001B[0m\u001B[0;34m]\u001B[0m \u001B[0;34m=\u001B[0m \u001B[0mdf_MV\u001B[0m\u001B[0;34m[\u001B[0m\u001B[0;34m'Name'\u001B[0m\u001B[0;34m]\u001B[0m\u001B[0;34m\u001B[0m\u001B[0;34m\u001B[0m\u001B[0m\n\u001B[0;32m----> 7\u001B[0;31m     \u001B[0msummary_df\u001B[0m\u001B[0;34m[\u001B[0m\u001B[0;34m'Mechanical Ventilation (MV)'\u001B[0m\u001B[0;34m]\u001B[0m \u001B[0;34m=\u001B[0m \u001B[0mdf_MV\u001B[0m\u001B[0;34m[\u001B[0m\u001B[0mdate_to_compare\u001B[0m\u001B[0;34m]\u001B[0m\u001B[0;34m\u001B[0m\u001B[0;34m\u001B[0m\u001B[0m\n\u001B[0m\u001B[1;32m      8\u001B[0m     \u001B[0msummary_df\u001B[0m\u001B[0;34m[\u001B[0m\u001B[0;34m'All Beds'\u001B[0m\u001B[0;34m]\u001B[0m \u001B[0;34m=\u001B[0m \u001B[0mdf_all_beds\u001B[0m\u001B[0;34m[\u001B[0m\u001B[0mdate_to_compare\u001B[0m\u001B[0;34m]\u001B[0m\u001B[0;34m\u001B[0m\u001B[0;34m\u001B[0m\u001B[0m\n\u001B[1;32m      9\u001B[0m     \u001B[0msummary_df\u001B[0m\u001B[0;34m[\u001B[0m\u001B[0;34m'Percentage on MV'\u001B[0m\u001B[0;34m]\u001B[0m \u001B[0;34m=\u001B[0m\u001B[0;34m(\u001B[0m\u001B[0;34m(\u001B[0m\u001B[0msummary_df\u001B[0m\u001B[0;34m[\u001B[0m\u001B[0;34m'Mechanical Ventilation (MV)'\u001B[0m\u001B[0;34m]\u001B[0m \u001B[0;34m/\u001B[0m\u001B[0msummary_df\u001B[0m\u001B[0;34m[\u001B[0m\u001B[0;34m'All Beds'\u001B[0m\u001B[0;34m]\u001B[0m\u001B[0;34m)\u001B[0m \u001B[0;34m*\u001B[0m \u001B[0;36m100\u001B[0m\u001B[0;34m)\u001B[0m\u001B[0;34m.\u001B[0m\u001B[0mround\u001B[0m\u001B[0;34m(\u001B[0m\u001B[0;36m1\u001B[0m\u001B[0;34m)\u001B[0m\u001B[0;34m\u001B[0m\u001B[0;34m\u001B[0m\u001B[0m\n",
      "\u001B[0;32m~/Desktop/PycharmProjects/Data_Science_Mini/venv/lib/python3.9/site-packages/pandas/core/frame.py\u001B[0m in \u001B[0;36m__getitem__\u001B[0;34m(self, key)\u001B[0m\n\u001B[1;32m   2904\u001B[0m             \u001B[0;32mif\u001B[0m \u001B[0mself\u001B[0m\u001B[0;34m.\u001B[0m\u001B[0mcolumns\u001B[0m\u001B[0;34m.\u001B[0m\u001B[0mnlevels\u001B[0m \u001B[0;34m>\u001B[0m \u001B[0;36m1\u001B[0m\u001B[0;34m:\u001B[0m\u001B[0;34m\u001B[0m\u001B[0;34m\u001B[0m\u001B[0m\n\u001B[1;32m   2905\u001B[0m                 \u001B[0;32mreturn\u001B[0m \u001B[0mself\u001B[0m\u001B[0;34m.\u001B[0m\u001B[0m_getitem_multilevel\u001B[0m\u001B[0;34m(\u001B[0m\u001B[0mkey\u001B[0m\u001B[0;34m)\u001B[0m\u001B[0;34m\u001B[0m\u001B[0;34m\u001B[0m\u001B[0m\n\u001B[0;32m-> 2906\u001B[0;31m             \u001B[0mindexer\u001B[0m \u001B[0;34m=\u001B[0m \u001B[0mself\u001B[0m\u001B[0;34m.\u001B[0m\u001B[0mcolumns\u001B[0m\u001B[0;34m.\u001B[0m\u001B[0mget_loc\u001B[0m\u001B[0;34m(\u001B[0m\u001B[0mkey\u001B[0m\u001B[0;34m)\u001B[0m\u001B[0;34m\u001B[0m\u001B[0;34m\u001B[0m\u001B[0m\n\u001B[0m\u001B[1;32m   2907\u001B[0m             \u001B[0;32mif\u001B[0m \u001B[0mis_integer\u001B[0m\u001B[0;34m(\u001B[0m\u001B[0mindexer\u001B[0m\u001B[0;34m)\u001B[0m\u001B[0;34m:\u001B[0m\u001B[0;34m\u001B[0m\u001B[0;34m\u001B[0m\u001B[0m\n\u001B[1;32m   2908\u001B[0m                 \u001B[0mindexer\u001B[0m \u001B[0;34m=\u001B[0m \u001B[0;34m[\u001B[0m\u001B[0mindexer\u001B[0m\u001B[0;34m]\u001B[0m\u001B[0;34m\u001B[0m\u001B[0;34m\u001B[0m\u001B[0m\n",
      "\u001B[0;32m~/Desktop/PycharmProjects/Data_Science_Mini/venv/lib/python3.9/site-packages/pandas/core/indexes/base.py\u001B[0m in \u001B[0;36mget_loc\u001B[0;34m(self, key, method, tolerance)\u001B[0m\n\u001B[1;32m   2898\u001B[0m                 \u001B[0;32mreturn\u001B[0m \u001B[0mself\u001B[0m\u001B[0;34m.\u001B[0m\u001B[0m_engine\u001B[0m\u001B[0;34m.\u001B[0m\u001B[0mget_loc\u001B[0m\u001B[0;34m(\u001B[0m\u001B[0mcasted_key\u001B[0m\u001B[0;34m)\u001B[0m\u001B[0;34m\u001B[0m\u001B[0;34m\u001B[0m\u001B[0m\n\u001B[1;32m   2899\u001B[0m             \u001B[0;32mexcept\u001B[0m \u001B[0mKeyError\u001B[0m \u001B[0;32mas\u001B[0m \u001B[0merr\u001B[0m\u001B[0;34m:\u001B[0m\u001B[0;34m\u001B[0m\u001B[0;34m\u001B[0m\u001B[0m\n\u001B[0;32m-> 2900\u001B[0;31m                 \u001B[0;32mraise\u001B[0m \u001B[0mKeyError\u001B[0m\u001B[0;34m(\u001B[0m\u001B[0mkey\u001B[0m\u001B[0;34m)\u001B[0m \u001B[0;32mfrom\u001B[0m \u001B[0merr\u001B[0m\u001B[0;34m\u001B[0m\u001B[0;34m\u001B[0m\u001B[0m\n\u001B[0m\u001B[1;32m   2901\u001B[0m \u001B[0;34m\u001B[0m\u001B[0m\n\u001B[1;32m   2902\u001B[0m         \u001B[0;32mif\u001B[0m \u001B[0mtolerance\u001B[0m \u001B[0;32mis\u001B[0m \u001B[0;32mnot\u001B[0m \u001B[0;32mNone\u001B[0m\u001B[0;34m:\u001B[0m\u001B[0;34m\u001B[0m\u001B[0;34m\u001B[0m\u001B[0m\n",
      "\u001B[0;31mKeyError\u001B[0m: ''"
     ]
    }
   ],
   "source": [
    "\n",
    "summary_df = pd.DataFrame(columns=['Region', 'Mechanical Ventilation (MV)',\n",
    "                                   'All Beds', 'Percentage on MV'])\n",
    "\n",
    "def mv_vs_all_beds(date):\n",
    "    # assigning regions and values to summary_df\n",
    "    summary_df['Region'] = df_MV['Name']\n",
    "    summary_df['Mechanical Ventilation (MV)'] = df_MV[date_to_compare]\n",
    "    summary_df['All Beds'] = df_all_beds[date_to_compare]\n",
    "    summary_df['Percentage on MV'] =((summary_df['Mechanical Ventilation (MV)'] /summary_df['All Beds']) * 100).round(1)\n",
    "\n",
    "    # Add title to summary_df\n",
    "    fig = plt.figure(figsize = (16,4))\n",
    "    ax = fig.add_subplot(111)\n",
    "    ax.table(cellText = summary_df.values,\n",
    "              rowLabels = summary_df.index,\n",
    "              colLabels = summary_df.columns,\n",
    "              loc = \"center\"\n",
    "             )\n",
    "    ax.set_title(f\"Percentage of MV beds on {date_to_compare}\")\n",
    "    ax.axis(\"off\")\n",
    "\n",
    "date_to_compare = input(\"Please enter the first date you would like to compare (dd-mm-yyyy)\")\n",
    "mv_vs_all_beds(date_to_compare)\n",
    "\n",
    "date_to_compare = input(\"Please enter the second date you would like to compare (dd-mm-yyyy)\")\n",
    "mv_vs_all_beds(date_to_compare)\n",
    "\n",
    "\n",
    "\n"
   ],
   "metadata": {
    "collapsed": false,
    "pycharm": {
     "name": "#%%\n"
    }
   }
  },
  {
   "cell_type": "markdown",
   "source": [
    "### Scatter plot of all beds vs MV beds (offset MV beds from 1 to 7 days later)\n"
   ],
   "metadata": {
    "collapsed": false,
    "pycharm": {
     "name": "#%%\nmd\n"
    }
   }
  },
  {
   "cell_type": "code",
   "execution_count": null,
   "outputs": [],
   "source": [
    "#extract total row from both 'All beds COVID' and 'MV beds COVID'\n",
    "from sklearn.model_selection import train_test_split\n",
    "from sklearn.linear_model import LinearRegression\n",
    "from sklearn import metrics\n",
    "\n",
    "# initialise variable to hold the smallest RMSE over the 6 days and assume that occurs\n",
    "# at day 0\n",
    "smallest_RMSE = 1000\n",
    "day = 1\n",
    "\n",
    "\n",
    "for i in range(1,10):\n",
    "\n",
    "    all_MV_beds = pd.read_excel(xlsx, 'MV beds COVID')\n",
    "    all_beds_england = pd.read_excel(xlsx, 'All beds COVID')\n",
    "\n",
    "    all_MV_beds = all_MV_beds.iloc[14][3+i:-1]\n",
    "    all_beds_england = all_beds_england.iloc[14][4:-i]\n",
    "\n",
    "\n",
    "    # need to reset the index here or NaNs will be introduced\n",
    "    all_beds_vs_MV_beds = pd.concat([\n",
    "        all_beds_england.reset_index(drop=True),\n",
    "        all_MV_beds.reset_index(drop=True)],\n",
    "        axis=1)\n",
    "    all_beds_vs_MV_beds.columns = ['All Beds','MV Beds']\n",
    "\n",
    "    # Linear Regression\n",
    "    X = all_beds_vs_MV_beds.iloc[:,:-1]\n",
    "    y = all_beds_vs_MV_beds.iloc[:,-1]\n",
    "    X_train, X_test, y_train, y_test = train_test_split(X, y, test_size=0.2, random_state=0)\n",
    "\n",
    "\n",
    "    # create an instance of the LinearRegression class\n",
    "    ln1 = LinearRegression()\n",
    "\n",
    "    # Train the regression model\n",
    "    ln1.fit(X_train, y_train)\n",
    "\n",
    "    # print the coefficients\n",
    "    print(f\"{i} days difference\")\n",
    "    print(f\"The intercept: {ln1.intercept_}\")\n",
    "    print(f\"The trained coefficient is: {ln1.coef_}\")\n",
    "    print()\n",
    "\n",
    "    # predicting the test set\n",
    "    y_pred = ln1.predict(X_test)\n",
    "\n",
    "    # RSME (with sqaured=False)\n",
    "    RMSE = metrics.mean_squared_error(y_pred, y_test, squared=False)\n",
    "    print(f\"RMSE = {RMSE}\")\n",
    "    if RMSE < smallest_RMSE:\n",
    "        smallest_RMSE = RMSE\n",
    "        day = i\n",
    "\n",
    "    # Visualising the Training set results\n",
    "    plt.scatter(X_train, y_train, color='green')\n",
    "    plt.plot(X_train, ln1.predict(X_train), color='yellow')\n",
    "    plt.title(f\"All beds vs MV beds (Training set) for day {i}\")\n",
    "    plt.xlabel('All beds')\n",
    "    plt.ylabel('MV beds')\n",
    "    plt.show()\n",
    "\n",
    "    # Visualising the Test set results\n",
    "    plt.scatter(X_test, y_test, color='red')\n",
    "\n",
    "    # don't replace anything here as regression line is based on testing set\n",
    "    plt.plot(X_train, ln1.predict(X_train), color='pink')\n",
    "    plt.title(f\"All beds vs MV beds (Test set) {i} days difference\")\n",
    "    plt.xlabel('All beds')\n",
    "    plt.ylabel('MV beds')\n",
    "    plt.show()\n",
    "\n"
   ],
   "metadata": {
    "collapsed": false,
    "pycharm": {
     "name": "#%%\n"
    }
   }
  },
  {
   "cell_type": "code",
   "execution_count": null,
   "outputs": [],
   "source": [
    "print(f\"The smallest RMSE is {smallest_RMSE.round(1)} from {day} difference\")"
   ],
   "metadata": {
    "collapsed": false,
    "pycharm": {
     "name": "#%%\n"
    }
   }
  },
  {
   "cell_type": "markdown",
   "source": [
    "### Does the linear regression shows that after 1 day patients move onto a MV bed?"
   ],
   "metadata": {
    "collapsed": false,
    "pycharm": {
     "name": "#%%\nmd\n"
    }
   }
  },
  {
   "cell_type": "markdown",
   "source": [
    "### Multiple Linear Regression\n",
    "##### Independent variables 'All Beds' and 'Hospital Admissions and Diagnosis'\n",
    "##### Dependent variable 'MV Beds'"
   ],
   "metadata": {
    "collapsed": false,
    "pycharm": {
     "name": "#%%\nmd\n"
    }
   }
  },
  {
   "cell_type": "code",
   "execution_count": null,
   "outputs": [],
   "source": [
    "\n",
    "# UPDATE!! 20\n"
   ],
   "metadata": {
    "collapsed": false,
    "pycharm": {
     "name": "#%%\n"
    }
   }
  },
  {
   "cell_type": "code",
   "execution_count": null,
   "outputs": [],
   "source": [],
   "metadata": {
    "collapsed": false,
    "pycharm": {
     "name": "#%%\n"
    }
   }
  },
  {
   "cell_type": "code",
   "execution_count": null,
   "outputs": [],
   "source": [],
   "metadata": {
    "collapsed": false,
    "pycharm": {
     "name": "#%%\n"
    }
   }
  }
 ],
 "metadata": {
  "kernelspec": {
   "display_name": "Python 3",
   "language": "python",
   "name": "python3"
  },
  "language_info": {
   "codemirror_mode": {
    "name": "ipython",
    "version": 2
   },
   "file_extension": ".py",
   "mimetype": "text/x-python",
   "name": "python",
   "nbconvert_exporter": "python",
   "pygments_lexer": "ipython2",
   "version": "2.7.6"
  }
 },
 "nbformat": 4,
 "nbformat_minor": 0
}