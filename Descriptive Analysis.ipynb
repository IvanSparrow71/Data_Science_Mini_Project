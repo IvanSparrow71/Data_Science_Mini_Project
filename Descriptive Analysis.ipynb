{
 "cells": [
  {
   "cell_type": "code",
   "execution_count": 139,
   "outputs": [],
   "source": [
    "import pandas as pd\n",
    "import numpy as np\n",
    "from scipy.stats import zscore"
   ],
   "metadata": {
    "collapsed": false,
    "pycharm": {
     "name": "#%%\n"
    }
   }
  },
  {
   "cell_type": "markdown",
   "source": [
    "### Reading in of various dataframes from 'Processed' folder"
   ],
   "metadata": {
    "collapsed": false,
    "pycharm": {
     "name": "#%% md\n"
    }
   }
  },
  {
   "cell_type": "code",
   "execution_count": 140,
   "metadata": {
    "collapsed": true
   },
   "outputs": [
    {
     "data": {
      "text/plain": "         Date  Estimate of number testing positive  \\\n0  12/07/2020                                23600   \n1  19/07/2020                                27700   \n2  26/07/2020                                35700   \n3  02/08/2020                                28300   \n4  09/08/2020                                28300   \n\n   Proportion of population that had COVID  \n0                                 0.000435  \n1                                 0.000500  \n2                                 0.000667  \n3                                 0.000526  \n4                                 0.000526  ",
      "text/html": "<div>\n<style scoped>\n    .dataframe tbody tr th:only-of-type {\n        vertical-align: middle;\n    }\n\n    .dataframe tbody tr th {\n        vertical-align: top;\n    }\n\n    .dataframe thead th {\n        text-align: right;\n    }\n</style>\n<table border=\"1\" class=\"dataframe\">\n  <thead>\n    <tr style=\"text-align: right;\">\n      <th></th>\n      <th>Date</th>\n      <th>Estimate of number testing positive</th>\n      <th>Proportion of population that had COVID</th>\n    </tr>\n  </thead>\n  <tbody>\n    <tr>\n      <th>0</th>\n      <td>12/07/2020</td>\n      <td>23600</td>\n      <td>0.000435</td>\n    </tr>\n    <tr>\n      <th>1</th>\n      <td>19/07/2020</td>\n      <td>27700</td>\n      <td>0.000500</td>\n    </tr>\n    <tr>\n      <th>2</th>\n      <td>26/07/2020</td>\n      <td>35700</td>\n      <td>0.000667</td>\n    </tr>\n    <tr>\n      <th>3</th>\n      <td>02/08/2020</td>\n      <td>28300</td>\n      <td>0.000526</td>\n    </tr>\n    <tr>\n      <th>4</th>\n      <td>09/08/2020</td>\n      <td>28300</td>\n      <td>0.000526</td>\n    </tr>\n  </tbody>\n</table>\n</div>"
     },
     "execution_count": 140,
     "metadata": {},
     "output_type": "execute_result"
    }
   ],
   "source": [
    "pos_cases_df = pd.read_csv('Data/Processed/positive_cases.csv')\n",
    "pos_cases_df.head()"
   ]
  },
  {
   "cell_type": "code",
   "execution_count": 141,
   "outputs": [
    {
     "data": {
      "text/plain": "                     Region  Mechanical Ventilation (MV)  All Beds  \\\n0           East of England                        116.0    1802.0   \n1                    London                        311.0    2726.0   \n2                  Midlands                        246.0    3289.0   \n3  North East and Yorkshire                        137.0    2396.0   \n4                North West                        159.0    2255.0   \n\n   Non MV Beds  Percentage on MV  \n0       1686.0               6.4  \n1       2415.0              11.4  \n2       3043.0               7.5  \n3       2259.0               5.7  \n4       2096.0               7.1  ",
      "text/html": "<div>\n<style scoped>\n    .dataframe tbody tr th:only-of-type {\n        vertical-align: middle;\n    }\n\n    .dataframe tbody tr th {\n        vertical-align: top;\n    }\n\n    .dataframe thead th {\n        text-align: right;\n    }\n</style>\n<table border=\"1\" class=\"dataframe\">\n  <thead>\n    <tr style=\"text-align: right;\">\n      <th></th>\n      <th>Region</th>\n      <th>Mechanical Ventilation (MV)</th>\n      <th>All Beds</th>\n      <th>Non MV Beds</th>\n      <th>Percentage on MV</th>\n    </tr>\n  </thead>\n  <tbody>\n    <tr>\n      <th>0</th>\n      <td>East of England</td>\n      <td>116.0</td>\n      <td>1802.0</td>\n      <td>1686.0</td>\n      <td>6.4</td>\n    </tr>\n    <tr>\n      <th>1</th>\n      <td>London</td>\n      <td>311.0</td>\n      <td>2726.0</td>\n      <td>2415.0</td>\n      <td>11.4</td>\n    </tr>\n    <tr>\n      <th>2</th>\n      <td>Midlands</td>\n      <td>246.0</td>\n      <td>3289.0</td>\n      <td>3043.0</td>\n      <td>7.5</td>\n    </tr>\n    <tr>\n      <th>3</th>\n      <td>North East and Yorkshire</td>\n      <td>137.0</td>\n      <td>2396.0</td>\n      <td>2259.0</td>\n      <td>5.7</td>\n    </tr>\n    <tr>\n      <th>4</th>\n      <td>North West</td>\n      <td>159.0</td>\n      <td>2255.0</td>\n      <td>2096.0</td>\n      <td>7.1</td>\n    </tr>\n  </tbody>\n</table>\n</div>"
     },
     "execution_count": 141,
     "metadata": {},
     "output_type": "execute_result"
    }
   ],
   "source": [
    "eighteenth_Dec_df = pd.read_csv('Data/Processed/18_Dec.csv')\n",
    "eighteenth_Dec_df.head()"
   ],
   "metadata": {
    "collapsed": false,
    "pycharm": {
     "name": "#%%\n"
    }
   }
  },
  {
   "cell_type": "code",
   "execution_count": 142,
   "outputs": [
    {
     "data": {
      "text/plain": "                       Name  01-08-2020  02-08-2020  03-08-2020  04-08-2020  \\\n0           East of England        85.0        80.0        73.0        69.0   \n1                    London       126.0       120.0       122.0       118.0   \n2                  Midlands       216.0       194.0       206.0       182.0   \n3  North East and Yorkshire       117.0       120.0       115.0       123.0   \n4                North West       191.0       188.0       181.0       181.0   \n\n   05-08-2020  06-08-2020  07-08-2020  08-08-2020  09-08-2020  ...  \\\n0        70.0        72.0        60.0        59.0        59.0  ...   \n1       111.0       113.0       105.0       126.0       107.0  ...   \n2       181.0       179.0       178.0        96.0       101.0  ...   \n3       128.0       132.0       111.0       117.0       117.0  ...   \n4       183.0       160.0       160.0       154.0       136.0  ...   \n\n   13-12-2020  14-12-2020  15-12-2020  16-12-2020  17-12-2020  18-12-2020  \\\n0      1432.0      1506.0      1502.0      1734.0      1770.0      1802.0   \n1      2212.0      2330.0      2482.0      2543.0      2607.0      2726.0   \n2      3276.0      3286.0      3097.0      3191.0      3292.0      3289.0   \n3      2353.0      2483.0      2482.0      2505.0      2494.0      2396.0   \n4      2266.0      2325.0      2322.0      2276.0      2271.0      2255.0   \n\n   19-12-2020  20-12-2020  21-12-2020  22-12-2020  \n0      1943.0      1954.0      2163.0      2205.0  \n1      2909.0      3067.0      3367.0      3559.0  \n2      3293.0      3203.0      3389.0      3447.0  \n3      2413.0      2464.0      2530.0      2496.0  \n4      2253.0      2315.0      2399.0      2406.0  \n\n[5 rows x 145 columns]",
      "text/html": "<div>\n<style scoped>\n    .dataframe tbody tr th:only-of-type {\n        vertical-align: middle;\n    }\n\n    .dataframe tbody tr th {\n        vertical-align: top;\n    }\n\n    .dataframe thead th {\n        text-align: right;\n    }\n</style>\n<table border=\"1\" class=\"dataframe\">\n  <thead>\n    <tr style=\"text-align: right;\">\n      <th></th>\n      <th>Name</th>\n      <th>01-08-2020</th>\n      <th>02-08-2020</th>\n      <th>03-08-2020</th>\n      <th>04-08-2020</th>\n      <th>05-08-2020</th>\n      <th>06-08-2020</th>\n      <th>07-08-2020</th>\n      <th>08-08-2020</th>\n      <th>09-08-2020</th>\n      <th>...</th>\n      <th>13-12-2020</th>\n      <th>14-12-2020</th>\n      <th>15-12-2020</th>\n      <th>16-12-2020</th>\n      <th>17-12-2020</th>\n      <th>18-12-2020</th>\n      <th>19-12-2020</th>\n      <th>20-12-2020</th>\n      <th>21-12-2020</th>\n      <th>22-12-2020</th>\n    </tr>\n  </thead>\n  <tbody>\n    <tr>\n      <th>0</th>\n      <td>East of England</td>\n      <td>85.0</td>\n      <td>80.0</td>\n      <td>73.0</td>\n      <td>69.0</td>\n      <td>70.0</td>\n      <td>72.0</td>\n      <td>60.0</td>\n      <td>59.0</td>\n      <td>59.0</td>\n      <td>...</td>\n      <td>1432.0</td>\n      <td>1506.0</td>\n      <td>1502.0</td>\n      <td>1734.0</td>\n      <td>1770.0</td>\n      <td>1802.0</td>\n      <td>1943.0</td>\n      <td>1954.0</td>\n      <td>2163.0</td>\n      <td>2205.0</td>\n    </tr>\n    <tr>\n      <th>1</th>\n      <td>London</td>\n      <td>126.0</td>\n      <td>120.0</td>\n      <td>122.0</td>\n      <td>118.0</td>\n      <td>111.0</td>\n      <td>113.0</td>\n      <td>105.0</td>\n      <td>126.0</td>\n      <td>107.0</td>\n      <td>...</td>\n      <td>2212.0</td>\n      <td>2330.0</td>\n      <td>2482.0</td>\n      <td>2543.0</td>\n      <td>2607.0</td>\n      <td>2726.0</td>\n      <td>2909.0</td>\n      <td>3067.0</td>\n      <td>3367.0</td>\n      <td>3559.0</td>\n    </tr>\n    <tr>\n      <th>2</th>\n      <td>Midlands</td>\n      <td>216.0</td>\n      <td>194.0</td>\n      <td>206.0</td>\n      <td>182.0</td>\n      <td>181.0</td>\n      <td>179.0</td>\n      <td>178.0</td>\n      <td>96.0</td>\n      <td>101.0</td>\n      <td>...</td>\n      <td>3276.0</td>\n      <td>3286.0</td>\n      <td>3097.0</td>\n      <td>3191.0</td>\n      <td>3292.0</td>\n      <td>3289.0</td>\n      <td>3293.0</td>\n      <td>3203.0</td>\n      <td>3389.0</td>\n      <td>3447.0</td>\n    </tr>\n    <tr>\n      <th>3</th>\n      <td>North East and Yorkshire</td>\n      <td>117.0</td>\n      <td>120.0</td>\n      <td>115.0</td>\n      <td>123.0</td>\n      <td>128.0</td>\n      <td>132.0</td>\n      <td>111.0</td>\n      <td>117.0</td>\n      <td>117.0</td>\n      <td>...</td>\n      <td>2353.0</td>\n      <td>2483.0</td>\n      <td>2482.0</td>\n      <td>2505.0</td>\n      <td>2494.0</td>\n      <td>2396.0</td>\n      <td>2413.0</td>\n      <td>2464.0</td>\n      <td>2530.0</td>\n      <td>2496.0</td>\n    </tr>\n    <tr>\n      <th>4</th>\n      <td>North West</td>\n      <td>191.0</td>\n      <td>188.0</td>\n      <td>181.0</td>\n      <td>181.0</td>\n      <td>183.0</td>\n      <td>160.0</td>\n      <td>160.0</td>\n      <td>154.0</td>\n      <td>136.0</td>\n      <td>...</td>\n      <td>2266.0</td>\n      <td>2325.0</td>\n      <td>2322.0</td>\n      <td>2276.0</td>\n      <td>2271.0</td>\n      <td>2255.0</td>\n      <td>2253.0</td>\n      <td>2315.0</td>\n      <td>2399.0</td>\n      <td>2406.0</td>\n    </tr>\n  </tbody>\n</table>\n<p>5 rows × 145 columns</p>\n</div>"
     },
     "execution_count": 142,
     "metadata": {},
     "output_type": "execute_result"
    }
   ],
   "source": [
    "all_beds_df = pd.read_csv('Data/Processed/all_beds_df.csv')\n",
    "all_beds_df.drop('Unnamed: 0', 1, inplace=True)\n",
    "all_beds_df.head()"
   ],
   "metadata": {
    "collapsed": false,
    "pycharm": {
     "name": "#%%\n"
    }
   }
  },
  {
   "cell_type": "code",
   "execution_count": 143,
   "outputs": [
    {
     "data": {
      "text/plain": "                       Name  01-08-2020  02-08-2020  03-08-2020  04-08-2020  \\\n0           East of England         9.0         9.0         8.0         8.0   \n1                    London        16.0        15.0        17.0        15.0   \n2                  Midlands        13.0        10.0        10.0        13.0   \n3  North East and Yorkshire         9.0         8.0         7.0         7.0   \n4                North West        15.0        15.0        13.0        13.0   \n\n   05-08-2020  06-08-2020  07-08-2020  08-08-2020  09-08-2020  ...  \\\n0         8.0         9.0         9.0        11.0         9.0  ...   \n1        13.0        11.0        10.0        10.0        12.0  ...   \n2        13.0        14.0        10.0         5.0         6.0  ...   \n3         7.0         6.0         7.0         8.0         7.0  ...   \n4        13.0        13.0        13.0        14.0        14.0  ...   \n\n   13-12-2020  14-12-2020  15-12-2020  16-12-2020  17-12-2020  18-12-2020  \\\n0        99.0       103.0       103.0       108.0       113.0       116.0   \n1       256.0       262.0       292.0       291.0       301.0       311.0   \n2       278.0       257.0       251.0       254.0       257.0       246.0   \n3       147.0       145.0       144.0       142.0       145.0       137.0   \n4       165.0       161.0       162.0       159.0       159.0       159.0   \n\n   19-12-2020  20-12-2020  21-12-2020  22-12-2020  \n0       124.0       121.0       120.0       127.0  \n1       322.0       355.0       378.0       400.0  \n2       254.0       243.0       257.0       252.0  \n3       152.0       149.0       149.0       154.0  \n4       162.0       156.0       165.0       153.0  \n\n[5 rows x 145 columns]",
      "text/html": "<div>\n<style scoped>\n    .dataframe tbody tr th:only-of-type {\n        vertical-align: middle;\n    }\n\n    .dataframe tbody tr th {\n        vertical-align: top;\n    }\n\n    .dataframe thead th {\n        text-align: right;\n    }\n</style>\n<table border=\"1\" class=\"dataframe\">\n  <thead>\n    <tr style=\"text-align: right;\">\n      <th></th>\n      <th>Name</th>\n      <th>01-08-2020</th>\n      <th>02-08-2020</th>\n      <th>03-08-2020</th>\n      <th>04-08-2020</th>\n      <th>05-08-2020</th>\n      <th>06-08-2020</th>\n      <th>07-08-2020</th>\n      <th>08-08-2020</th>\n      <th>09-08-2020</th>\n      <th>...</th>\n      <th>13-12-2020</th>\n      <th>14-12-2020</th>\n      <th>15-12-2020</th>\n      <th>16-12-2020</th>\n      <th>17-12-2020</th>\n      <th>18-12-2020</th>\n      <th>19-12-2020</th>\n      <th>20-12-2020</th>\n      <th>21-12-2020</th>\n      <th>22-12-2020</th>\n    </tr>\n  </thead>\n  <tbody>\n    <tr>\n      <th>0</th>\n      <td>East of England</td>\n      <td>9.0</td>\n      <td>9.0</td>\n      <td>8.0</td>\n      <td>8.0</td>\n      <td>8.0</td>\n      <td>9.0</td>\n      <td>9.0</td>\n      <td>11.0</td>\n      <td>9.0</td>\n      <td>...</td>\n      <td>99.0</td>\n      <td>103.0</td>\n      <td>103.0</td>\n      <td>108.0</td>\n      <td>113.0</td>\n      <td>116.0</td>\n      <td>124.0</td>\n      <td>121.0</td>\n      <td>120.0</td>\n      <td>127.0</td>\n    </tr>\n    <tr>\n      <th>1</th>\n      <td>London</td>\n      <td>16.0</td>\n      <td>15.0</td>\n      <td>17.0</td>\n      <td>15.0</td>\n      <td>13.0</td>\n      <td>11.0</td>\n      <td>10.0</td>\n      <td>10.0</td>\n      <td>12.0</td>\n      <td>...</td>\n      <td>256.0</td>\n      <td>262.0</td>\n      <td>292.0</td>\n      <td>291.0</td>\n      <td>301.0</td>\n      <td>311.0</td>\n      <td>322.0</td>\n      <td>355.0</td>\n      <td>378.0</td>\n      <td>400.0</td>\n    </tr>\n    <tr>\n      <th>2</th>\n      <td>Midlands</td>\n      <td>13.0</td>\n      <td>10.0</td>\n      <td>10.0</td>\n      <td>13.0</td>\n      <td>13.0</td>\n      <td>14.0</td>\n      <td>10.0</td>\n      <td>5.0</td>\n      <td>6.0</td>\n      <td>...</td>\n      <td>278.0</td>\n      <td>257.0</td>\n      <td>251.0</td>\n      <td>254.0</td>\n      <td>257.0</td>\n      <td>246.0</td>\n      <td>254.0</td>\n      <td>243.0</td>\n      <td>257.0</td>\n      <td>252.0</td>\n    </tr>\n    <tr>\n      <th>3</th>\n      <td>North East and Yorkshire</td>\n      <td>9.0</td>\n      <td>8.0</td>\n      <td>7.0</td>\n      <td>7.0</td>\n      <td>7.0</td>\n      <td>6.0</td>\n      <td>7.0</td>\n      <td>8.0</td>\n      <td>7.0</td>\n      <td>...</td>\n      <td>147.0</td>\n      <td>145.0</td>\n      <td>144.0</td>\n      <td>142.0</td>\n      <td>145.0</td>\n      <td>137.0</td>\n      <td>152.0</td>\n      <td>149.0</td>\n      <td>149.0</td>\n      <td>154.0</td>\n    </tr>\n    <tr>\n      <th>4</th>\n      <td>North West</td>\n      <td>15.0</td>\n      <td>15.0</td>\n      <td>13.0</td>\n      <td>13.0</td>\n      <td>13.0</td>\n      <td>13.0</td>\n      <td>13.0</td>\n      <td>14.0</td>\n      <td>14.0</td>\n      <td>...</td>\n      <td>165.0</td>\n      <td>161.0</td>\n      <td>162.0</td>\n      <td>159.0</td>\n      <td>159.0</td>\n      <td>159.0</td>\n      <td>162.0</td>\n      <td>156.0</td>\n      <td>165.0</td>\n      <td>153.0</td>\n    </tr>\n  </tbody>\n</table>\n<p>5 rows × 145 columns</p>\n</div>"
     },
     "execution_count": 143,
     "metadata": {},
     "output_type": "execute_result"
    }
   ],
   "source": [
    "MV_beds_df = pd.read_csv('Data/Processed/MV_df.csv')\n",
    "MV_beds_df.drop('Unnamed: 0', 1, inplace=True)\n",
    "MV_beds_df.head()"
   ],
   "metadata": {
    "collapsed": false,
    "pycharm": {
     "name": "#%%\n"
    }
   }
  },
  {
   "cell_type": "code",
   "execution_count": 144,
   "outputs": [
    {
     "data": {
      "text/plain": "         NHS England Region  01-03-2020  02-03-2020  03-03-2020  04-03-2020  \\\n0           East Of England           0           1           0           0   \n1                    London           0           0           0           0   \n2                  Midlands           0           0           1           0   \n3  North East And Yorkshire           0           0           0           0   \n4                North West           0           0           0           0   \n\n   05-03-2020  06-03-2020  07-03-2020  08-03-2020  09-03-2020  ...  \\\n0           0           1           0           0           1  ...   \n1           0           1           0           0           1  ...   \n2           0           0           0           2           1  ...   \n3           0           0           0           0           0  ...   \n4           1           0           0           1           0  ...   \n\n   18-12-2020  19-12-2020  20-12-2020  21-12-2020  22-12-2020  23-12-2020  \\\n0          34          42          42          55          40          39   \n1          39          38          50          54          48          50   \n2          76          54          65          77          64          55   \n3          54          47          48          33          50          41   \n4          46          45          36          47          47          41   \n\n   24-12-2020  25-12-2020  26-12-2020  27-12-2020  \n0          24          28          24           5  \n1          41          35          24           9  \n2          47          53          38           7  \n3          41          39          31           8  \n4          29          23          24           4  \n\n[5 rows x 303 columns]",
      "text/html": "<div>\n<style scoped>\n    .dataframe tbody tr th:only-of-type {\n        vertical-align: middle;\n    }\n\n    .dataframe tbody tr th {\n        vertical-align: top;\n    }\n\n    .dataframe thead th {\n        text-align: right;\n    }\n</style>\n<table border=\"1\" class=\"dataframe\">\n  <thead>\n    <tr style=\"text-align: right;\">\n      <th></th>\n      <th>NHS England Region</th>\n      <th>01-03-2020</th>\n      <th>02-03-2020</th>\n      <th>03-03-2020</th>\n      <th>04-03-2020</th>\n      <th>05-03-2020</th>\n      <th>06-03-2020</th>\n      <th>07-03-2020</th>\n      <th>08-03-2020</th>\n      <th>09-03-2020</th>\n      <th>...</th>\n      <th>18-12-2020</th>\n      <th>19-12-2020</th>\n      <th>20-12-2020</th>\n      <th>21-12-2020</th>\n      <th>22-12-2020</th>\n      <th>23-12-2020</th>\n      <th>24-12-2020</th>\n      <th>25-12-2020</th>\n      <th>26-12-2020</th>\n      <th>27-12-2020</th>\n    </tr>\n  </thead>\n  <tbody>\n    <tr>\n      <th>0</th>\n      <td>East Of England</td>\n      <td>0</td>\n      <td>1</td>\n      <td>0</td>\n      <td>0</td>\n      <td>0</td>\n      <td>1</td>\n      <td>0</td>\n      <td>0</td>\n      <td>1</td>\n      <td>...</td>\n      <td>34</td>\n      <td>42</td>\n      <td>42</td>\n      <td>55</td>\n      <td>40</td>\n      <td>39</td>\n      <td>24</td>\n      <td>28</td>\n      <td>24</td>\n      <td>5</td>\n    </tr>\n    <tr>\n      <th>1</th>\n      <td>London</td>\n      <td>0</td>\n      <td>0</td>\n      <td>0</td>\n      <td>0</td>\n      <td>0</td>\n      <td>1</td>\n      <td>0</td>\n      <td>0</td>\n      <td>1</td>\n      <td>...</td>\n      <td>39</td>\n      <td>38</td>\n      <td>50</td>\n      <td>54</td>\n      <td>48</td>\n      <td>50</td>\n      <td>41</td>\n      <td>35</td>\n      <td>24</td>\n      <td>9</td>\n    </tr>\n    <tr>\n      <th>2</th>\n      <td>Midlands</td>\n      <td>0</td>\n      <td>0</td>\n      <td>1</td>\n      <td>0</td>\n      <td>0</td>\n      <td>0</td>\n      <td>0</td>\n      <td>2</td>\n      <td>1</td>\n      <td>...</td>\n      <td>76</td>\n      <td>54</td>\n      <td>65</td>\n      <td>77</td>\n      <td>64</td>\n      <td>55</td>\n      <td>47</td>\n      <td>53</td>\n      <td>38</td>\n      <td>7</td>\n    </tr>\n    <tr>\n      <th>3</th>\n      <td>North East And Yorkshire</td>\n      <td>0</td>\n      <td>0</td>\n      <td>0</td>\n      <td>0</td>\n      <td>0</td>\n      <td>0</td>\n      <td>0</td>\n      <td>0</td>\n      <td>0</td>\n      <td>...</td>\n      <td>54</td>\n      <td>47</td>\n      <td>48</td>\n      <td>33</td>\n      <td>50</td>\n      <td>41</td>\n      <td>41</td>\n      <td>39</td>\n      <td>31</td>\n      <td>8</td>\n    </tr>\n    <tr>\n      <th>4</th>\n      <td>North West</td>\n      <td>0</td>\n      <td>0</td>\n      <td>0</td>\n      <td>0</td>\n      <td>1</td>\n      <td>0</td>\n      <td>0</td>\n      <td>1</td>\n      <td>0</td>\n      <td>...</td>\n      <td>46</td>\n      <td>45</td>\n      <td>36</td>\n      <td>47</td>\n      <td>47</td>\n      <td>41</td>\n      <td>29</td>\n      <td>23</td>\n      <td>24</td>\n      <td>4</td>\n    </tr>\n  </tbody>\n</table>\n<p>5 rows × 303 columns</p>\n</div>"
     },
     "execution_count": 144,
     "metadata": {},
     "output_type": "execute_result"
    }
   ],
   "source": [
    "daily_deaths_df = pd.read_csv('Data/Processed/daily_deaths.csv')\n",
    "daily_deaths_df.drop('Unnamed: 0', 1, inplace=True)\n",
    "daily_deaths_df.head()"
   ],
   "metadata": {
    "collapsed": false,
    "pycharm": {
     "name": "#%%\n"
    }
   }
  },
  {
   "cell_type": "markdown",
   "source": [
    "### Function to find range of all the columns in each dataframe, pick the one with the highest range and then display summary statistics ('.describe()')"
   ],
   "metadata": {
    "collapsed": false,
    "pycharm": {
     "name": "#%% md\n"
    }
   }
  },
  {
   "cell_type": "code",
   "execution_count": 145,
   "outputs": [
    {
     "name": "stdout",
     "output_type": "stream",
     "text": [
      "all_beds_df: \n",
      "The column with the highest range is: 16-11-2020\n",
      "0     856.0\n",
      "1    1474.0\n",
      "2    3274.0\n",
      "3    3473.0\n",
      "4    3158.0\n",
      "5    1182.0\n",
      "6     896.0\n",
      "Name: 16-11-2020, dtype: float64\n",
      "\n",
      "count       7.0\n",
      "mean     2044.7\n",
      "std      1196.7\n",
      "min       856.0\n",
      "25%      1039.0\n",
      "50%      1474.0\n",
      "75%      3216.0\n",
      "max      3473.0\n",
      "Name: 16-11-2020, dtype: float64\n",
      "\n",
      "\n",
      "MV_beds_df: \n",
      "The column with the highest range is: 22-12-2020\n",
      "0    127.0\n",
      "1    400.0\n",
      "2    252.0\n",
      "3    154.0\n",
      "4    153.0\n",
      "5    197.0\n",
      "6     56.0\n",
      "Name: 22-12-2020, dtype: float64\n",
      "\n",
      "count      7.0\n",
      "mean     191.3\n",
      "std      110.0\n",
      "min       56.0\n",
      "25%      140.0\n",
      "50%      154.0\n",
      "75%      224.5\n",
      "max      400.0\n",
      "Name: 22-12-2020, dtype: float64\n",
      "\n",
      "\n",
      "daily_deaths_df: \n",
      "The column with the highest range is: 08-04-2020\n",
      "0    111\n",
      "1    239\n",
      "2    186\n",
      "3    107\n",
      "4    127\n",
      "5     83\n",
      "6     47\n",
      "Name: 08-04-2020, dtype: int64\n",
      "\n",
      "count      7.0\n",
      "mean     128.6\n",
      "std       64.5\n",
      "min       47.0\n",
      "25%       95.0\n",
      "50%      111.0\n",
      "75%      156.5\n",
      "max      239.0\n",
      "Name: 08-04-2020, dtype: float64\n",
      "\n",
      "\n",
      "pos_cases_df:\n",
      "The column with the highest range is: Estimate of number testing positive\n",
      "0      23600\n",
      "1      27700\n",
      "2      35700\n",
      "3      28300\n",
      "4      28300\n",
      "5      24600\n",
      "6      28200\n",
      "7      27100\n",
      "8      39700\n",
      "9      59800\n",
      "10    103600\n",
      "11    116600\n",
      "12    224400\n",
      "13    336500\n",
      "14    433300\n",
      "15    568100\n",
      "16    618700\n",
      "17    654000\n",
      "18    664700\n",
      "19    633000\n",
      "20    521300\n",
      "21    481500\n",
      "22    567300\n",
      "23    645800\n",
      "Name: Estimate of number testing positive, dtype: int64\n",
      "\n",
      "count        24.0\n",
      "mean     287158.3\n",
      "std      265915.6\n",
      "min       23600.0\n",
      "25%       28300.0\n",
      "50%      170500.0\n",
      "75%      567500.0\n",
      "max      664700.0\n",
      "Name: Estimate of number testing positive, dtype: float64\n",
      "\n",
      "\n",
      "eighteenth_Dec_df:\n",
      "The column with the highest range is: All Beds\n",
      "0     1802.0\n",
      "1     2726.0\n",
      "2     3289.0\n",
      "3     2396.0\n",
      "4     2255.0\n",
      "5     2372.0\n",
      "6     1026.0\n",
      "7    15866.0\n",
      "Name: All Beds, dtype: float64\n",
      "\n",
      "count        8.0\n",
      "mean      3966.5\n",
      "std       4853.1\n",
      "min       1026.0\n",
      "25%       2141.8\n",
      "50%       2384.0\n",
      "75%       2866.8\n",
      "max      15866.0\n",
      "Name: All Beds, dtype: float64\n",
      "\n",
      "\n"
     ]
    }
   ],
   "source": [
    "def range_of_dataframe(df):\n",
    "    numeric_columns = df.select_dtypes(include=[np.number]).columns\n",
    "    df = df[numeric_columns]\n",
    "    max_column_index = (df.max() - df.min()).idxmax()\n",
    "    print(f\"The column with the highest range is: {max_column_index}\")\n",
    "    print(df[max_column_index])\n",
    "    print()\n",
    "    print(df[max_column_index].describe().round(1))\n",
    "    print()\n",
    "    print()\n",
    "\n",
    "print(\"all_beds_df: \")\n",
    "range_of_dataframe(all_beds_df)\n",
    "print(\"MV_beds_df: \")\n",
    "range_of_dataframe(MV_beds_df)\n",
    "print(\"daily_deaths_df: \")\n",
    "range_of_dataframe(daily_deaths_df)\n",
    "print(\"pos_cases_df:\")\n",
    "range_of_dataframe(pos_cases_df)\n",
    "print(\"eighteenth_Dec_df:\")\n",
    "range_of_dataframe(eighteenth_Dec_df)\n",
    "\n"
   ],
   "metadata": {
    "collapsed": false,
    "pycharm": {
     "name": "#%%\n"
    }
   }
  },
  {
   "cell_type": "markdown",
   "source": [
    "### Function to compute z-scores for all numeric columns and to save the new dataframe"
   ],
   "metadata": {
    "collapsed": false,
    "pycharm": {
     "name": "#%% md\n"
    }
   }
  },
  {
   "cell_type": "code",
   "execution_count": 1,
   "outputs": [
    {
     "ename": "NameError",
     "evalue": "name 'all_beds_df' is not defined",
     "output_type": "error",
     "traceback": [
      "\u001B[0;31m---------------------------------------------------------------------------\u001B[0m",
      "\u001B[0;31mNameError\u001B[0m                                 Traceback (most recent call last)",
      "\u001B[0;32m<ipython-input-1-94a41993daa5>\u001B[0m in \u001B[0;36m<module>\u001B[0;34m\u001B[0m\n\u001B[1;32m      5\u001B[0m \u001B[0;34m\u001B[0m\u001B[0m\n\u001B[1;32m      6\u001B[0m \u001B[0;34m\u001B[0m\u001B[0m\n\u001B[0;32m----> 7\u001B[0;31m \u001B[0mz_score\u001B[0m\u001B[0;34m(\u001B[0m\u001B[0mall_beds_df\u001B[0m\u001B[0;34m)\u001B[0m\u001B[0;34m.\u001B[0m\u001B[0mto_csv\u001B[0m\u001B[0;34m(\u001B[0m\u001B[0;34m'Data/Processed/z_all_beds_df.csv'\u001B[0m\u001B[0;34m)\u001B[0m\u001B[0;34m\u001B[0m\u001B[0;34m\u001B[0m\u001B[0m\n\u001B[0m\u001B[1;32m      8\u001B[0m \u001B[0mz_score\u001B[0m\u001B[0;34m(\u001B[0m\u001B[0mMV_beds_df\u001B[0m\u001B[0;34m)\u001B[0m\u001B[0;34m.\u001B[0m\u001B[0mto_csv\u001B[0m\u001B[0;34m(\u001B[0m\u001B[0;34m'Data/Processed/z_MV_beds_df.csv'\u001B[0m\u001B[0;34m)\u001B[0m\u001B[0;34m\u001B[0m\u001B[0;34m\u001B[0m\u001B[0m\n\u001B[1;32m      9\u001B[0m \u001B[0mz_score\u001B[0m\u001B[0;34m(\u001B[0m\u001B[0mdaily_deaths_df\u001B[0m\u001B[0;34m)\u001B[0m\u001B[0;34m.\u001B[0m\u001B[0mto_csv\u001B[0m\u001B[0;34m(\u001B[0m\u001B[0;34m'Data/Processed/z_daily_deaths_df.csv'\u001B[0m\u001B[0;34m)\u001B[0m\u001B[0;34m\u001B[0m\u001B[0;34m\u001B[0m\u001B[0m\n",
      "\u001B[0;31mNameError\u001B[0m: name 'all_beds_df' is not defined"
     ]
    }
   ],
   "source": [
    "def z_score(df):\n",
    "    numeric_columns = df.select_dtypes(include=[np.number]).columns\n",
    "    df[numeric_columns] = df[numeric_columns].apply(zscore)\n",
    "    return df\n",
    "\n",
    "\n",
    "z_score(all_beds_df).to_csv('Data/Processed/z_all_beds_df.csv')\n",
    "z_score(MV_beds_df).to_csv('Data/Processed/z_MV_beds_df.csv')\n",
    "z_score(daily_deaths_df).to_csv('Data/Processed/z_daily_deaths_df.csv')\n",
    "z_score(pos_cases_df).to_csv('Data/Processed/z_pos_cases_df.csv')\n",
    "z_score(eighteenth_Dec_df).to_csv('Data/Processed/z_eighteenth_Dec_df.csv')"
   ],
   "metadata": {
    "collapsed": false,
    "pycharm": {
     "name": "#%%\n"
    }
   }
  },
  {
   "cell_type": "code",
   "execution_count": null,
   "outputs": [],
   "source": [],
   "metadata": {
    "collapsed": false,
    "pycharm": {
     "name": "#%%\n"
    }
   }
  }
 ],
 "metadata": {
  "kernelspec": {
   "display_name": "Python 3",
   "language": "python",
   "name": "python3"
  },
  "language_info": {
   "codemirror_mode": {
    "name": "ipython",
    "version": 2
   },
   "file_extension": ".py",
   "mimetype": "text/x-python",
   "name": "python",
   "nbconvert_exporter": "python",
   "pygments_lexer": "ipython2",
   "version": "2.7.6"
  }
 },
 "nbformat": 4,
 "nbformat_minor": 0
}