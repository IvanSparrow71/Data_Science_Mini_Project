{
 "cells": [
  {
   "cell_type": "code",
   "execution_count": 23,
   "outputs": [],
   "source": [
    "import pandas as pd"
   ],
   "metadata": {
    "collapsed": false,
    "pycharm": {
     "name": "#%%\n"
    }
   }
  },
  {
   "cell_type": "markdown",
   "source": [
    "### Reading in of various dataframes from 'Processed' folder"
   ],
   "metadata": {
    "collapsed": false,
    "pycharm": {
     "name": "#%% md\n"
    }
   }
  },
  {
   "cell_type": "code",
   "execution_count": 24,
   "metadata": {
    "collapsed": true
   },
   "outputs": [
    {
     "data": {
      "text/plain": "         Date  Estimate of number testing positive  \\\n0  12/07/2020                                23600   \n1  19/07/2020                                27700   \n2  26/07/2020                                35700   \n3  02/08/2020                                28300   \n4  09/08/2020                                28300   \n\n   Proportion of population that had COVID  \n0                                 0.000435  \n1                                 0.000500  \n2                                 0.000667  \n3                                 0.000526  \n4                                 0.000526  ",
      "text/html": "<div>\n<style scoped>\n    .dataframe tbody tr th:only-of-type {\n        vertical-align: middle;\n    }\n\n    .dataframe tbody tr th {\n        vertical-align: top;\n    }\n\n    .dataframe thead th {\n        text-align: right;\n    }\n</style>\n<table border=\"1\" class=\"dataframe\">\n  <thead>\n    <tr style=\"text-align: right;\">\n      <th></th>\n      <th>Date</th>\n      <th>Estimate of number testing positive</th>\n      <th>Proportion of population that had COVID</th>\n    </tr>\n  </thead>\n  <tbody>\n    <tr>\n      <th>0</th>\n      <td>12/07/2020</td>\n      <td>23600</td>\n      <td>0.000435</td>\n    </tr>\n    <tr>\n      <th>1</th>\n      <td>19/07/2020</td>\n      <td>27700</td>\n      <td>0.000500</td>\n    </tr>\n    <tr>\n      <th>2</th>\n      <td>26/07/2020</td>\n      <td>35700</td>\n      <td>0.000667</td>\n    </tr>\n    <tr>\n      <th>3</th>\n      <td>02/08/2020</td>\n      <td>28300</td>\n      <td>0.000526</td>\n    </tr>\n    <tr>\n      <th>4</th>\n      <td>09/08/2020</td>\n      <td>28300</td>\n      <td>0.000526</td>\n    </tr>\n  </tbody>\n</table>\n</div>"
     },
     "execution_count": 24,
     "metadata": {},
     "output_type": "execute_result"
    }
   ],
   "source": [
    "pos_cases_df = pd.read_csv('Data/Processed/positive_cases.csv')\n",
    "pos_cases_df.head()"
   ]
  },
  {
   "cell_type": "code",
   "execution_count": 25,
   "outputs": [
    {
     "data": {
      "text/plain": "                     Region  Mechanical Ventilation (MV)  All Beds  \\\n0           East of England                         81.0    1035.0   \n1                    London                        256.0    1685.0   \n2                  Midlands                        244.0    2843.0   \n3  North East and Yorkshire                        167.0    2551.0   \n4                North West                        178.0    2434.0   \n\n   Non MV Beds  Percentage on MV  \n0        954.0               7.8  \n1       1429.0              15.2  \n2       2599.0               8.6  \n3       2384.0               6.5  \n4       2256.0               7.3  ",
      "text/html": "<div>\n<style scoped>\n    .dataframe tbody tr th:only-of-type {\n        vertical-align: middle;\n    }\n\n    .dataframe tbody tr th {\n        vertical-align: top;\n    }\n\n    .dataframe thead th {\n        text-align: right;\n    }\n</style>\n<table border=\"1\" class=\"dataframe\">\n  <thead>\n    <tr style=\"text-align: right;\">\n      <th></th>\n      <th>Region</th>\n      <th>Mechanical Ventilation (MV)</th>\n      <th>All Beds</th>\n      <th>Non MV Beds</th>\n      <th>Percentage on MV</th>\n    </tr>\n  </thead>\n  <tbody>\n    <tr>\n      <th>0</th>\n      <td>East of England</td>\n      <td>81.0</td>\n      <td>1035.0</td>\n      <td>954.0</td>\n      <td>7.8</td>\n    </tr>\n    <tr>\n      <th>1</th>\n      <td>London</td>\n      <td>256.0</td>\n      <td>1685.0</td>\n      <td>1429.0</td>\n      <td>15.2</td>\n    </tr>\n    <tr>\n      <th>2</th>\n      <td>Midlands</td>\n      <td>244.0</td>\n      <td>2843.0</td>\n      <td>2599.0</td>\n      <td>8.6</td>\n    </tr>\n    <tr>\n      <th>3</th>\n      <td>North East and Yorkshire</td>\n      <td>167.0</td>\n      <td>2551.0</td>\n      <td>2384.0</td>\n      <td>6.5</td>\n    </tr>\n    <tr>\n      <th>4</th>\n      <td>North West</td>\n      <td>178.0</td>\n      <td>2434.0</td>\n      <td>2256.0</td>\n      <td>7.3</td>\n    </tr>\n  </tbody>\n</table>\n</div>"
     },
     "execution_count": 25,
     "metadata": {},
     "output_type": "execute_result"
    }
   ],
   "source": [
    "third_Dec_df = pd.read_csv('Data/Processed/3rd_Dec.csv')\n",
    "third_Dec_df.head()"
   ],
   "metadata": {
    "collapsed": false,
    "pycharm": {
     "name": "#%%\n"
    }
   }
  },
  {
   "cell_type": "code",
   "execution_count": 29,
   "outputs": [
    {
     "data": {
      "text/plain": "                       Name  01-08-2020  02-08-2020  03-08-2020  04-08-2020  \\\n0                   ENGLAND       879.0       847.0       842.0       807.0   \n1           East of England        85.0        80.0        73.0        69.0   \n2                    London       126.0       120.0       122.0       118.0   \n3                  Midlands       216.0       194.0       206.0       182.0   \n4  North East and Yorkshire       117.0       120.0       115.0       123.0   \n\n   05-08-2020  06-08-2020  07-08-2020  08-08-2020  09-08-2020  ...  \\\n0       805.0       756.0       711.0       650.0       611.0  ...   \n1        70.0        72.0        60.0        59.0        59.0  ...   \n2       111.0       113.0       105.0       126.0       107.0  ...   \n3       181.0       179.0       178.0        96.0       101.0  ...   \n4       128.0       132.0       111.0       117.0       117.0  ...   \n\n   13-12-2020  14-12-2020  15-12-2020  16-12-2020  17-12-2020  18-12-2020  \\\n0     14460.0     15053.0     15031.0     15465.0     15741.0     15866.0   \n1      1432.0      1506.0      1502.0      1734.0      1770.0      1802.0   \n2      2212.0      2330.0      2482.0      2543.0      2607.0      2726.0   \n3      3276.0      3286.0      3097.0      3191.0      3292.0      3289.0   \n4      2353.0      2483.0      2482.0      2505.0      2494.0      2396.0   \n\n   19-12-2020  20-12-2020  21-12-2020  22-12-2020  \n0     16183.0     16633.0     17709.0     18063.0  \n1      1943.0      1954.0      2163.0      2205.0  \n2      2909.0      3067.0      3367.0      3559.0  \n3      3293.0      3203.0      3389.0      3447.0  \n4      2413.0      2464.0      2530.0      2496.0  \n\n[5 rows x 145 columns]",
      "text/html": "<div>\n<style scoped>\n    .dataframe tbody tr th:only-of-type {\n        vertical-align: middle;\n    }\n\n    .dataframe tbody tr th {\n        vertical-align: top;\n    }\n\n    .dataframe thead th {\n        text-align: right;\n    }\n</style>\n<table border=\"1\" class=\"dataframe\">\n  <thead>\n    <tr style=\"text-align: right;\">\n      <th></th>\n      <th>Name</th>\n      <th>01-08-2020</th>\n      <th>02-08-2020</th>\n      <th>03-08-2020</th>\n      <th>04-08-2020</th>\n      <th>05-08-2020</th>\n      <th>06-08-2020</th>\n      <th>07-08-2020</th>\n      <th>08-08-2020</th>\n      <th>09-08-2020</th>\n      <th>...</th>\n      <th>13-12-2020</th>\n      <th>14-12-2020</th>\n      <th>15-12-2020</th>\n      <th>16-12-2020</th>\n      <th>17-12-2020</th>\n      <th>18-12-2020</th>\n      <th>19-12-2020</th>\n      <th>20-12-2020</th>\n      <th>21-12-2020</th>\n      <th>22-12-2020</th>\n    </tr>\n  </thead>\n  <tbody>\n    <tr>\n      <th>0</th>\n      <td>ENGLAND</td>\n      <td>879.0</td>\n      <td>847.0</td>\n      <td>842.0</td>\n      <td>807.0</td>\n      <td>805.0</td>\n      <td>756.0</td>\n      <td>711.0</td>\n      <td>650.0</td>\n      <td>611.0</td>\n      <td>...</td>\n      <td>14460.0</td>\n      <td>15053.0</td>\n      <td>15031.0</td>\n      <td>15465.0</td>\n      <td>15741.0</td>\n      <td>15866.0</td>\n      <td>16183.0</td>\n      <td>16633.0</td>\n      <td>17709.0</td>\n      <td>18063.0</td>\n    </tr>\n    <tr>\n      <th>1</th>\n      <td>East of England</td>\n      <td>85.0</td>\n      <td>80.0</td>\n      <td>73.0</td>\n      <td>69.0</td>\n      <td>70.0</td>\n      <td>72.0</td>\n      <td>60.0</td>\n      <td>59.0</td>\n      <td>59.0</td>\n      <td>...</td>\n      <td>1432.0</td>\n      <td>1506.0</td>\n      <td>1502.0</td>\n      <td>1734.0</td>\n      <td>1770.0</td>\n      <td>1802.0</td>\n      <td>1943.0</td>\n      <td>1954.0</td>\n      <td>2163.0</td>\n      <td>2205.0</td>\n    </tr>\n    <tr>\n      <th>2</th>\n      <td>London</td>\n      <td>126.0</td>\n      <td>120.0</td>\n      <td>122.0</td>\n      <td>118.0</td>\n      <td>111.0</td>\n      <td>113.0</td>\n      <td>105.0</td>\n      <td>126.0</td>\n      <td>107.0</td>\n      <td>...</td>\n      <td>2212.0</td>\n      <td>2330.0</td>\n      <td>2482.0</td>\n      <td>2543.0</td>\n      <td>2607.0</td>\n      <td>2726.0</td>\n      <td>2909.0</td>\n      <td>3067.0</td>\n      <td>3367.0</td>\n      <td>3559.0</td>\n    </tr>\n    <tr>\n      <th>3</th>\n      <td>Midlands</td>\n      <td>216.0</td>\n      <td>194.0</td>\n      <td>206.0</td>\n      <td>182.0</td>\n      <td>181.0</td>\n      <td>179.0</td>\n      <td>178.0</td>\n      <td>96.0</td>\n      <td>101.0</td>\n      <td>...</td>\n      <td>3276.0</td>\n      <td>3286.0</td>\n      <td>3097.0</td>\n      <td>3191.0</td>\n      <td>3292.0</td>\n      <td>3289.0</td>\n      <td>3293.0</td>\n      <td>3203.0</td>\n      <td>3389.0</td>\n      <td>3447.0</td>\n    </tr>\n    <tr>\n      <th>4</th>\n      <td>North East and Yorkshire</td>\n      <td>117.0</td>\n      <td>120.0</td>\n      <td>115.0</td>\n      <td>123.0</td>\n      <td>128.0</td>\n      <td>132.0</td>\n      <td>111.0</td>\n      <td>117.0</td>\n      <td>117.0</td>\n      <td>...</td>\n      <td>2353.0</td>\n      <td>2483.0</td>\n      <td>2482.0</td>\n      <td>2505.0</td>\n      <td>2494.0</td>\n      <td>2396.0</td>\n      <td>2413.0</td>\n      <td>2464.0</td>\n      <td>2530.0</td>\n      <td>2496.0</td>\n    </tr>\n  </tbody>\n</table>\n<p>5 rows × 145 columns</p>\n</div>"
     },
     "execution_count": 29,
     "metadata": {},
     "output_type": "execute_result"
    }
   ],
   "source": [
    "all_beds_df = pd.read_csv('Data/Processed/all_beds_df.csv')\n",
    "all_beds_df.drop('Unnamed: 0', 1, inplace=True)\n",
    "all_beds_df.head()"
   ],
   "metadata": {
    "collapsed": false,
    "pycharm": {
     "name": "#%%\n"
    }
   }
  },
  {
   "cell_type": "code",
   "execution_count": 30,
   "outputs": [
    {
     "data": {
      "text/plain": "                       Name  01-08-2020  02-08-2020  03-08-2020  04-08-2020  \\\n0                   ENGLAND        74.0        72.0        67.0        65.0   \n1           East of England         9.0         9.0         8.0         8.0   \n2                    London        16.0        15.0        17.0        15.0   \n3                  Midlands        13.0        10.0        10.0        13.0   \n4  North East and Yorkshire         9.0         8.0         7.0         7.0   \n\n   05-08-2020  06-08-2020  07-08-2020  08-08-2020  09-08-2020  ...  \\\n0        63.0        61.0        57.0        55.0        56.0  ...   \n1         8.0         9.0         9.0        11.0         9.0  ...   \n2        13.0        11.0        10.0        10.0        12.0  ...   \n3        13.0        14.0        10.0         5.0         6.0  ...   \n4         7.0         6.0         7.0         8.0         7.0  ...   \n\n   13-12-2020  14-12-2020  15-12-2020  16-12-2020  17-12-2020  18-12-2020  \\\n0      1123.0      1127.0      1159.0      1163.0      1188.0      1190.0   \n1        99.0       103.0       103.0       108.0       113.0       116.0   \n2       256.0       262.0       292.0       291.0       301.0       311.0   \n3       278.0       257.0       251.0       254.0       257.0       246.0   \n4       147.0       145.0       144.0       142.0       145.0       137.0   \n\n   19-12-2020  20-12-2020  21-12-2020  22-12-2020  \n0      1239.0      1267.0      1327.0      1339.0  \n1       124.0       121.0       120.0       127.0  \n2       322.0       355.0       378.0       400.0  \n3       254.0       243.0       257.0       252.0  \n4       152.0       149.0       149.0       154.0  \n\n[5 rows x 145 columns]",
      "text/html": "<div>\n<style scoped>\n    .dataframe tbody tr th:only-of-type {\n        vertical-align: middle;\n    }\n\n    .dataframe tbody tr th {\n        vertical-align: top;\n    }\n\n    .dataframe thead th {\n        text-align: right;\n    }\n</style>\n<table border=\"1\" class=\"dataframe\">\n  <thead>\n    <tr style=\"text-align: right;\">\n      <th></th>\n      <th>Name</th>\n      <th>01-08-2020</th>\n      <th>02-08-2020</th>\n      <th>03-08-2020</th>\n      <th>04-08-2020</th>\n      <th>05-08-2020</th>\n      <th>06-08-2020</th>\n      <th>07-08-2020</th>\n      <th>08-08-2020</th>\n      <th>09-08-2020</th>\n      <th>...</th>\n      <th>13-12-2020</th>\n      <th>14-12-2020</th>\n      <th>15-12-2020</th>\n      <th>16-12-2020</th>\n      <th>17-12-2020</th>\n      <th>18-12-2020</th>\n      <th>19-12-2020</th>\n      <th>20-12-2020</th>\n      <th>21-12-2020</th>\n      <th>22-12-2020</th>\n    </tr>\n  </thead>\n  <tbody>\n    <tr>\n      <th>0</th>\n      <td>ENGLAND</td>\n      <td>74.0</td>\n      <td>72.0</td>\n      <td>67.0</td>\n      <td>65.0</td>\n      <td>63.0</td>\n      <td>61.0</td>\n      <td>57.0</td>\n      <td>55.0</td>\n      <td>56.0</td>\n      <td>...</td>\n      <td>1123.0</td>\n      <td>1127.0</td>\n      <td>1159.0</td>\n      <td>1163.0</td>\n      <td>1188.0</td>\n      <td>1190.0</td>\n      <td>1239.0</td>\n      <td>1267.0</td>\n      <td>1327.0</td>\n      <td>1339.0</td>\n    </tr>\n    <tr>\n      <th>1</th>\n      <td>East of England</td>\n      <td>9.0</td>\n      <td>9.0</td>\n      <td>8.0</td>\n      <td>8.0</td>\n      <td>8.0</td>\n      <td>9.0</td>\n      <td>9.0</td>\n      <td>11.0</td>\n      <td>9.0</td>\n      <td>...</td>\n      <td>99.0</td>\n      <td>103.0</td>\n      <td>103.0</td>\n      <td>108.0</td>\n      <td>113.0</td>\n      <td>116.0</td>\n      <td>124.0</td>\n      <td>121.0</td>\n      <td>120.0</td>\n      <td>127.0</td>\n    </tr>\n    <tr>\n      <th>2</th>\n      <td>London</td>\n      <td>16.0</td>\n      <td>15.0</td>\n      <td>17.0</td>\n      <td>15.0</td>\n      <td>13.0</td>\n      <td>11.0</td>\n      <td>10.0</td>\n      <td>10.0</td>\n      <td>12.0</td>\n      <td>...</td>\n      <td>256.0</td>\n      <td>262.0</td>\n      <td>292.0</td>\n      <td>291.0</td>\n      <td>301.0</td>\n      <td>311.0</td>\n      <td>322.0</td>\n      <td>355.0</td>\n      <td>378.0</td>\n      <td>400.0</td>\n    </tr>\n    <tr>\n      <th>3</th>\n      <td>Midlands</td>\n      <td>13.0</td>\n      <td>10.0</td>\n      <td>10.0</td>\n      <td>13.0</td>\n      <td>13.0</td>\n      <td>14.0</td>\n      <td>10.0</td>\n      <td>5.0</td>\n      <td>6.0</td>\n      <td>...</td>\n      <td>278.0</td>\n      <td>257.0</td>\n      <td>251.0</td>\n      <td>254.0</td>\n      <td>257.0</td>\n      <td>246.0</td>\n      <td>254.0</td>\n      <td>243.0</td>\n      <td>257.0</td>\n      <td>252.0</td>\n    </tr>\n    <tr>\n      <th>4</th>\n      <td>North East and Yorkshire</td>\n      <td>9.0</td>\n      <td>8.0</td>\n      <td>7.0</td>\n      <td>7.0</td>\n      <td>7.0</td>\n      <td>6.0</td>\n      <td>7.0</td>\n      <td>8.0</td>\n      <td>7.0</td>\n      <td>...</td>\n      <td>147.0</td>\n      <td>145.0</td>\n      <td>144.0</td>\n      <td>142.0</td>\n      <td>145.0</td>\n      <td>137.0</td>\n      <td>152.0</td>\n      <td>149.0</td>\n      <td>149.0</td>\n      <td>154.0</td>\n    </tr>\n  </tbody>\n</table>\n<p>5 rows × 145 columns</p>\n</div>"
     },
     "execution_count": 30,
     "metadata": {},
     "output_type": "execute_result"
    }
   ],
   "source": [
    "MV_beds_df = pd.read_csv('Data/Processed/MV_df.csv')\n",
    "MV_beds_df.drop('Unnamed: 0', 1, inplace=True)\n",
    "MV_beds_df.head()"
   ],
   "metadata": {
    "collapsed": false,
    "pycharm": {
     "name": "#%%\n"
    }
   }
  }
 ],
 "metadata": {
  "kernelspec": {
   "display_name": "Python 3",
   "language": "python",
   "name": "python3"
  },
  "language_info": {
   "codemirror_mode": {
    "name": "ipython",
    "version": 2
   },
   "file_extension": ".py",
   "mimetype": "text/x-python",
   "name": "python",
   "nbconvert_exporter": "python",
   "pygments_lexer": "ipython2",
   "version": "2.7.6"
  }
 },
 "nbformat": 4,
 "nbformat_minor": 0
}