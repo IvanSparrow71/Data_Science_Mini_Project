{
 "cells": [
  {
   "cell_type": "code",
   "execution_count": 30,
   "outputs": [],
   "source": [
    "import pandas as pd\n",
    "import numpy as np\n",
    "from scipy.stats import zscore"
   ],
   "metadata": {
    "collapsed": false,
    "pycharm": {
     "name": "#%%\n"
    }
   }
  },
  {
   "cell_type": "markdown",
   "source": [
    "### Reading in of various dataframes from 'Processed' folder"
   ],
   "metadata": {
    "collapsed": false,
    "pycharm": {
     "name": "#%% md\n"
    }
   }
  },
  {
   "cell_type": "code",
   "execution_count": 31,
   "metadata": {
    "collapsed": true
   },
   "outputs": [
    {
     "data": {
      "text/plain": "         Date  Estimate of number testing positive  \\\n0  12/07/2020                                23600   \n1  19/07/2020                                27700   \n2  26/07/2020                                35700   \n3  02/08/2020                                28300   \n4  09/08/2020                                28300   \n\n   Proportion of population that had COVID  \n0                                 0.000435  \n1                                 0.000500  \n2                                 0.000667  \n3                                 0.000526  \n4                                 0.000526  ",
      "text/html": "<div>\n<style scoped>\n    .dataframe tbody tr th:only-of-type {\n        vertical-align: middle;\n    }\n\n    .dataframe tbody tr th {\n        vertical-align: top;\n    }\n\n    .dataframe thead th {\n        text-align: right;\n    }\n</style>\n<table border=\"1\" class=\"dataframe\">\n  <thead>\n    <tr style=\"text-align: right;\">\n      <th></th>\n      <th>Date</th>\n      <th>Estimate of number testing positive</th>\n      <th>Proportion of population that had COVID</th>\n    </tr>\n  </thead>\n  <tbody>\n    <tr>\n      <th>0</th>\n      <td>12/07/2020</td>\n      <td>23600</td>\n      <td>0.000435</td>\n    </tr>\n    <tr>\n      <th>1</th>\n      <td>19/07/2020</td>\n      <td>27700</td>\n      <td>0.000500</td>\n    </tr>\n    <tr>\n      <th>2</th>\n      <td>26/07/2020</td>\n      <td>35700</td>\n      <td>0.000667</td>\n    </tr>\n    <tr>\n      <th>3</th>\n      <td>02/08/2020</td>\n      <td>28300</td>\n      <td>0.000526</td>\n    </tr>\n    <tr>\n      <th>4</th>\n      <td>09/08/2020</td>\n      <td>28300</td>\n      <td>0.000526</td>\n    </tr>\n  </tbody>\n</table>\n</div>"
     },
     "execution_count": 31,
     "metadata": {},
     "output_type": "execute_result"
    }
   ],
   "source": [
    "pos_cases_df = pd.read_csv('Data/Processed/positive_cases.csv')\n",
    "pos_cases_df.head()"
   ]
  },
  {
   "cell_type": "code",
   "execution_count": 32,
   "outputs": [
    {
     "data": {
      "text/plain": "                     Region  Mechanical Ventilation (MV)  All Beds  \\\n0           East of England                        116.0    1802.0   \n1                    London                        311.0    2726.0   \n2                  Midlands                        246.0    3289.0   \n3  North East and Yorkshire                        137.0    2396.0   \n4                North West                        159.0    2255.0   \n\n   Non MV Beds  Percentage on MV  \n0       1686.0               6.4  \n1       2415.0              11.4  \n2       3043.0               7.5  \n3       2259.0               5.7  \n4       2096.0               7.1  ",
      "text/html": "<div>\n<style scoped>\n    .dataframe tbody tr th:only-of-type {\n        vertical-align: middle;\n    }\n\n    .dataframe tbody tr th {\n        vertical-align: top;\n    }\n\n    .dataframe thead th {\n        text-align: right;\n    }\n</style>\n<table border=\"1\" class=\"dataframe\">\n  <thead>\n    <tr style=\"text-align: right;\">\n      <th></th>\n      <th>Region</th>\n      <th>Mechanical Ventilation (MV)</th>\n      <th>All Beds</th>\n      <th>Non MV Beds</th>\n      <th>Percentage on MV</th>\n    </tr>\n  </thead>\n  <tbody>\n    <tr>\n      <th>0</th>\n      <td>East of England</td>\n      <td>116.0</td>\n      <td>1802.0</td>\n      <td>1686.0</td>\n      <td>6.4</td>\n    </tr>\n    <tr>\n      <th>1</th>\n      <td>London</td>\n      <td>311.0</td>\n      <td>2726.0</td>\n      <td>2415.0</td>\n      <td>11.4</td>\n    </tr>\n    <tr>\n      <th>2</th>\n      <td>Midlands</td>\n      <td>246.0</td>\n      <td>3289.0</td>\n      <td>3043.0</td>\n      <td>7.5</td>\n    </tr>\n    <tr>\n      <th>3</th>\n      <td>North East and Yorkshire</td>\n      <td>137.0</td>\n      <td>2396.0</td>\n      <td>2259.0</td>\n      <td>5.7</td>\n    </tr>\n    <tr>\n      <th>4</th>\n      <td>North West</td>\n      <td>159.0</td>\n      <td>2255.0</td>\n      <td>2096.0</td>\n      <td>7.1</td>\n    </tr>\n  </tbody>\n</table>\n</div>"
     },
     "execution_count": 32,
     "metadata": {},
     "output_type": "execute_result"
    }
   ],
   "source": [
    "eighteenth_Dec_df = pd.read_csv('Data/Processed/18_Dec.csv')\n",
    "eighteenth_Dec_df.head()"
   ],
   "metadata": {
    "collapsed": false,
    "pycharm": {
     "name": "#%%\n"
    }
   }
  },
  {
   "cell_type": "code",
   "execution_count": 33,
   "outputs": [
    {
     "data": {
      "text/plain": "                       Name  01-08-2020  02-08-2020  03-08-2020  04-08-2020  \\\n0           East of England        85.0        80.0        73.0        69.0   \n1                    London       126.0       120.0       122.0       118.0   \n2                  Midlands       216.0       194.0       206.0       182.0   \n3  North East and Yorkshire       117.0       120.0       115.0       123.0   \n4                North West       191.0       188.0       181.0       181.0   \n\n   05-08-2020  06-08-2020  07-08-2020  08-08-2020  09-08-2020  ...  \\\n0        70.0        72.0        60.0        59.0        59.0  ...   \n1       111.0       113.0       105.0       126.0       107.0  ...   \n2       181.0       179.0       178.0        96.0       101.0  ...   \n3       128.0       132.0       111.0       117.0       117.0  ...   \n4       183.0       160.0       160.0       154.0       136.0  ...   \n\n   13-12-2020  14-12-2020  15-12-2020  16-12-2020  17-12-2020  18-12-2020  \\\n0      1432.0      1506.0      1502.0      1734.0      1770.0      1802.0   \n1      2212.0      2330.0      2482.0      2543.0      2607.0      2726.0   \n2      3276.0      3286.0      3097.0      3191.0      3292.0      3289.0   \n3      2353.0      2483.0      2482.0      2505.0      2494.0      2396.0   \n4      2266.0      2325.0      2322.0      2276.0      2271.0      2255.0   \n\n   19-12-2020  20-12-2020  21-12-2020  22-12-2020  \n0      1943.0      1954.0      2163.0      2205.0  \n1      2909.0      3067.0      3367.0      3559.0  \n2      3293.0      3203.0      3389.0      3447.0  \n3      2413.0      2464.0      2530.0      2496.0  \n4      2253.0      2315.0      2399.0      2406.0  \n\n[5 rows x 145 columns]",
      "text/html": "<div>\n<style scoped>\n    .dataframe tbody tr th:only-of-type {\n        vertical-align: middle;\n    }\n\n    .dataframe tbody tr th {\n        vertical-align: top;\n    }\n\n    .dataframe thead th {\n        text-align: right;\n    }\n</style>\n<table border=\"1\" class=\"dataframe\">\n  <thead>\n    <tr style=\"text-align: right;\">\n      <th></th>\n      <th>Name</th>\n      <th>01-08-2020</th>\n      <th>02-08-2020</th>\n      <th>03-08-2020</th>\n      <th>04-08-2020</th>\n      <th>05-08-2020</th>\n      <th>06-08-2020</th>\n      <th>07-08-2020</th>\n      <th>08-08-2020</th>\n      <th>09-08-2020</th>\n      <th>...</th>\n      <th>13-12-2020</th>\n      <th>14-12-2020</th>\n      <th>15-12-2020</th>\n      <th>16-12-2020</th>\n      <th>17-12-2020</th>\n      <th>18-12-2020</th>\n      <th>19-12-2020</th>\n      <th>20-12-2020</th>\n      <th>21-12-2020</th>\n      <th>22-12-2020</th>\n    </tr>\n  </thead>\n  <tbody>\n    <tr>\n      <th>0</th>\n      <td>East of England</td>\n      <td>85.0</td>\n      <td>80.0</td>\n      <td>73.0</td>\n      <td>69.0</td>\n      <td>70.0</td>\n      <td>72.0</td>\n      <td>60.0</td>\n      <td>59.0</td>\n      <td>59.0</td>\n      <td>...</td>\n      <td>1432.0</td>\n      <td>1506.0</td>\n      <td>1502.0</td>\n      <td>1734.0</td>\n      <td>1770.0</td>\n      <td>1802.0</td>\n      <td>1943.0</td>\n      <td>1954.0</td>\n      <td>2163.0</td>\n      <td>2205.0</td>\n    </tr>\n    <tr>\n      <th>1</th>\n      <td>London</td>\n      <td>126.0</td>\n      <td>120.0</td>\n      <td>122.0</td>\n      <td>118.0</td>\n      <td>111.0</td>\n      <td>113.0</td>\n      <td>105.0</td>\n      <td>126.0</td>\n      <td>107.0</td>\n      <td>...</td>\n      <td>2212.0</td>\n      <td>2330.0</td>\n      <td>2482.0</td>\n      <td>2543.0</td>\n      <td>2607.0</td>\n      <td>2726.0</td>\n      <td>2909.0</td>\n      <td>3067.0</td>\n      <td>3367.0</td>\n      <td>3559.0</td>\n    </tr>\n    <tr>\n      <th>2</th>\n      <td>Midlands</td>\n      <td>216.0</td>\n      <td>194.0</td>\n      <td>206.0</td>\n      <td>182.0</td>\n      <td>181.0</td>\n      <td>179.0</td>\n      <td>178.0</td>\n      <td>96.0</td>\n      <td>101.0</td>\n      <td>...</td>\n      <td>3276.0</td>\n      <td>3286.0</td>\n      <td>3097.0</td>\n      <td>3191.0</td>\n      <td>3292.0</td>\n      <td>3289.0</td>\n      <td>3293.0</td>\n      <td>3203.0</td>\n      <td>3389.0</td>\n      <td>3447.0</td>\n    </tr>\n    <tr>\n      <th>3</th>\n      <td>North East and Yorkshire</td>\n      <td>117.0</td>\n      <td>120.0</td>\n      <td>115.0</td>\n      <td>123.0</td>\n      <td>128.0</td>\n      <td>132.0</td>\n      <td>111.0</td>\n      <td>117.0</td>\n      <td>117.0</td>\n      <td>...</td>\n      <td>2353.0</td>\n      <td>2483.0</td>\n      <td>2482.0</td>\n      <td>2505.0</td>\n      <td>2494.0</td>\n      <td>2396.0</td>\n      <td>2413.0</td>\n      <td>2464.0</td>\n      <td>2530.0</td>\n      <td>2496.0</td>\n    </tr>\n    <tr>\n      <th>4</th>\n      <td>North West</td>\n      <td>191.0</td>\n      <td>188.0</td>\n      <td>181.0</td>\n      <td>181.0</td>\n      <td>183.0</td>\n      <td>160.0</td>\n      <td>160.0</td>\n      <td>154.0</td>\n      <td>136.0</td>\n      <td>...</td>\n      <td>2266.0</td>\n      <td>2325.0</td>\n      <td>2322.0</td>\n      <td>2276.0</td>\n      <td>2271.0</td>\n      <td>2255.0</td>\n      <td>2253.0</td>\n      <td>2315.0</td>\n      <td>2399.0</td>\n      <td>2406.0</td>\n    </tr>\n  </tbody>\n</table>\n<p>5 rows × 145 columns</p>\n</div>"
     },
     "execution_count": 33,
     "metadata": {},
     "output_type": "execute_result"
    }
   ],
   "source": [
    "all_beds_df = pd.read_csv('Data/Processed/all_beds_df.csv')\n",
    "all_beds_df.drop('Unnamed: 0', 1, inplace=True)\n",
    "all_beds_df.head()"
   ],
   "metadata": {
    "collapsed": false,
    "pycharm": {
     "name": "#%%\n"
    }
   }
  },
  {
   "cell_type": "code",
   "execution_count": 34,
   "outputs": [
    {
     "data": {
      "text/plain": "                       Name  01-08-2020  02-08-2020  03-08-2020  04-08-2020  \\\n0           East of England         9.0         9.0         8.0         8.0   \n1                    London        16.0        15.0        17.0        15.0   \n2                  Midlands        13.0        10.0        10.0        13.0   \n3  North East and Yorkshire         9.0         8.0         7.0         7.0   \n4                North West        15.0        15.0        13.0        13.0   \n\n   05-08-2020  06-08-2020  07-08-2020  08-08-2020  09-08-2020  ...  \\\n0         8.0         9.0         9.0        11.0         9.0  ...   \n1        13.0        11.0        10.0        10.0        12.0  ...   \n2        13.0        14.0        10.0         5.0         6.0  ...   \n3         7.0         6.0         7.0         8.0         7.0  ...   \n4        13.0        13.0        13.0        14.0        14.0  ...   \n\n   13-12-2020  14-12-2020  15-12-2020  16-12-2020  17-12-2020  18-12-2020  \\\n0        99.0       103.0       103.0       108.0       113.0       116.0   \n1       256.0       262.0       292.0       291.0       301.0       311.0   \n2       278.0       257.0       251.0       254.0       257.0       246.0   \n3       147.0       145.0       144.0       142.0       145.0       137.0   \n4       165.0       161.0       162.0       159.0       159.0       159.0   \n\n   19-12-2020  20-12-2020  21-12-2020  22-12-2020  \n0       124.0       121.0       120.0       127.0  \n1       322.0       355.0       378.0       400.0  \n2       254.0       243.0       257.0       252.0  \n3       152.0       149.0       149.0       154.0  \n4       162.0       156.0       165.0       153.0  \n\n[5 rows x 145 columns]",
      "text/html": "<div>\n<style scoped>\n    .dataframe tbody tr th:only-of-type {\n        vertical-align: middle;\n    }\n\n    .dataframe tbody tr th {\n        vertical-align: top;\n    }\n\n    .dataframe thead th {\n        text-align: right;\n    }\n</style>\n<table border=\"1\" class=\"dataframe\">\n  <thead>\n    <tr style=\"text-align: right;\">\n      <th></th>\n      <th>Name</th>\n      <th>01-08-2020</th>\n      <th>02-08-2020</th>\n      <th>03-08-2020</th>\n      <th>04-08-2020</th>\n      <th>05-08-2020</th>\n      <th>06-08-2020</th>\n      <th>07-08-2020</th>\n      <th>08-08-2020</th>\n      <th>09-08-2020</th>\n      <th>...</th>\n      <th>13-12-2020</th>\n      <th>14-12-2020</th>\n      <th>15-12-2020</th>\n      <th>16-12-2020</th>\n      <th>17-12-2020</th>\n      <th>18-12-2020</th>\n      <th>19-12-2020</th>\n      <th>20-12-2020</th>\n      <th>21-12-2020</th>\n      <th>22-12-2020</th>\n    </tr>\n  </thead>\n  <tbody>\n    <tr>\n      <th>0</th>\n      <td>East of England</td>\n      <td>9.0</td>\n      <td>9.0</td>\n      <td>8.0</td>\n      <td>8.0</td>\n      <td>8.0</td>\n      <td>9.0</td>\n      <td>9.0</td>\n      <td>11.0</td>\n      <td>9.0</td>\n      <td>...</td>\n      <td>99.0</td>\n      <td>103.0</td>\n      <td>103.0</td>\n      <td>108.0</td>\n      <td>113.0</td>\n      <td>116.0</td>\n      <td>124.0</td>\n      <td>121.0</td>\n      <td>120.0</td>\n      <td>127.0</td>\n    </tr>\n    <tr>\n      <th>1</th>\n      <td>London</td>\n      <td>16.0</td>\n      <td>15.0</td>\n      <td>17.0</td>\n      <td>15.0</td>\n      <td>13.0</td>\n      <td>11.0</td>\n      <td>10.0</td>\n      <td>10.0</td>\n      <td>12.0</td>\n      <td>...</td>\n      <td>256.0</td>\n      <td>262.0</td>\n      <td>292.0</td>\n      <td>291.0</td>\n      <td>301.0</td>\n      <td>311.0</td>\n      <td>322.0</td>\n      <td>355.0</td>\n      <td>378.0</td>\n      <td>400.0</td>\n    </tr>\n    <tr>\n      <th>2</th>\n      <td>Midlands</td>\n      <td>13.0</td>\n      <td>10.0</td>\n      <td>10.0</td>\n      <td>13.0</td>\n      <td>13.0</td>\n      <td>14.0</td>\n      <td>10.0</td>\n      <td>5.0</td>\n      <td>6.0</td>\n      <td>...</td>\n      <td>278.0</td>\n      <td>257.0</td>\n      <td>251.0</td>\n      <td>254.0</td>\n      <td>257.0</td>\n      <td>246.0</td>\n      <td>254.0</td>\n      <td>243.0</td>\n      <td>257.0</td>\n      <td>252.0</td>\n    </tr>\n    <tr>\n      <th>3</th>\n      <td>North East and Yorkshire</td>\n      <td>9.0</td>\n      <td>8.0</td>\n      <td>7.0</td>\n      <td>7.0</td>\n      <td>7.0</td>\n      <td>6.0</td>\n      <td>7.0</td>\n      <td>8.0</td>\n      <td>7.0</td>\n      <td>...</td>\n      <td>147.0</td>\n      <td>145.0</td>\n      <td>144.0</td>\n      <td>142.0</td>\n      <td>145.0</td>\n      <td>137.0</td>\n      <td>152.0</td>\n      <td>149.0</td>\n      <td>149.0</td>\n      <td>154.0</td>\n    </tr>\n    <tr>\n      <th>4</th>\n      <td>North West</td>\n      <td>15.0</td>\n      <td>15.0</td>\n      <td>13.0</td>\n      <td>13.0</td>\n      <td>13.0</td>\n      <td>13.0</td>\n      <td>13.0</td>\n      <td>14.0</td>\n      <td>14.0</td>\n      <td>...</td>\n      <td>165.0</td>\n      <td>161.0</td>\n      <td>162.0</td>\n      <td>159.0</td>\n      <td>159.0</td>\n      <td>159.0</td>\n      <td>162.0</td>\n      <td>156.0</td>\n      <td>165.0</td>\n      <td>153.0</td>\n    </tr>\n  </tbody>\n</table>\n<p>5 rows × 145 columns</p>\n</div>"
     },
     "execution_count": 34,
     "metadata": {},
     "output_type": "execute_result"
    }
   ],
   "source": [
    "MV_beds_df = pd.read_csv('Data/Processed/MV_df.csv')\n",
    "MV_beds_df.drop('Unnamed: 0', 1, inplace=True)\n",
    "MV_beds_df.head()"
   ],
   "metadata": {
    "collapsed": false,
    "pycharm": {
     "name": "#%%\n"
    }
   }
  },
  {
   "cell_type": "code",
   "execution_count": 35,
   "outputs": [
    {
     "data": {
      "text/plain": "         NHS England Region  01-03-2020  02-03-2020  03-03-2020  04-03-2020  \\\n0           East Of England           0           1           0           0   \n1                    London           0           0           0           0   \n2                  Midlands           0           0           1           0   \n3  North East And Yorkshire           0           0           0           0   \n4                North West           0           0           0           0   \n\n   05-03-2020  06-03-2020  07-03-2020  08-03-2020  09-03-2020  ...  \\\n0           0           1           0           0           1  ...   \n1           0           1           0           0           1  ...   \n2           0           0           0           2           1  ...   \n3           0           0           0           0           0  ...   \n4           1           0           0           1           0  ...   \n\n   18-12-2020  19-12-2020  20-12-2020  21-12-2020  22-12-2020  23-12-2020  \\\n0          34          42          42          55          40          39   \n1          39          38          50          54          48          50   \n2          76          54          65          77          64          55   \n3          54          47          48          33          50          41   \n4          46          45          36          47          47          41   \n\n   24-12-2020  25-12-2020  26-12-2020  27-12-2020  \n0          24          28          24           5  \n1          41          35          24           9  \n2          47          53          38           7  \n3          41          39          31           8  \n4          29          23          24           4  \n\n[5 rows x 303 columns]",
      "text/html": "<div>\n<style scoped>\n    .dataframe tbody tr th:only-of-type {\n        vertical-align: middle;\n    }\n\n    .dataframe tbody tr th {\n        vertical-align: top;\n    }\n\n    .dataframe thead th {\n        text-align: right;\n    }\n</style>\n<table border=\"1\" class=\"dataframe\">\n  <thead>\n    <tr style=\"text-align: right;\">\n      <th></th>\n      <th>NHS England Region</th>\n      <th>01-03-2020</th>\n      <th>02-03-2020</th>\n      <th>03-03-2020</th>\n      <th>04-03-2020</th>\n      <th>05-03-2020</th>\n      <th>06-03-2020</th>\n      <th>07-03-2020</th>\n      <th>08-03-2020</th>\n      <th>09-03-2020</th>\n      <th>...</th>\n      <th>18-12-2020</th>\n      <th>19-12-2020</th>\n      <th>20-12-2020</th>\n      <th>21-12-2020</th>\n      <th>22-12-2020</th>\n      <th>23-12-2020</th>\n      <th>24-12-2020</th>\n      <th>25-12-2020</th>\n      <th>26-12-2020</th>\n      <th>27-12-2020</th>\n    </tr>\n  </thead>\n  <tbody>\n    <tr>\n      <th>0</th>\n      <td>East Of England</td>\n      <td>0</td>\n      <td>1</td>\n      <td>0</td>\n      <td>0</td>\n      <td>0</td>\n      <td>1</td>\n      <td>0</td>\n      <td>0</td>\n      <td>1</td>\n      <td>...</td>\n      <td>34</td>\n      <td>42</td>\n      <td>42</td>\n      <td>55</td>\n      <td>40</td>\n      <td>39</td>\n      <td>24</td>\n      <td>28</td>\n      <td>24</td>\n      <td>5</td>\n    </tr>\n    <tr>\n      <th>1</th>\n      <td>London</td>\n      <td>0</td>\n      <td>0</td>\n      <td>0</td>\n      <td>0</td>\n      <td>0</td>\n      <td>1</td>\n      <td>0</td>\n      <td>0</td>\n      <td>1</td>\n      <td>...</td>\n      <td>39</td>\n      <td>38</td>\n      <td>50</td>\n      <td>54</td>\n      <td>48</td>\n      <td>50</td>\n      <td>41</td>\n      <td>35</td>\n      <td>24</td>\n      <td>9</td>\n    </tr>\n    <tr>\n      <th>2</th>\n      <td>Midlands</td>\n      <td>0</td>\n      <td>0</td>\n      <td>1</td>\n      <td>0</td>\n      <td>0</td>\n      <td>0</td>\n      <td>0</td>\n      <td>2</td>\n      <td>1</td>\n      <td>...</td>\n      <td>76</td>\n      <td>54</td>\n      <td>65</td>\n      <td>77</td>\n      <td>64</td>\n      <td>55</td>\n      <td>47</td>\n      <td>53</td>\n      <td>38</td>\n      <td>7</td>\n    </tr>\n    <tr>\n      <th>3</th>\n      <td>North East And Yorkshire</td>\n      <td>0</td>\n      <td>0</td>\n      <td>0</td>\n      <td>0</td>\n      <td>0</td>\n      <td>0</td>\n      <td>0</td>\n      <td>0</td>\n      <td>0</td>\n      <td>...</td>\n      <td>54</td>\n      <td>47</td>\n      <td>48</td>\n      <td>33</td>\n      <td>50</td>\n      <td>41</td>\n      <td>41</td>\n      <td>39</td>\n      <td>31</td>\n      <td>8</td>\n    </tr>\n    <tr>\n      <th>4</th>\n      <td>North West</td>\n      <td>0</td>\n      <td>0</td>\n      <td>0</td>\n      <td>0</td>\n      <td>1</td>\n      <td>0</td>\n      <td>0</td>\n      <td>1</td>\n      <td>0</td>\n      <td>...</td>\n      <td>46</td>\n      <td>45</td>\n      <td>36</td>\n      <td>47</td>\n      <td>47</td>\n      <td>41</td>\n      <td>29</td>\n      <td>23</td>\n      <td>24</td>\n      <td>4</td>\n    </tr>\n  </tbody>\n</table>\n<p>5 rows × 303 columns</p>\n</div>"
     },
     "execution_count": 35,
     "metadata": {},
     "output_type": "execute_result"
    }
   ],
   "source": [
    "daily_deaths_df = pd.read_csv('Data/Processed/daily_deaths.csv')\n",
    "daily_deaths_df.drop('Unnamed: 0', 1, inplace=True)\n",
    "daily_deaths_df.head()"
   ],
   "metadata": {
    "collapsed": false,
    "pycharm": {
     "name": "#%%\n"
    }
   }
  },
  {
   "cell_type": "markdown",
   "source": [
    "### Descriptive Analysis using 'describe()' function (all rounded to 1dp)\n",
    "### only include columns that are numbers (include=np.number)"
   ],
   "metadata": {
    "collapsed": false,
    "pycharm": {
     "name": "#%% md\n"
    }
   }
  },
  {
   "cell_type": "code",
   "execution_count": 36,
   "outputs": [
    {
     "name": "stdout",
     "output_type": "stream",
     "text": [
      "       Estimate of number testing positive  \\\n",
      "count                                 24.0   \n",
      "mean                              287158.3   \n",
      "std                               265915.6   \n",
      "min                                23600.0   \n",
      "25%                                28300.0   \n",
      "50%                               170500.0   \n",
      "75%                               567500.0   \n",
      "max                               664700.0   \n",
      "\n",
      "       Proportion of population that had COVID  \n",
      "count                                     24.0  \n",
      "mean                                       0.0  \n",
      "std                                        0.0  \n",
      "min                                        0.0  \n",
      "25%                                        0.0  \n",
      "50%                                        0.0  \n",
      "75%                                        0.0  \n",
      "max                                        0.0  \n",
      "\n",
      "Date                                       31/10/2020\n",
      "Estimate of number testing positive            664700\n",
      "Proportion of population that had COVID        0.0125\n",
      "dtype: object\n",
      "\n",
      "Date                                        01/10/2020\n",
      "Estimate of number testing positive              23600\n",
      "Proportion of population that had COVID    0.000434783\n",
      "dtype: object\n"
     ]
    }
   ],
   "source": [
    "print(pos_cases_df.describe(include=[np.number]).round(1))\n",
    "print()\n",
    "print(pos_cases_df.max())\n",
    "print()\n",
    "print(pos_cases_df.min())"
   ],
   "metadata": {
    "collapsed": false,
    "pycharm": {
     "name": "#%%\n"
    }
   }
  },
  {
   "cell_type": "code",
   "execution_count": 37,
   "outputs": [
    {
     "name": "stdout",
     "output_type": "stream",
     "text": [
      "       Mechanical Ventilation (MV)  All Beds  Non MV Beds  Percentage on MV\n",
      "count                          8.0       8.0          8.0               8.0\n",
      "mean                         297.5    3966.5       3669.0               7.3\n",
      "std                          369.0    4853.1       4487.0               1.8\n",
      "min                           56.0    1026.0        970.0               5.5\n",
      "25%                          131.8    2141.8       1993.5               6.2\n",
      "50%                          162.0    2384.0       2233.0               7.0\n",
      "75%                          262.2    2866.8       2572.0               7.5\n",
      "max                         1190.0   15866.0      14676.0              11.4\n",
      "\n",
      "Region                         TOTAL\n",
      "Mechanical Ventilation (MV)     1190\n",
      "All Beds                       15866\n",
      "Non MV Beds                    14676\n",
      "Percentage on MV                11.4\n",
      "dtype: object\n",
      "\n",
      "Region                         East of England\n",
      "Mechanical Ventilation (MV)                 56\n",
      "All Beds                                  1026\n",
      "Non MV Beds                                970\n",
      "Percentage on MV                           5.5\n",
      "dtype: object\n"
     ]
    }
   ],
   "source": [
    "print(eighteenth_Dec_df.describe(include=[np.number]).round(1))\n",
    "print()\n",
    "print(eighteenth_Dec_df.max())\n",
    "print()\n",
    "print(eighteenth_Dec_df.min())"
   ],
   "metadata": {
    "collapsed": false,
    "pycharm": {
     "name": "#%%\n"
    }
   }
  },
  {
   "cell_type": "code",
   "execution_count": 38,
   "outputs": [
    {
     "name": "stdout",
     "output_type": "stream",
     "text": [
      "       01-08-2020  02-08-2020  03-08-2020  04-08-2020  05-08-2020  06-08-2020  \\\n",
      "count         7.0         7.0         7.0         7.0         7.0         7.0   \n",
      "mean        125.6       121.0       120.3       115.3       115.0       108.0   \n",
      "std          64.7        59.3        61.6        57.0        56.6        54.7   \n",
      "min          21.0        23.0        23.0        23.0        26.0        22.0   \n",
      "25%         101.0       100.0        94.0        90.0        88.0        75.0   \n",
      "50%         123.0       120.0       122.0       118.0       111.0       113.0   \n",
      "75%         158.5       155.0       151.5       152.0       154.5       146.0   \n",
      "max         216.0       194.0       206.0       182.0       183.0       179.0   \n",
      "\n",
      "       07-08-2020  08-08-2020  09-08-2020  10-08-2020  ...  13-12-2020  \\\n",
      "count         7.0         7.0         7.0         7.0  ...         7.0   \n",
      "mean        101.6        92.9        87.3       102.0  ...      2065.7   \n",
      "std          55.3        45.4        39.9        51.4  ...       738.5   \n",
      "min          20.0        18.0        19.0        20.0  ...       946.0   \n",
      "25%          68.5        69.5        65.5        72.5  ...      1703.5   \n",
      "50%         105.0        96.0       101.0       107.0  ...      2212.0   \n",
      "75%         135.5       121.5       112.0       140.5  ...      2309.5   \n",
      "max         178.0       154.0       136.0       161.0  ...      3276.0   \n",
      "\n",
      "       14-12-2020  15-12-2020  16-12-2020  17-12-2020  18-12-2020  19-12-2020  \\\n",
      "count         7.0         7.0         7.0         7.0         7.0         7.0   \n",
      "mean       2150.4      2147.3      2209.3      2248.7      2266.6      2311.9   \n",
      "std         729.3       692.6       683.8       707.7       711.7       714.0   \n",
      "min        1005.0      1005.0      1021.0      1025.0      1026.0      1051.0   \n",
      "25%        1812.0      1821.5      1964.5      2020.5      2028.5      2098.0   \n",
      "50%        2325.0      2322.0      2276.0      2282.0      2372.0      2321.0   \n",
      "75%        2406.5      2482.0      2524.0      2550.5      2561.0      2661.0   \n",
      "max        3286.0      3097.0      3191.0      3292.0      3289.0      3293.0   \n",
      "\n",
      "       20-12-2020  21-12-2020  22-12-2020  \n",
      "count         7.0         7.0         7.0  \n",
      "mean       2376.1      2529.9      2580.4  \n",
      "std         715.6       779.8       831.1  \n",
      "min        1076.0      1112.0      1102.0  \n",
      "25%        2134.5      2281.0      2305.5  \n",
      "50%        2464.0      2530.0      2496.0  \n",
      "75%        2810.5      3058.0      3147.5  \n",
      "max        3203.0      3389.0      3559.0  \n",
      "\n",
      "[8 rows x 144 columns]\n",
      "\n",
      "Name          South West\n",
      "01-08-2020           216\n",
      "02-08-2020           194\n",
      "03-08-2020           206\n",
      "04-08-2020           182\n",
      "                 ...    \n",
      "18-12-2020          3289\n",
      "19-12-2020          3293\n",
      "20-12-2020          3203\n",
      "21-12-2020          3389\n",
      "22-12-2020          3559\n",
      "Length: 145, dtype: object\n",
      "\n",
      "Name          East of England\n",
      "01-08-2020                 21\n",
      "02-08-2020                 23\n",
      "03-08-2020                 23\n",
      "04-08-2020                 23\n",
      "                   ...       \n",
      "18-12-2020               1026\n",
      "19-12-2020               1051\n",
      "20-12-2020               1076\n",
      "21-12-2020               1112\n",
      "22-12-2020               1102\n",
      "Length: 145, dtype: object\n"
     ]
    }
   ],
   "source": [
    "print(all_beds_df.describe(include=[np.number]).round(1))\n",
    "print()\n",
    "print(all_beds_df.max())\n",
    "print()\n",
    "print(all_beds_df.min())"
   ],
   "metadata": {
    "collapsed": false,
    "pycharm": {
     "name": "#%%\n"
    }
   }
  },
  {
   "cell_type": "code",
   "execution_count": 39,
   "outputs": [
    {
     "name": "stdout",
     "output_type": "stream",
     "text": [
      "       01-08-2020  02-08-2020  03-08-2020  04-08-2020  05-08-2020  06-08-2020  \\\n",
      "count         7.0         7.0         7.0         7.0         7.0         7.0   \n",
      "mean         10.6        10.3         9.6         9.3         9.0         8.7   \n",
      "std           5.4         5.5         5.4         5.1         4.7         4.8   \n",
      "min           0.0         0.0         0.0         0.0         0.0         0.0   \n",
      "25%           9.0         8.5         7.5         7.5         7.5         7.0   \n",
      "50%          12.0        10.0        10.0         9.0         9.0         9.0   \n",
      "75%          14.0        15.0        12.5        13.0        13.0        12.0   \n",
      "max          16.0        15.0        17.0        15.0        13.0        14.0   \n",
      "\n",
      "       07-08-2020  08-08-2020  09-08-2020  10-08-2020  ...  13-12-2020  \\\n",
      "count         7.0         7.0         7.0         7.0  ...         7.0   \n",
      "mean          8.1         7.9         8.0         8.6  ...       160.4   \n",
      "std           4.1         4.5         4.5         5.6  ...        81.4   \n",
      "min           0.0         0.0         0.0         0.0  ...        53.0   \n",
      "25%           7.5         6.0         6.5         6.5  ...       112.0   \n",
      "50%           9.0         8.0         8.0         8.0  ...       147.0   \n",
      "75%          10.0        10.5        10.5        10.5  ...       210.5   \n",
      "max          13.0        14.0        14.0        18.0  ...       278.0   \n",
      "\n",
      "       14-12-2020  15-12-2020  16-12-2020  17-12-2020  18-12-2020  19-12-2020  \\\n",
      "count         7.0         7.0         7.0         7.0         7.0         7.0   \n",
      "mean        161.0       165.6       166.1       169.7       170.0       177.0   \n",
      "std          75.7        81.3        80.9        84.0        84.5        86.7   \n",
      "min          56.0        57.0        58.0        54.0        56.0        57.0   \n",
      "25%         123.0       123.5       125.0       129.0       126.5       138.0   \n",
      "50%         145.0       150.0       151.0       159.0       159.0       162.0   \n",
      "75%         209.0       206.5       206.5       208.0       205.5       211.0   \n",
      "max         262.0       292.0       291.0       301.0       311.0       322.0   \n",
      "\n",
      "       20-12-2020  21-12-2020  22-12-2020  \n",
      "count         7.0         7.0         7.0  \n",
      "mean        181.0       189.6       191.3  \n",
      "std          94.9       102.8       110.0  \n",
      "min          60.0        62.0        56.0  \n",
      "25%         135.0       134.5       140.0  \n",
      "50%         156.0       165.0       154.0  \n",
      "75%         213.0       226.5       224.5  \n",
      "max         355.0       378.0       400.0  \n",
      "\n",
      "[8 rows x 144 columns]\n",
      "\n",
      "Name          South West\n",
      "01-08-2020            16\n",
      "02-08-2020            15\n",
      "03-08-2020            17\n",
      "04-08-2020            15\n",
      "                 ...    \n",
      "18-12-2020           311\n",
      "19-12-2020           322\n",
      "20-12-2020           355\n",
      "21-12-2020           378\n",
      "22-12-2020           400\n",
      "Length: 145, dtype: object\n",
      "\n",
      "Name          East of England\n",
      "01-08-2020                  0\n",
      "02-08-2020                  0\n",
      "03-08-2020                  0\n",
      "04-08-2020                  0\n",
      "                   ...       \n",
      "18-12-2020                 56\n",
      "19-12-2020                 57\n",
      "20-12-2020                 60\n",
      "21-12-2020                 62\n",
      "22-12-2020                 56\n",
      "Length: 145, dtype: object\n"
     ]
    }
   ],
   "source": [
    "print(MV_beds_df.describe(include=[np.number]).round(1))\n",
    "print()\n",
    "print(MV_beds_df.max())\n",
    "print()\n",
    "print(MV_beds_df.min())\n"
   ],
   "metadata": {
    "collapsed": false,
    "pycharm": {
     "name": "#%%\n"
    }
   }
  },
  {
   "cell_type": "code",
   "execution_count": 40,
   "outputs": [
    {
     "name": "stdout",
     "output_type": "stream",
     "text": [
      "       01-03-2020  02-03-2020  03-03-2020  04-03-2020  05-03-2020  06-03-2020  \\\n",
      "count         7.0         7.0         7.0         7.0         7.0         7.0   \n",
      "mean          0.0         0.1         0.3         0.0         0.3         0.3   \n",
      "std           0.0         0.4         0.5         0.0         0.5         0.5   \n",
      "min           0.0         0.0         0.0         0.0         0.0         0.0   \n",
      "25%           0.0         0.0         0.0         0.0         0.0         0.0   \n",
      "50%           0.0         0.0         0.0         0.0         0.0         0.0   \n",
      "75%           0.0         0.0         0.5         0.0         0.5         0.5   \n",
      "max           0.0         1.0         1.0         0.0         1.0         1.0   \n",
      "\n",
      "       07-03-2020  08-03-2020  09-03-2020  10-03-2020  ...  18-12-2020  \\\n",
      "count         7.0         7.0         7.0         7.0  ...         7.0   \n",
      "mean          0.0         0.6         0.6         0.1  ...        42.1   \n",
      "std           0.0         0.8         0.5         0.4  ...        20.7   \n",
      "min           0.0         0.0         0.0         0.0  ...         8.0   \n",
      "25%           0.0         0.0         0.0         0.0  ...        36.0   \n",
      "50%           0.0         0.0         1.0         0.0  ...        39.0   \n",
      "75%           0.0         1.0         1.0         0.0  ...        50.0   \n",
      "max           0.0         2.0         1.0         1.0  ...        76.0   \n",
      "\n",
      "       19-12-2020  20-12-2020  21-12-2020  22-12-2020  23-12-2020  24-12-2020  \\\n",
      "count         7.0         7.0         7.0         7.0         7.0         7.0   \n",
      "mean         40.0        43.1        48.6        44.3        41.9        32.0   \n",
      "std          10.9        14.6        18.1        16.7        15.3        12.8   \n",
      "min          20.0        17.0        20.0        10.0        11.0         9.0   \n",
      "25%          36.0        39.0        40.0        43.5        40.0        26.5   \n",
      "50%          42.0        44.0        54.0        48.0        41.0        33.0   \n",
      "75%          46.0        49.0        54.5        50.5        52.5        41.0   \n",
      "max          54.0        65.0        77.0        64.0        56.0        47.0   \n",
      "\n",
      "       25-12-2020  26-12-2020  27-12-2020  \n",
      "count         7.0         7.0         7.0  \n",
      "mean         31.6        25.6         6.1  \n",
      "std          15.4         8.6         2.5  \n",
      "min           4.0        10.0         2.0  \n",
      "25%          25.5        24.0         4.5  \n",
      "50%          35.0        24.0         7.0  \n",
      "75%          39.0        29.5         8.0  \n",
      "max          53.0        38.0         9.0  \n",
      "\n",
      "[8 rows x 302 columns]\n",
      "\n",
      "NHS England Region    South West\n",
      "01-03-2020                     0\n",
      "02-03-2020                     1\n",
      "03-03-2020                     1\n",
      "04-03-2020                     0\n",
      "                         ...    \n",
      "23-12-2020                    56\n",
      "24-12-2020                    47\n",
      "25-12-2020                    53\n",
      "26-12-2020                    38\n",
      "27-12-2020                     9\n",
      "Length: 303, dtype: object\n",
      "\n",
      "NHS England Region    East Of England\n",
      "01-03-2020                          0\n",
      "02-03-2020                          0\n",
      "03-03-2020                          0\n",
      "04-03-2020                          0\n",
      "                           ...       \n",
      "23-12-2020                         11\n",
      "24-12-2020                          9\n",
      "25-12-2020                          4\n",
      "26-12-2020                         10\n",
      "27-12-2020                          2\n",
      "Length: 303, dtype: object\n"
     ]
    }
   ],
   "source": [
    "print(daily_deaths_df.describe(include=[np.number]).round(1))\n",
    "print()\n",
    "print(daily_deaths_df.max())\n",
    "print()\n",
    "print(daily_deaths_df.min())\n",
    "\n"
   ],
   "metadata": {
    "collapsed": false,
    "pycharm": {
     "name": "#%%\n"
    }
   }
  }
 ],
 "metadata": {
  "kernelspec": {
   "display_name": "Python 3",
   "language": "python",
   "name": "python3"
  },
  "language_info": {
   "codemirror_mode": {
    "name": "ipython",
    "version": 2
   },
   "file_extension": ".py",
   "mimetype": "text/x-python",
   "name": "python",
   "nbconvert_exporter": "python",
   "pygments_lexer": "ipython2",
   "version": "2.7.6"
  }
 },
 "nbformat": 4,
 "nbformat_minor": 0
}