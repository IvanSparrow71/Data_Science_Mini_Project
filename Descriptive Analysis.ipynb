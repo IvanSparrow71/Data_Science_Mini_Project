{
 "cells": [
  {
   "cell_type": "code",
   "execution_count": 13,
   "outputs": [],
   "source": [
    "import pandas as pd"
   ],
   "metadata": {
    "collapsed": false,
    "pycharm": {
     "name": "#%%\n"
    }
   }
  },
  {
   "cell_type": "markdown",
   "source": [
    "### Reading in of various dataframes from 'Processed' folder"
   ],
   "metadata": {
    "collapsed": false,
    "pycharm": {
     "name": "#%% md\n"
    }
   }
  },
  {
   "cell_type": "code",
   "execution_count": 14,
   "metadata": {
    "collapsed": true
   },
   "outputs": [
    {
     "data": {
      "text/plain": "         Date  Estimate of number testing positive  \\\n0  12/07/2020                                23600   \n1  19/07/2020                                27700   \n2  26/07/2020                                35700   \n3  02/08/2020                                28300   \n4  09/08/2020                                28300   \n\n   Proportion of population that had COVID  \n0                                 0.000435  \n1                                 0.000500  \n2                                 0.000667  \n3                                 0.000526  \n4                                 0.000526  ",
      "text/html": "<div>\n<style scoped>\n    .dataframe tbody tr th:only-of-type {\n        vertical-align: middle;\n    }\n\n    .dataframe tbody tr th {\n        vertical-align: top;\n    }\n\n    .dataframe thead th {\n        text-align: right;\n    }\n</style>\n<table border=\"1\" class=\"dataframe\">\n  <thead>\n    <tr style=\"text-align: right;\">\n      <th></th>\n      <th>Date</th>\n      <th>Estimate of number testing positive</th>\n      <th>Proportion of population that had COVID</th>\n    </tr>\n  </thead>\n  <tbody>\n    <tr>\n      <th>0</th>\n      <td>12/07/2020</td>\n      <td>23600</td>\n      <td>0.000435</td>\n    </tr>\n    <tr>\n      <th>1</th>\n      <td>19/07/2020</td>\n      <td>27700</td>\n      <td>0.000500</td>\n    </tr>\n    <tr>\n      <th>2</th>\n      <td>26/07/2020</td>\n      <td>35700</td>\n      <td>0.000667</td>\n    </tr>\n    <tr>\n      <th>3</th>\n      <td>02/08/2020</td>\n      <td>28300</td>\n      <td>0.000526</td>\n    </tr>\n    <tr>\n      <th>4</th>\n      <td>09/08/2020</td>\n      <td>28300</td>\n      <td>0.000526</td>\n    </tr>\n  </tbody>\n</table>\n</div>"
     },
     "execution_count": 14,
     "metadata": {},
     "output_type": "execute_result"
    }
   ],
   "source": [
    "pos_cases_df = pd.read_csv('Data/Processed/positive_cases.csv')\n",
    "pos_cases_df.head()"
   ]
  },
  {
   "cell_type": "code",
   "execution_count": 24,
   "outputs": [
    {
     "data": {
      "text/plain": "                     Region  Mechanical Ventilation (MV)  All Beds  \\\n0           East of England                        116.0    1802.0   \n1                    London                        311.0    2726.0   \n2                  Midlands                        246.0    3289.0   \n3  North East and Yorkshire                        137.0    2396.0   \n4                North West                        159.0    2255.0   \n\n   Non MV Beds  Percentage on MV  \n0       1686.0               6.4  \n1       2415.0              11.4  \n2       3043.0               7.5  \n3       2259.0               5.7  \n4       2096.0               7.1  ",
      "text/html": "<div>\n<style scoped>\n    .dataframe tbody tr th:only-of-type {\n        vertical-align: middle;\n    }\n\n    .dataframe tbody tr th {\n        vertical-align: top;\n    }\n\n    .dataframe thead th {\n        text-align: right;\n    }\n</style>\n<table border=\"1\" class=\"dataframe\">\n  <thead>\n    <tr style=\"text-align: right;\">\n      <th></th>\n      <th>Region</th>\n      <th>Mechanical Ventilation (MV)</th>\n      <th>All Beds</th>\n      <th>Non MV Beds</th>\n      <th>Percentage on MV</th>\n    </tr>\n  </thead>\n  <tbody>\n    <tr>\n      <th>0</th>\n      <td>East of England</td>\n      <td>116.0</td>\n      <td>1802.0</td>\n      <td>1686.0</td>\n      <td>6.4</td>\n    </tr>\n    <tr>\n      <th>1</th>\n      <td>London</td>\n      <td>311.0</td>\n      <td>2726.0</td>\n      <td>2415.0</td>\n      <td>11.4</td>\n    </tr>\n    <tr>\n      <th>2</th>\n      <td>Midlands</td>\n      <td>246.0</td>\n      <td>3289.0</td>\n      <td>3043.0</td>\n      <td>7.5</td>\n    </tr>\n    <tr>\n      <th>3</th>\n      <td>North East and Yorkshire</td>\n      <td>137.0</td>\n      <td>2396.0</td>\n      <td>2259.0</td>\n      <td>5.7</td>\n    </tr>\n    <tr>\n      <th>4</th>\n      <td>North West</td>\n      <td>159.0</td>\n      <td>2255.0</td>\n      <td>2096.0</td>\n      <td>7.1</td>\n    </tr>\n  </tbody>\n</table>\n</div>"
     },
     "execution_count": 24,
     "metadata": {},
     "output_type": "execute_result"
    }
   ],
   "source": [
    "eightenth_Dec_df = pd.read_csv('Data/Processed/18_Dec.csv')\n",
    "eightenth_Dec_df.head()"
   ],
   "metadata": {
    "collapsed": false,
    "pycharm": {
     "name": "#%%\n"
    }
   }
  },
  {
   "cell_type": "code",
   "execution_count": 16,
   "outputs": [
    {
     "data": {
      "text/plain": "                       Name  01-08-2020  02-08-2020  03-08-2020  04-08-2020  \\\n0                   ENGLAND       879.0       847.0       842.0       807.0   \n1           East of England        85.0        80.0        73.0        69.0   \n2                    London       126.0       120.0       122.0       118.0   \n3                  Midlands       216.0       194.0       206.0       182.0   \n4  North East and Yorkshire       117.0       120.0       115.0       123.0   \n\n   05-08-2020  06-08-2020  07-08-2020  08-08-2020  09-08-2020  ...  \\\n0       805.0       756.0       711.0       650.0       611.0  ...   \n1        70.0        72.0        60.0        59.0        59.0  ...   \n2       111.0       113.0       105.0       126.0       107.0  ...   \n3       181.0       179.0       178.0        96.0       101.0  ...   \n4       128.0       132.0       111.0       117.0       117.0  ...   \n\n   13-12-2020  14-12-2020  15-12-2020  16-12-2020  17-12-2020  18-12-2020  \\\n0     14460.0     15053.0     15031.0     15465.0     15741.0     15866.0   \n1      1432.0      1506.0      1502.0      1734.0      1770.0      1802.0   \n2      2212.0      2330.0      2482.0      2543.0      2607.0      2726.0   \n3      3276.0      3286.0      3097.0      3191.0      3292.0      3289.0   \n4      2353.0      2483.0      2482.0      2505.0      2494.0      2396.0   \n\n   19-12-2020  20-12-2020  21-12-2020  22-12-2020  \n0     16183.0     16633.0     17709.0     18063.0  \n1      1943.0      1954.0      2163.0      2205.0  \n2      2909.0      3067.0      3367.0      3559.0  \n3      3293.0      3203.0      3389.0      3447.0  \n4      2413.0      2464.0      2530.0      2496.0  \n\n[5 rows x 145 columns]",
      "text/html": "<div>\n<style scoped>\n    .dataframe tbody tr th:only-of-type {\n        vertical-align: middle;\n    }\n\n    .dataframe tbody tr th {\n        vertical-align: top;\n    }\n\n    .dataframe thead th {\n        text-align: right;\n    }\n</style>\n<table border=\"1\" class=\"dataframe\">\n  <thead>\n    <tr style=\"text-align: right;\">\n      <th></th>\n      <th>Name</th>\n      <th>01-08-2020</th>\n      <th>02-08-2020</th>\n      <th>03-08-2020</th>\n      <th>04-08-2020</th>\n      <th>05-08-2020</th>\n      <th>06-08-2020</th>\n      <th>07-08-2020</th>\n      <th>08-08-2020</th>\n      <th>09-08-2020</th>\n      <th>...</th>\n      <th>13-12-2020</th>\n      <th>14-12-2020</th>\n      <th>15-12-2020</th>\n      <th>16-12-2020</th>\n      <th>17-12-2020</th>\n      <th>18-12-2020</th>\n      <th>19-12-2020</th>\n      <th>20-12-2020</th>\n      <th>21-12-2020</th>\n      <th>22-12-2020</th>\n    </tr>\n  </thead>\n  <tbody>\n    <tr>\n      <th>0</th>\n      <td>ENGLAND</td>\n      <td>879.0</td>\n      <td>847.0</td>\n      <td>842.0</td>\n      <td>807.0</td>\n      <td>805.0</td>\n      <td>756.0</td>\n      <td>711.0</td>\n      <td>650.0</td>\n      <td>611.0</td>\n      <td>...</td>\n      <td>14460.0</td>\n      <td>15053.0</td>\n      <td>15031.0</td>\n      <td>15465.0</td>\n      <td>15741.0</td>\n      <td>15866.0</td>\n      <td>16183.0</td>\n      <td>16633.0</td>\n      <td>17709.0</td>\n      <td>18063.0</td>\n    </tr>\n    <tr>\n      <th>1</th>\n      <td>East of England</td>\n      <td>85.0</td>\n      <td>80.0</td>\n      <td>73.0</td>\n      <td>69.0</td>\n      <td>70.0</td>\n      <td>72.0</td>\n      <td>60.0</td>\n      <td>59.0</td>\n      <td>59.0</td>\n      <td>...</td>\n      <td>1432.0</td>\n      <td>1506.0</td>\n      <td>1502.0</td>\n      <td>1734.0</td>\n      <td>1770.0</td>\n      <td>1802.0</td>\n      <td>1943.0</td>\n      <td>1954.0</td>\n      <td>2163.0</td>\n      <td>2205.0</td>\n    </tr>\n    <tr>\n      <th>2</th>\n      <td>London</td>\n      <td>126.0</td>\n      <td>120.0</td>\n      <td>122.0</td>\n      <td>118.0</td>\n      <td>111.0</td>\n      <td>113.0</td>\n      <td>105.0</td>\n      <td>126.0</td>\n      <td>107.0</td>\n      <td>...</td>\n      <td>2212.0</td>\n      <td>2330.0</td>\n      <td>2482.0</td>\n      <td>2543.0</td>\n      <td>2607.0</td>\n      <td>2726.0</td>\n      <td>2909.0</td>\n      <td>3067.0</td>\n      <td>3367.0</td>\n      <td>3559.0</td>\n    </tr>\n    <tr>\n      <th>3</th>\n      <td>Midlands</td>\n      <td>216.0</td>\n      <td>194.0</td>\n      <td>206.0</td>\n      <td>182.0</td>\n      <td>181.0</td>\n      <td>179.0</td>\n      <td>178.0</td>\n      <td>96.0</td>\n      <td>101.0</td>\n      <td>...</td>\n      <td>3276.0</td>\n      <td>3286.0</td>\n      <td>3097.0</td>\n      <td>3191.0</td>\n      <td>3292.0</td>\n      <td>3289.0</td>\n      <td>3293.0</td>\n      <td>3203.0</td>\n      <td>3389.0</td>\n      <td>3447.0</td>\n    </tr>\n    <tr>\n      <th>4</th>\n      <td>North East and Yorkshire</td>\n      <td>117.0</td>\n      <td>120.0</td>\n      <td>115.0</td>\n      <td>123.0</td>\n      <td>128.0</td>\n      <td>132.0</td>\n      <td>111.0</td>\n      <td>117.0</td>\n      <td>117.0</td>\n      <td>...</td>\n      <td>2353.0</td>\n      <td>2483.0</td>\n      <td>2482.0</td>\n      <td>2505.0</td>\n      <td>2494.0</td>\n      <td>2396.0</td>\n      <td>2413.0</td>\n      <td>2464.0</td>\n      <td>2530.0</td>\n      <td>2496.0</td>\n    </tr>\n  </tbody>\n</table>\n<p>5 rows × 145 columns</p>\n</div>"
     },
     "execution_count": 16,
     "metadata": {},
     "output_type": "execute_result"
    }
   ],
   "source": [
    "all_beds_df = pd.read_csv('Data/Processed/all_beds_df.csv')\n",
    "all_beds_df.drop('Unnamed: 0', 1, inplace=True)\n",
    "all_beds_df.head()"
   ],
   "metadata": {
    "collapsed": false,
    "pycharm": {
     "name": "#%%\n"
    }
   }
  },
  {
   "cell_type": "code",
   "execution_count": 17,
   "outputs": [
    {
     "data": {
      "text/plain": "                       Name  01-08-2020  02-08-2020  03-08-2020  04-08-2020  \\\n0                   ENGLAND        74.0        72.0        67.0        65.0   \n1           East of England         9.0         9.0         8.0         8.0   \n2                    London        16.0        15.0        17.0        15.0   \n3                  Midlands        13.0        10.0        10.0        13.0   \n4  North East and Yorkshire         9.0         8.0         7.0         7.0   \n\n   05-08-2020  06-08-2020  07-08-2020  08-08-2020  09-08-2020  ...  \\\n0        63.0        61.0        57.0        55.0        56.0  ...   \n1         8.0         9.0         9.0        11.0         9.0  ...   \n2        13.0        11.0        10.0        10.0        12.0  ...   \n3        13.0        14.0        10.0         5.0         6.0  ...   \n4         7.0         6.0         7.0         8.0         7.0  ...   \n\n   13-12-2020  14-12-2020  15-12-2020  16-12-2020  17-12-2020  18-12-2020  \\\n0      1123.0      1127.0      1159.0      1163.0      1188.0      1190.0   \n1        99.0       103.0       103.0       108.0       113.0       116.0   \n2       256.0       262.0       292.0       291.0       301.0       311.0   \n3       278.0       257.0       251.0       254.0       257.0       246.0   \n4       147.0       145.0       144.0       142.0       145.0       137.0   \n\n   19-12-2020  20-12-2020  21-12-2020  22-12-2020  \n0      1239.0      1267.0      1327.0      1339.0  \n1       124.0       121.0       120.0       127.0  \n2       322.0       355.0       378.0       400.0  \n3       254.0       243.0       257.0       252.0  \n4       152.0       149.0       149.0       154.0  \n\n[5 rows x 145 columns]",
      "text/html": "<div>\n<style scoped>\n    .dataframe tbody tr th:only-of-type {\n        vertical-align: middle;\n    }\n\n    .dataframe tbody tr th {\n        vertical-align: top;\n    }\n\n    .dataframe thead th {\n        text-align: right;\n    }\n</style>\n<table border=\"1\" class=\"dataframe\">\n  <thead>\n    <tr style=\"text-align: right;\">\n      <th></th>\n      <th>Name</th>\n      <th>01-08-2020</th>\n      <th>02-08-2020</th>\n      <th>03-08-2020</th>\n      <th>04-08-2020</th>\n      <th>05-08-2020</th>\n      <th>06-08-2020</th>\n      <th>07-08-2020</th>\n      <th>08-08-2020</th>\n      <th>09-08-2020</th>\n      <th>...</th>\n      <th>13-12-2020</th>\n      <th>14-12-2020</th>\n      <th>15-12-2020</th>\n      <th>16-12-2020</th>\n      <th>17-12-2020</th>\n      <th>18-12-2020</th>\n      <th>19-12-2020</th>\n      <th>20-12-2020</th>\n      <th>21-12-2020</th>\n      <th>22-12-2020</th>\n    </tr>\n  </thead>\n  <tbody>\n    <tr>\n      <th>0</th>\n      <td>ENGLAND</td>\n      <td>74.0</td>\n      <td>72.0</td>\n      <td>67.0</td>\n      <td>65.0</td>\n      <td>63.0</td>\n      <td>61.0</td>\n      <td>57.0</td>\n      <td>55.0</td>\n      <td>56.0</td>\n      <td>...</td>\n      <td>1123.0</td>\n      <td>1127.0</td>\n      <td>1159.0</td>\n      <td>1163.0</td>\n      <td>1188.0</td>\n      <td>1190.0</td>\n      <td>1239.0</td>\n      <td>1267.0</td>\n      <td>1327.0</td>\n      <td>1339.0</td>\n    </tr>\n    <tr>\n      <th>1</th>\n      <td>East of England</td>\n      <td>9.0</td>\n      <td>9.0</td>\n      <td>8.0</td>\n      <td>8.0</td>\n      <td>8.0</td>\n      <td>9.0</td>\n      <td>9.0</td>\n      <td>11.0</td>\n      <td>9.0</td>\n      <td>...</td>\n      <td>99.0</td>\n      <td>103.0</td>\n      <td>103.0</td>\n      <td>108.0</td>\n      <td>113.0</td>\n      <td>116.0</td>\n      <td>124.0</td>\n      <td>121.0</td>\n      <td>120.0</td>\n      <td>127.0</td>\n    </tr>\n    <tr>\n      <th>2</th>\n      <td>London</td>\n      <td>16.0</td>\n      <td>15.0</td>\n      <td>17.0</td>\n      <td>15.0</td>\n      <td>13.0</td>\n      <td>11.0</td>\n      <td>10.0</td>\n      <td>10.0</td>\n      <td>12.0</td>\n      <td>...</td>\n      <td>256.0</td>\n      <td>262.0</td>\n      <td>292.0</td>\n      <td>291.0</td>\n      <td>301.0</td>\n      <td>311.0</td>\n      <td>322.0</td>\n      <td>355.0</td>\n      <td>378.0</td>\n      <td>400.0</td>\n    </tr>\n    <tr>\n      <th>3</th>\n      <td>Midlands</td>\n      <td>13.0</td>\n      <td>10.0</td>\n      <td>10.0</td>\n      <td>13.0</td>\n      <td>13.0</td>\n      <td>14.0</td>\n      <td>10.0</td>\n      <td>5.0</td>\n      <td>6.0</td>\n      <td>...</td>\n      <td>278.0</td>\n      <td>257.0</td>\n      <td>251.0</td>\n      <td>254.0</td>\n      <td>257.0</td>\n      <td>246.0</td>\n      <td>254.0</td>\n      <td>243.0</td>\n      <td>257.0</td>\n      <td>252.0</td>\n    </tr>\n    <tr>\n      <th>4</th>\n      <td>North East and Yorkshire</td>\n      <td>9.0</td>\n      <td>8.0</td>\n      <td>7.0</td>\n      <td>7.0</td>\n      <td>7.0</td>\n      <td>6.0</td>\n      <td>7.0</td>\n      <td>8.0</td>\n      <td>7.0</td>\n      <td>...</td>\n      <td>147.0</td>\n      <td>145.0</td>\n      <td>144.0</td>\n      <td>142.0</td>\n      <td>145.0</td>\n      <td>137.0</td>\n      <td>152.0</td>\n      <td>149.0</td>\n      <td>149.0</td>\n      <td>154.0</td>\n    </tr>\n  </tbody>\n</table>\n<p>5 rows × 145 columns</p>\n</div>"
     },
     "execution_count": 17,
     "metadata": {},
     "output_type": "execute_result"
    }
   ],
   "source": [
    "MV_beds_df = pd.read_csv('Data/Processed/MV_df.csv')\n",
    "MV_beds_df.drop('Unnamed: 0', 1, inplace=True)\n",
    "MV_beds_df.head()"
   ],
   "metadata": {
    "collapsed": false,
    "pycharm": {
     "name": "#%%\n"
    }
   }
  },
  {
   "cell_type": "code",
   "execution_count": 18,
   "outputs": [
    {
     "data": {
      "text/plain": "         NHS England Region  01-03-2020  02-03-2020  03-03-2020  04-03-2020  \\\n0           East Of England           0           1           0           0   \n1                    London           0           0           0           0   \n2                  Midlands           0           0           1           0   \n3  North East And Yorkshire           0           0           0           0   \n4                North West           0           0           0           0   \n\n   05-03-2020  06-03-2020  07-03-2020  08-03-2020  09-03-2020  ...  \\\n0           0           1           0           0           1  ...   \n1           0           1           0           0           1  ...   \n2           0           0           0           2           1  ...   \n3           0           0           0           0           0  ...   \n4           1           0           0           1           0  ...   \n\n   18-12-2020  19-12-2020  20-12-2020  21-12-2020  22-12-2020  23-12-2020  \\\n0          34          42          42          55          40          39   \n1          39          38          50          54          48          50   \n2          76          54          65          77          64          55   \n3          54          47          48          33          50          41   \n4          46          45          36          47          47          41   \n\n   24-12-2020  25-12-2020  26-12-2020  27-12-2020  \n0          24          28          24           5  \n1          41          35          24           9  \n2          47          53          38           7  \n3          41          39          31           8  \n4          29          23          24           4  \n\n[5 rows x 303 columns]",
      "text/html": "<div>\n<style scoped>\n    .dataframe tbody tr th:only-of-type {\n        vertical-align: middle;\n    }\n\n    .dataframe tbody tr th {\n        vertical-align: top;\n    }\n\n    .dataframe thead th {\n        text-align: right;\n    }\n</style>\n<table border=\"1\" class=\"dataframe\">\n  <thead>\n    <tr style=\"text-align: right;\">\n      <th></th>\n      <th>NHS England Region</th>\n      <th>01-03-2020</th>\n      <th>02-03-2020</th>\n      <th>03-03-2020</th>\n      <th>04-03-2020</th>\n      <th>05-03-2020</th>\n      <th>06-03-2020</th>\n      <th>07-03-2020</th>\n      <th>08-03-2020</th>\n      <th>09-03-2020</th>\n      <th>...</th>\n      <th>18-12-2020</th>\n      <th>19-12-2020</th>\n      <th>20-12-2020</th>\n      <th>21-12-2020</th>\n      <th>22-12-2020</th>\n      <th>23-12-2020</th>\n      <th>24-12-2020</th>\n      <th>25-12-2020</th>\n      <th>26-12-2020</th>\n      <th>27-12-2020</th>\n    </tr>\n  </thead>\n  <tbody>\n    <tr>\n      <th>0</th>\n      <td>East Of England</td>\n      <td>0</td>\n      <td>1</td>\n      <td>0</td>\n      <td>0</td>\n      <td>0</td>\n      <td>1</td>\n      <td>0</td>\n      <td>0</td>\n      <td>1</td>\n      <td>...</td>\n      <td>34</td>\n      <td>42</td>\n      <td>42</td>\n      <td>55</td>\n      <td>40</td>\n      <td>39</td>\n      <td>24</td>\n      <td>28</td>\n      <td>24</td>\n      <td>5</td>\n    </tr>\n    <tr>\n      <th>1</th>\n      <td>London</td>\n      <td>0</td>\n      <td>0</td>\n      <td>0</td>\n      <td>0</td>\n      <td>0</td>\n      <td>1</td>\n      <td>0</td>\n      <td>0</td>\n      <td>1</td>\n      <td>...</td>\n      <td>39</td>\n      <td>38</td>\n      <td>50</td>\n      <td>54</td>\n      <td>48</td>\n      <td>50</td>\n      <td>41</td>\n      <td>35</td>\n      <td>24</td>\n      <td>9</td>\n    </tr>\n    <tr>\n      <th>2</th>\n      <td>Midlands</td>\n      <td>0</td>\n      <td>0</td>\n      <td>1</td>\n      <td>0</td>\n      <td>0</td>\n      <td>0</td>\n      <td>0</td>\n      <td>2</td>\n      <td>1</td>\n      <td>...</td>\n      <td>76</td>\n      <td>54</td>\n      <td>65</td>\n      <td>77</td>\n      <td>64</td>\n      <td>55</td>\n      <td>47</td>\n      <td>53</td>\n      <td>38</td>\n      <td>7</td>\n    </tr>\n    <tr>\n      <th>3</th>\n      <td>North East And Yorkshire</td>\n      <td>0</td>\n      <td>0</td>\n      <td>0</td>\n      <td>0</td>\n      <td>0</td>\n      <td>0</td>\n      <td>0</td>\n      <td>0</td>\n      <td>0</td>\n      <td>...</td>\n      <td>54</td>\n      <td>47</td>\n      <td>48</td>\n      <td>33</td>\n      <td>50</td>\n      <td>41</td>\n      <td>41</td>\n      <td>39</td>\n      <td>31</td>\n      <td>8</td>\n    </tr>\n    <tr>\n      <th>4</th>\n      <td>North West</td>\n      <td>0</td>\n      <td>0</td>\n      <td>0</td>\n      <td>0</td>\n      <td>1</td>\n      <td>0</td>\n      <td>0</td>\n      <td>1</td>\n      <td>0</td>\n      <td>...</td>\n      <td>46</td>\n      <td>45</td>\n      <td>36</td>\n      <td>47</td>\n      <td>47</td>\n      <td>41</td>\n      <td>29</td>\n      <td>23</td>\n      <td>24</td>\n      <td>4</td>\n    </tr>\n  </tbody>\n</table>\n<p>5 rows × 303 columns</p>\n</div>"
     },
     "execution_count": 18,
     "metadata": {},
     "output_type": "execute_result"
    }
   ],
   "source": [
    "daily_deaths_df = pd.read_csv('Data/Processed/daily_deaths.csv')\n",
    "daily_deaths_df.drop('Unnamed: 0', 1, inplace=True)\n",
    "daily_deaths_df.head()"
   ],
   "metadata": {
    "collapsed": false,
    "pycharm": {
     "name": "#%%\n"
    }
   }
  },
  {
   "cell_type": "markdown",
   "source": [
    "### Descriptive Analysis using 'describe()' function (all rounded to 1dp)"
   ],
   "metadata": {
    "collapsed": false,
    "pycharm": {
     "name": "#%% md\n"
    }
   }
  },
  {
   "cell_type": "code",
   "execution_count": 19,
   "outputs": [
    {
     "name": "stdout",
     "output_type": "stream",
     "text": [
      "       Estimate of number testing positive  \\\n",
      "count                                 24.0   \n",
      "mean                              287158.3   \n",
      "std                               265915.6   \n",
      "min                                23600.0   \n",
      "25%                                28300.0   \n",
      "50%                               170500.0   \n",
      "75%                               567500.0   \n",
      "max                               664700.0   \n",
      "\n",
      "       Proportion of population that had COVID  \n",
      "count                                     24.0  \n",
      "mean                                       0.0  \n",
      "std                                        0.0  \n",
      "min                                        0.0  \n",
      "25%                                        0.0  \n",
      "50%                                        0.0  \n",
      "75%                                        0.0  \n",
      "max                                        0.0  \n"
     ]
    }
   ],
   "source": [
    "print(pos_cases_df.describe().round(1))"
   ],
   "metadata": {
    "collapsed": false,
    "pycharm": {
     "name": "#%%\n"
    }
   }
  },
  {
   "cell_type": "code",
   "execution_count": 20,
   "outputs": [
    {
     "name": "stdout",
     "output_type": "stream",
     "text": [
      "       Mechanical Ventilation (MV)  All Beds  Non MV Beds  Percentage on MV\n",
      "count                          8.0       8.0          8.0               8.0\n",
      "mean                         273.5    3224.0       2950.5               8.5\n",
      "std                          339.1    3972.7       3637.4               2.8\n",
      "min                           58.0     906.0        848.0               6.4\n",
      "25%                          102.8    1340.2       1237.5               7.1\n",
      "50%                          172.5    2059.5       1842.5               7.7\n",
      "75%                          247.0    2624.0       2437.8               8.5\n",
      "max                         1094.0   12896.0      11802.0              15.2\n"
     ]
    }
   ],
   "source": [
    "print(third_Dec_df.describe().round(1))"
   ],
   "metadata": {
    "collapsed": false,
    "pycharm": {
     "name": "#%%\n"
    }
   }
  },
  {
   "cell_type": "code",
   "execution_count": 21,
   "outputs": [
    {
     "name": "stdout",
     "output_type": "stream",
     "text": [
      "       01-08-2020  02-08-2020  03-08-2020  04-08-2020  05-08-2020  06-08-2020  \\\n",
      "count         8.0         8.0         8.0         8.0         8.0         8.0   \n",
      "mean        219.8       211.8       210.5       201.8       201.2       189.0   \n",
      "std         273.0       262.5       261.5       250.2       249.5       234.6   \n",
      "min          21.0        23.0        23.0        23.0        26.0        22.0   \n",
      "25%         109.0       110.0       104.5       100.5        97.0        76.5   \n",
      "50%         124.5       121.0       122.0       120.5       119.5       122.5   \n",
      "75%         197.2       189.5       187.2       181.2       181.5       164.8   \n",
      "max         879.0       847.0       842.0       807.0       805.0       756.0   \n",
      "\n",
      "       07-08-2020  08-08-2020  09-08-2020  10-08-2020  ...  13-12-2020  \\\n",
      "count         8.0         8.0         8.0         8.0  ...         8.0   \n",
      "mean        177.8       162.5       152.8       178.5  ...      3615.0   \n",
      "std         221.5       201.4       188.8       221.6  ...      4435.1   \n",
      "min          20.0        18.0        19.0        20.0  ...       946.0   \n",
      "25%          72.8        74.8        68.8        77.2  ...      1839.2   \n",
      "50%         108.0       106.5       104.0       114.0  ...      2239.0   \n",
      "75%         164.5       133.0       121.8       160.2  ...      2583.8   \n",
      "max         711.0       650.0       611.0       714.0  ...     14460.0   \n",
      "\n",
      "       14-12-2020  15-12-2020  16-12-2020  17-12-2020  18-12-2020  19-12-2020  \\\n",
      "count         8.0         8.0         8.0         8.0         8.0         8.0   \n",
      "mean       3763.2      3757.8      3866.2      3935.2      3966.5      4045.8   \n",
      "std        4611.4      4600.0      4729.2      4815.0      4853.1      4948.5   \n",
      "min        1005.0      1005.0      1021.0      1025.0      1026.0      1051.0   \n",
      "25%        1965.0      1981.2      2079.8      2145.8      2141.8      2175.5   \n",
      "50%        2327.5      2402.0      2390.5      2388.0      2384.0      2367.0   \n",
      "75%        2683.8      2635.8      2705.0      2778.2      2866.8      3005.0   \n",
      "max       15053.0     15031.0     15465.0     15741.0     15866.0     16183.0   \n",
      "\n",
      "       20-12-2020  21-12-2020  22-12-2020  \n",
      "count         8.0         8.0         8.0  \n",
      "mean       4158.2      4427.2      4515.8  \n",
      "std        5083.9      5415.0      5527.7  \n",
      "min        1076.0      1112.0      1102.0  \n",
      "25%        2224.8      2340.0      2355.8  \n",
      "50%        2509.0      2639.5      2672.0  \n",
      "75%        3101.0      3372.5      3475.0  \n",
      "max       16633.0     17709.0     18063.0  \n",
      "\n",
      "[8 rows x 144 columns]\n"
     ]
    }
   ],
   "source": [
    "print(all_beds_df.describe().round(1))"
   ],
   "metadata": {
    "collapsed": false,
    "pycharm": {
     "name": "#%%\n"
    }
   }
  },
  {
   "cell_type": "code",
   "execution_count": 22,
   "outputs": [
    {
     "name": "stdout",
     "output_type": "stream",
     "text": [
      "       01-08-2020  02-08-2020  03-08-2020  04-08-2020  05-08-2020  06-08-2020  \\\n",
      "count         8.0         8.0         8.0         8.0         8.0         8.0   \n",
      "mean         18.5        18.0        16.8        16.2        15.8        15.2   \n",
      "std          23.0        22.4        20.9        20.2        19.6        19.0   \n",
      "min           0.0         0.0         0.0         0.0         0.0         0.0   \n",
      "25%           9.0         8.8         7.8         7.8         7.8         7.5   \n",
      "50%          12.5        12.5        11.0        11.0        11.0        10.0   \n",
      "75%          15.2        15.0        14.0        13.5        13.0        13.2   \n",
      "max          74.0        72.0        67.0        65.0        63.0        61.0   \n",
      "\n",
      "       07-08-2020  08-08-2020  09-08-2020  10-08-2020  ...  13-12-2020  \\\n",
      "count         8.0         8.0         8.0         8.0  ...         8.0   \n",
      "mean         14.2        13.8        14.0        15.0  ...       280.8   \n",
      "std          17.7        17.2        17.5        18.9  ...       348.6   \n",
      "min           0.0         0.0         0.0         0.0  ...        53.0   \n",
      "25%           7.8         6.5         6.8         7.2  ...       118.5   \n",
      "50%           9.5         9.0         8.5         8.5  ...       156.0   \n",
      "75%          10.8        11.8        12.5        13.5  ...       261.5   \n",
      "max          57.0        55.0        56.0        60.0  ...      1123.0   \n",
      "\n",
      "       14-12-2020  15-12-2020  16-12-2020  17-12-2020  18-12-2020  19-12-2020  \\\n",
      "count         8.0         8.0         8.0         8.0         8.0         8.0   \n",
      "mean        281.8       289.8       290.8       297.0       297.5       309.8   \n",
      "std         348.6       359.2       360.3       368.3       369.0       384.0   \n",
      "min          56.0        57.0        58.0        54.0        56.0        57.0   \n",
      "25%         133.0       133.8       133.5       137.0       131.8       145.0   \n",
      "50%         153.0       156.0       155.0       159.0       162.0       165.0   \n",
      "75%         258.2       261.2       263.2       268.0       262.2       271.0   \n",
      "max        1127.0      1159.0      1163.0      1188.0      1190.0      1239.0   \n",
      "\n",
      "       20-12-2020  21-12-2020  22-12-2020  \n",
      "count         8.0         8.0         8.0  \n",
      "mean        316.8       331.8       334.8  \n",
      "std         393.9       413.3       418.4  \n",
      "min          60.0        62.0        56.0  \n",
      "25%         142.0       141.8       146.5  \n",
      "50%         169.5       180.5       175.5  \n",
      "75%         271.0       287.2       289.0  \n",
      "max        1267.0      1327.0      1339.0  \n",
      "\n",
      "[8 rows x 144 columns]\n"
     ]
    }
   ],
   "source": [
    "print(MV_beds_df.describe().round(1))"
   ],
   "metadata": {
    "collapsed": false,
    "pycharm": {
     "name": "#%%\n"
    }
   }
  },
  {
   "cell_type": "code",
   "execution_count": 23,
   "outputs": [
    {
     "name": "stdout",
     "output_type": "stream",
     "text": [
      "       01-03-2020  02-03-2020  03-03-2020  04-03-2020  05-03-2020  06-03-2020  \\\n",
      "count         7.0         7.0         7.0         7.0         7.0         7.0   \n",
      "mean          0.0         0.1         0.3         0.0         0.3         0.3   \n",
      "std           0.0         0.4         0.5         0.0         0.5         0.5   \n",
      "min           0.0         0.0         0.0         0.0         0.0         0.0   \n",
      "25%           0.0         0.0         0.0         0.0         0.0         0.0   \n",
      "50%           0.0         0.0         0.0         0.0         0.0         0.0   \n",
      "75%           0.0         0.0         0.5         0.0         0.5         0.5   \n",
      "max           0.0         1.0         1.0         0.0         1.0         1.0   \n",
      "\n",
      "       07-03-2020  08-03-2020  09-03-2020  10-03-2020  ...  18-12-2020  \\\n",
      "count         7.0         7.0         7.0         7.0  ...         7.0   \n",
      "mean          0.0         0.6         0.6         0.1  ...        42.1   \n",
      "std           0.0         0.8         0.5         0.4  ...        20.7   \n",
      "min           0.0         0.0         0.0         0.0  ...         8.0   \n",
      "25%           0.0         0.0         0.0         0.0  ...        36.0   \n",
      "50%           0.0         0.0         1.0         0.0  ...        39.0   \n",
      "75%           0.0         1.0         1.0         0.0  ...        50.0   \n",
      "max           0.0         2.0         1.0         1.0  ...        76.0   \n",
      "\n",
      "       19-12-2020  20-12-2020  21-12-2020  22-12-2020  23-12-2020  24-12-2020  \\\n",
      "count         7.0         7.0         7.0         7.0         7.0         7.0   \n",
      "mean         40.0        43.1        48.6        44.3        41.9        32.0   \n",
      "std          10.9        14.6        18.1        16.7        15.3        12.8   \n",
      "min          20.0        17.0        20.0        10.0        11.0         9.0   \n",
      "25%          36.0        39.0        40.0        43.5        40.0        26.5   \n",
      "50%          42.0        44.0        54.0        48.0        41.0        33.0   \n",
      "75%          46.0        49.0        54.5        50.5        52.5        41.0   \n",
      "max          54.0        65.0        77.0        64.0        56.0        47.0   \n",
      "\n",
      "       25-12-2020  26-12-2020  27-12-2020  \n",
      "count         7.0         7.0         7.0  \n",
      "mean         31.6        25.6         6.1  \n",
      "std          15.4         8.6         2.5  \n",
      "min           4.0        10.0         2.0  \n",
      "25%          25.5        24.0         4.5  \n",
      "50%          35.0        24.0         7.0  \n",
      "75%          39.0        29.5         8.0  \n",
      "max          53.0        38.0         9.0  \n",
      "\n",
      "[8 rows x 302 columns]\n"
     ]
    }
   ],
   "source": [
    "print(daily_deaths_df.describe().round(1))\n"
   ],
   "metadata": {
    "collapsed": false,
    "pycharm": {
     "name": "#%%\n"
    }
   }
  }
 ],
 "metadata": {
  "kernelspec": {
   "display_name": "Python 3",
   "language": "python",
   "name": "python3"
  },
  "language_info": {
   "codemirror_mode": {
    "name": "ipython",
    "version": 2
   },
   "file_extension": ".py",
   "mimetype": "text/x-python",
   "name": "python",
   "nbconvert_exporter": "python",
   "pygments_lexer": "ipython2",
   "version": "2.7.6"
  }
 },
 "nbformat": 4,
 "nbformat_minor": 0
}