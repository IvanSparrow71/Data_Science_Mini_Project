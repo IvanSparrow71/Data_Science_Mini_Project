{
 "cells": [
  {
   "cell_type": "markdown",
   "metadata": {},
   "source": [
    "### Importing of modules and packages"
   ]
  },
  {
   "cell_type": "code",
   "execution_count": 9,
   "metadata": {
    "pycharm": {
     "name": "#%%\n"
    }
   },
   "outputs": [],
   "source": [
    "import pandas as pd\n",
    "import matplotlib.pyplot as plt"
   ]
  },
  {
   "cell_type": "markdown",
   "metadata": {
    "pycharm": {
     "name": "#%% md\n"
    }
   },
   "source": [
    "### Assigning current 'Weekly-covid-admissions-and-bed-publication' to the variable 'current_covid_admissions' so data be updated weekly as new versions becomes available"
   ]
  },
  {
   "cell_type": "code",
   "execution_count": 10,
   "metadata": {
    "pycharm": {
     "name": "#%%\n"
    }
   },
   "outputs": [],
   "source": [
    "current_covid_admissions ='/Users/ivan/Desktop/PycharmProjects/Data_Science_Mini/Data/raw/Weekly-covid-admissions-and-beds-publication-201224'"
   ]
  },
  {
   "cell_type": "markdown",
   "metadata": {},
   "source": [
    "### Extracting last date from 'All beds COVID' sheet (any sheet could have been used) and assigning it to variable last_day"
   ]
  },
  {
   "cell_type": "code",
   "execution_count": 11,
   "metadata": {
    "pycharm": {
     "name": "#%%\n"
    }
   },
   "outputs": [],
   "source": [
    "df = pd.read_excel(r'%s.xlsx' % current_covid_admissions,\n",
    "                   sheet_name='All beds COVID',\n",
    "                   engine='openpyxl')\n",
    "last_index = df.iloc[13].last_valid_index()\n",
    "\n",
    "# convert datetime to date in format\n",
    "last_day = df.iloc[13][last_index].strftime('%d/%m/%Y')"
   ]
  },
  {
   "cell_type": "markdown",
   "metadata": {},
   "source": [
    "## Function to read in summary data from 'All beds COVID' and 'MV beds COVID' sheets (7 rows from lines 18 to 24 of Excel sheet). Also converts headings to dates"
   ]
  },
  {
   "cell_type": "code",
   "execution_count": 14,
   "metadata": {
    "pycharm": {
     "name": "#%%\n"
    }
   },
   "outputs": [],
   "source": [
    "list_of_regions = ['East of England','London', 'Midlands','North East and Yorkshire',\n",
    "                   'North West', 'South East', 'South West','ENGLAND']\n",
    "columns_to_drop = ['Type 1 Acute?', 'NHS England Region', 'Code']\n",
    "datelist = pd.date_range(start='08/01/2020', end=last_day).strftime('%d-%m-%Y')\n",
    "\n",
    "\n",
    "def new_summary_sheet(sheet_name):\n",
    "    dataframe = sheet_name\n",
    "    dataframe = pd.read_excel(r'%s.xlsx' % current_covid_admissions,\n",
    "                            sheet_name=sheet_name,\n",
    "                            header=14,\n",
    "                            engine='openpyxl')\n",
    "    dataframe = dataframe.loc[dataframe['Name'].isin(list_of_regions)]\n",
    "    dataframe = dataframe.drop(columns=columns_to_drop)\n",
    "    dataframe = dataframe.reset_index(drop=True)\n",
    "\n",
    "    i = 0\n",
    "    for col in dataframe.columns[1:len(datelist)+2]:\n",
    "        dataframe.rename(columns={col:datelist[i]}, inplace=True)\n",
    "        i += 1\n",
    "    return dataframe\n",
    "\n",
    "\n",
    "df_all_beds = new_summary_sheet('All beds COVID')\n",
    "\n",
    "# Save all_beds_df to analysis\n",
    "all_beds_df = df_all_beds\n",
    "all_beds_df.to_csv('Data/Processed/all_beds_df.csv')\n",
    "\n",
    "# allocate max number of all beds in England to variable max_all_beds\n",
    "max_all_beds = df_all_beds.max(axis=1)[0]\n",
    "# round up to the next 1000\n",
    "max_all_beds = round(max_all_beds,-3) + 1000\n",
    "\n",
    "# allocate max number of all beds across all regions to max_region_all_beds\n",
    "# ignore first entry as this is a total for whole of England\n",
    "max_region_all_beds = df_all_beds.max(axis=1)[1:].max()\n",
    "# round up to the next 100\n",
    "max_region_all_beds = round(max_region_all_beds, -2) + 100\n",
    "\n",
    "df_MV = new_summary_sheet('MV beds COVID')\n",
    "\n",
    "# save MV_df for analysis\n",
    "MV_df = df_MV\n",
    "MV_df.to_csv('Data/Processed/MV_df.csv')"
   ]
  },
  {
   "cell_type": "markdown",
   "metadata": {},
   "source": [
    "# Descriptive Analysis\n"
   ]
  },
  {
   "cell_type": "code",
   "execution_count": null,
   "outputs": [],
   "source": [
    "df_MV.describe().round(1)\n"
   ],
   "metadata": {
    "collapsed": false,
    "pycharm": {
     "name": "#%%\n"
    }
   }
  },
  {
   "cell_type": "markdown",
   "source": [
    "### Comparison of proportion of beds occupied by mechanical ventilation and all beds on user defined days"
   ],
   "metadata": {
    "collapsed": false,
    "pycharm": {
     "name": "#%% md\n"
    }
   }
  },
  {
   "cell_type": "code",
   "execution_count": null,
   "metadata": {
    "pycharm": {
     "name": "#%%\n"
    }
   },
   "outputs": [],
   "source": [
    "# setting up new dataframe\n",
    "def mv_vs_all_beds(date_to_compare):\n",
    "    summary_df = pd.DataFrame()\n",
    "\n",
    "    # assigning regions and values to summary_df\n",
    "    summary_df['Region'] = df_MV['Name']\n",
    "    summary_df['Mechanical Ventilation (MV)'] = df_MV[date_to_compare]\n",
    "    summary_df['All Beds'] = df_all_beds[date_to_compare]\n",
    "    summary_df['Non MV Beds'] = summary_df['All Beds'] - summary_df['Mechanical Ventilation (MV)']\n",
    "    summary_df['Percentage on MV'] =((summary_df['Mechanical Ventilation (MV)'] /summary_df['All Beds']) * 100).round(1)\n",
    "\n",
    "\n",
    "    # Add title to summary_df\n",
    "    fig = plt.figure(figsize = (10,2))\n",
    "    ax = fig.add_subplot(111)\n",
    "    summary_df = summary_df.set_index(['Region']).reindex(['East of England','London', 'Midlands','North East and Yorkshire',\n",
    "                                 'North West', 'South East', 'South West','ENGLAND']).reset_index()\n",
    "\n",
    "    # make Region the index column 12\n",
    "    summary_df.set_index('Region', inplace=True)\n",
    "\n",
    "    # Rename last row to 'TOTAL'\n",
    "    summary_df = summary_df.rename(index={'ENGLAND':\"TOTAL\"})\n",
    "\n",
    "    # create a table of data for each date chosen\n",
    "    ax.table(cellText = summary_df.values,\n",
    "              rowLabels = summary_df.index,\n",
    "              colLabels = summary_df.columns,\n",
    "              loc = \"center\"\n",
    "             )\n",
    "    ax.set_title(f\"Percentage of MV beds on {date_to_compare}\")\n",
    "    ax.axis(\"off\")\n",
    "\n",
    "    return summary_df\n",
    "\n",
    "def make_bar_graph(summary_df):\n",
    "    # plot bar chart of TOTAL row\n",
    "    total_df = summary_df.copy()\n",
    "    total_df.drop(total_df.index[0:7], inplace=True)\n",
    "    # upper limit has been assigned to max_all_beds\n",
    "    total_df[['Mechanical Ventilation (MV)','Non MV Beds']].plot(kind='bar', stacked=True, ylim=(0,max_all_beds))\n",
    "\n",
    "    # clean up data ready for construction of bar chart\n",
    "    no_totals = summary_df.copy()\n",
    "    no_totals.drop('TOTAL', inplace=True)\n",
    "\n",
    "    # set ylim so scales are the same on multiple graphs\n",
    "    no_totals[['Mechanical Ventilation (MV)','Non MV Beds']].plot(kind='bar', stacked=True, ylim=(0,max_region_all_beds))\n",
    "\n",
    "def comparison_dates(no_of_dates):\n",
    "    for i in range(no_of_dates):\n",
    "        date_to_compare = input(f\"Please enter the {i+1} dates you would like to compare (dd-mm-yyyy)\")\n",
    "        make_bar_graph(mv_vs_all_beds(date_to_compare))\n",
    "\n",
    "# save summary_df for analysis in notebook 'Descriptive Analysis' on 3rd December\n",
    "third_dec_summary = mv_vs_all_beds('03-12-2020')\n",
    "third_dec_summary.to_csv('Data/Processed/3rd_Dec.csv')\n",
    "\n",
    "no_of_dates_to_compare = int(input(\"Please enter the number of dates you'd like to compare: \"))\n",
    "comparison_dates(no_of_dates_to_compare)\n",
    "\n"
   ]
  },
  {
   "cell_type": "code",
   "execution_count": null,
   "outputs": [],
   "source": [
    "# print(last_day)\n",
    "# df[last_day].agg(['max','sum', 'mean','median','std']).round(1)\n"
   ],
   "metadata": {
    "collapsed": false,
    "pycharm": {
     "name": "#%%\n"
    }
   }
  },
  {
   "cell_type": "markdown",
   "metadata": {
    "pycharm": {
     "name": "#%%\nmd\n"
    }
   },
   "source": [
    "### Scatter plot of all beds vs MV beds (offset MV beds from 1 to 7 days later)"
   ]
  },
  {
   "cell_type": "code",
   "execution_count": null,
   "metadata": {
    "pycharm": {
     "name": "#%%\n"
    }
   },
   "outputs": [],
   "source": [
    "#extract total row from both 'All beds COVID' and 'MV beds COVID'\n",
    "from sklearn.model_selection import train_test_split\n",
    "from sklearn.linear_model import LinearRegression\n",
    "from sklearn import metrics\n",
    "\n",
    "# initialise variable to hold the smallest RMSE over the 6 days and assume that occurs\n",
    "# at day 0\n",
    "smallest_RMSE = 1000\n",
    "day = 1\n",
    "xlsx = pd.ExcelFile('%s.xlsx' % current_covid_admissions, engine='openpyxl')\n",
    "\n",
    "\n",
    "for i in range(1,10):\n",
    "\n",
    "    all_MV_beds = pd.read_excel(xlsx, 'MV beds COVID')\n",
    "    all_beds_england = pd.read_excel(xlsx, 'All beds COVID')\n",
    "\n",
    "    all_MV_beds = all_MV_beds.iloc[14][3+i:-1]\n",
    "    all_beds_england = all_beds_england.iloc[14][4:-i]\n",
    "\n",
    "\n",
    "    # need to reset the index here or NaNs will be introduced\n",
    "    all_beds_vs_MV_beds = pd.concat([\n",
    "        all_beds_england.reset_index(drop=True),\n",
    "        all_MV_beds.reset_index(drop=True)],\n",
    "        axis=1)\n",
    "    all_beds_vs_MV_beds.columns = ['All Beds','MV Beds']\n",
    "\n",
    "    # Linear Regression\n",
    "    X = all_beds_vs_MV_beds.iloc[:,:-1]\n",
    "    y = all_beds_vs_MV_beds.iloc[:,-1]\n",
    "    X_train, X_test, y_train, y_test = train_test_split(X, y, test_size=0.2, random_state=0)\n",
    "\n",
    "\n",
    "    # create an instance of the LinearRegression class\n",
    "    ln1 = LinearRegression()\n",
    "\n",
    "    # Train the regression model\n",
    "    ln1.fit(X_train, y_train)\n",
    "\n",
    "    # print the coefficients\n",
    "    print(f\"{i} days difference\")\n",
    "    print(f\"The intercept: {ln1.intercept_}\")\n",
    "    print(f\"The trained coefficient is: {ln1.coef_}\")\n",
    "\n",
    "    # predicting the test set\n",
    "    y_pred = ln1.predict(X_test)\n",
    "\n",
    "    # RSME (with squared=False)\n",
    "    RMSE = metrics.mean_squared_error(y_pred, y_test, squared=False)\n",
    "    print(f\"RMSE = {RMSE}\")\n",
    "    if RMSE < smallest_RMSE:\n",
    "        smallest_RMSE = RMSE\n",
    "        day = i\n",
    "\n",
    "    print()\n",
    "\n",
    "    # Visualising the Training set results\n",
    "    plt.scatter(X_train, y_train, color='green')\n",
    "    plt.plot(X_train, ln1.predict(X_train), color='yellow')\n",
    "    plt.title(f\"All beds vs MV beds (Training set) for day {i}\")\n",
    "    plt.xlabel('All beds')\n",
    "    plt.ylabel('MV beds')\n",
    "    plt.show()\n",
    "\n",
    "    # Visualising the Test set results\n",
    "    plt.scatter(X_test, y_test, color='red')\n",
    "\n",
    "    # don't replace anything here as regression line is based on testing set\n",
    "    plt.plot(X_train, ln1.predict(X_train), color='pink')\n",
    "    plt.title(f\"All beds vs MV beds (Test set) {i} days difference\")\n",
    "    plt.xlabel('All beds')\n",
    "    plt.ylabel('MV beds')\n",
    "    plt.show()\n",
    "\n"
   ]
  },
  {
   "cell_type": "code",
   "execution_count": null,
   "metadata": {
    "pycharm": {
     "name": "#%%\n"
    }
   },
   "outputs": [],
   "source": [
    "print(f\"The smallest RMSE is {smallest_RMSE.round(2)} from {day} day difference\")"
   ]
  },
  {
   "cell_type": "markdown",
   "metadata": {
    "pycharm": {
     "name": "#%%\nmd\n"
    }
   },
   "source": [
    "### Does the linear regression shows that after 1 day patients move onto a MV bed?"
   ]
  },
  {
   "cell_type": "markdown",
   "metadata": {
    "pycharm": {
     "name": "#%%\nmd\n"
    }
   },
   "source": [
    "### Multiple Linear Regression\n",
    "##### Independent variables 'All Beds' and 'Hospital Admissions and Diagnosis'\n",
    "##### Dependent variable 'MV Beds'"
   ]
  },
  {
   "cell_type": "code",
   "execution_count": null,
   "metadata": {
    "pycharm": {
     "name": "#%%\n"
    }
   },
   "outputs": [],
   "source": []
  }
 ],
 "metadata": {
  "kernelspec": {
   "display_name": "Python 3",
   "language": "python",
   "name": "python3"
  },
  "language_info": {
   "codemirror_mode": {
    "name": "ipython",
    "version": 3
   },
   "file_extension": ".py",
   "mimetype": "text/x-python",
   "name": "python",
   "nbconvert_exporter": "python",
   "pygments_lexer": "ipython3",
   "version": "3.9.1"
  }
 },
 "nbformat": 4,
 "nbformat_minor": 1
}