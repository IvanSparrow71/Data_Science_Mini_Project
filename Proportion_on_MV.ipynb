{
 "cells": [
  {
   "cell_type": "markdown",
   "metadata": {},
   "source": [
    "### Importing of modules and packages"
   ]
  },
  {
   "cell_type": "code",
   "execution_count": 110,
   "metadata": {
    "pycharm": {
     "name": "#%%\n"
    }
   },
   "outputs": [],
   "source": [
    "import pandas as pd\n",
    "import matplotlib.pyplot as plt"
   ]
  },
  {
   "cell_type": "markdown",
   "metadata": {
    "pycharm": {
     "name": "#%% md\n"
    }
   },
   "source": [
    "### Assigning current 'Weekly-covid-admissions-and-bed-publication' to the variable 'current_covid_admissions' so data be updated weekly as new versions becomes available"
   ]
  },
  {
   "cell_type": "code",
   "execution_count": 111,
   "metadata": {
    "pycharm": {
     "name": "#%%\n"
    }
   },
   "outputs": [],
   "source": [
    "current_covid_admissions ='/Users/ivan/Desktop/PycharmProjects/Data_Science_Mini/Data/raw/Weekly-covid-admissions-and-beds-publication-201224'"
   ]
  },
  {
   "cell_type": "markdown",
   "metadata": {},
   "source": [
    "### Extracting last date from 'All beds COVID' sheet (any sheet could have been used) and assigning it to variable last_day"
   ]
  },
  {
   "cell_type": "code",
   "execution_count": 112,
   "metadata": {
    "pycharm": {
     "name": "#%%\n"
    }
   },
   "outputs": [],
   "source": [
    "df = pd.read_excel(r'%s.xlsx' % current_covid_admissions,\n",
    "                   sheet_name='All beds COVID',\n",
    "                   engine='openpyxl')\n",
    "last_index = df.iloc[13].last_valid_index()\n",
    "\n",
    "# convert datetime to date in format\n",
    "last_day = df.iloc[13][last_index].strftime('%d/%m/%Y')"
   ]
  },
  {
   "cell_type": "markdown",
   "metadata": {},
   "source": [
    "## Function to read in summary data from 'All beds COVID' and 'MV beds COVID' sheets (7 rows from lines 18 to 24 of Excel sheet). Also converts headings to dates"
   ]
  },
  {
   "cell_type": "code",
   "execution_count": 113,
   "metadata": {
    "pycharm": {
     "name": "#%%\n"
    }
   },
   "outputs": [],
   "source": [
    "list_of_regions = ['East of England','London', 'Midlands','North East and Yorkshire',\n",
    "                   'North West', 'South East', 'South West','ENGLAND']\n",
    "columns_to_drop = ['Type 1 Acute?', 'NHS England Region', 'Code']\n",
    "datelist = pd.date_range(start='08/01/2020', end=last_day).strftime('%d-%m-%Y')\n",
    "\n",
    "\n",
    "def new_summary_sheet(sheet_name):\n",
    "    dataframe = sheet_name\n",
    "    dataframe = pd.read_excel(r'%s.xlsx' % current_covid_admissions,\n",
    "                            sheet_name=sheet_name,\n",
    "                            header=14,\n",
    "                            engine='openpyxl')\n",
    "    dataframe = dataframe.loc[dataframe['Name'].isin(list_of_regions)]\n",
    "    dataframe = dataframe.drop(columns=columns_to_drop)\n",
    "    dataframe = dataframe.reset_index(drop=True)\n",
    "\n",
    "    i = 0\n",
    "    for col in dataframe.columns[1:len(datelist)+2]:\n",
    "        dataframe.rename(columns={col:datelist[i]}, inplace=True)\n",
    "        i += 1\n",
    "    return dataframe\n",
    "\n",
    "\n",
    "df_all_beds = new_summary_sheet('All beds COVID')\n",
    "\n",
    "# allocate max number of all beds in England to variable max_all_beds\n",
    "max_all_beds = df_all_beds.max(axis=1)[0]\n",
    "# round up to the next 1000\n",
    "max_all_beds = round(max_all_beds,-3) + 1000\n",
    "\n",
    "# allocate max number of all beds across all regions to max_region_all_beds\n",
    "# ignore first entry as this is a total for whole of England\n",
    "max_region_all_beds = df_all_beds.max(axis=1)[1:].max()\n",
    "# round up to the next 100\n",
    "max_region_all_beds = round(max_region_all_beds, -2) + 100\n",
    "\n",
    "df_MV = new_summary_sheet('MV beds COVID')\n"
   ]
  },
  {
   "cell_type": "markdown",
   "metadata": {},
   "source": [
    "# Descriptive Analysis\n"
   ]
  },
  {
   "cell_type": "code",
   "execution_count": 114,
   "outputs": [
    {
     "data": {
      "text/plain": "       01-08-2020  02-08-2020  03-08-2020  04-08-2020  05-08-2020  06-08-2020  \\\ncount         8.0         8.0         8.0         8.0         8.0         8.0   \nmean         18.5        18.0        16.8        16.2        15.8        15.2   \nstd          23.0        22.4        20.9        20.2        19.6        19.0   \nmin           0.0         0.0         0.0         0.0         0.0         0.0   \n25%           9.0         8.8         7.8         7.8         7.8         7.5   \n50%          12.5        12.5        11.0        11.0        11.0        10.0   \n75%          15.2        15.0        14.0        13.5        13.0        13.2   \nmax          74.0        72.0        67.0        65.0        63.0        61.0   \n\n       07-08-2020  08-08-2020  09-08-2020  10-08-2020  ...  13-12-2020  \\\ncount         8.0         8.0         8.0         8.0  ...         8.0   \nmean         14.2        13.8        14.0        15.0  ...       280.8   \nstd          17.7        17.2        17.5        18.9  ...       348.6   \nmin           0.0         0.0         0.0         0.0  ...        53.0   \n25%           7.8         6.5         6.8         7.2  ...       118.5   \n50%           9.5         9.0         8.5         8.5  ...       156.0   \n75%          10.8        11.8        12.5        13.5  ...       261.5   \nmax          57.0        55.0        56.0        60.0  ...      1123.0   \n\n       14-12-2020  15-12-2020  16-12-2020  17-12-2020  18-12-2020  19-12-2020  \\\ncount         8.0         8.0         8.0         8.0         8.0         8.0   \nmean        281.8       289.8       290.8       297.0       297.5       309.8   \nstd         348.6       359.2       360.3       368.3       369.0       384.0   \nmin          56.0        57.0        58.0        54.0        56.0        57.0   \n25%         133.0       133.8       133.5       137.0       131.8       145.0   \n50%         153.0       156.0       155.0       159.0       162.0       165.0   \n75%         258.2       261.2       263.2       268.0       262.2       271.0   \nmax        1127.0      1159.0      1163.0      1188.0      1190.0      1239.0   \n\n       20-12-2020  21-12-2020  22-12-2020  \ncount         8.0         8.0         8.0  \nmean        316.8       331.8       334.8  \nstd         393.9       413.3       418.4  \nmin          60.0        62.0        56.0  \n25%         142.0       141.8       146.5  \n50%         169.5       180.5       175.5  \n75%         271.0       287.2       289.0  \nmax        1267.0      1327.0      1339.0  \n\n[8 rows x 144 columns]",
      "text/html": "<div>\n<style scoped>\n    .dataframe tbody tr th:only-of-type {\n        vertical-align: middle;\n    }\n\n    .dataframe tbody tr th {\n        vertical-align: top;\n    }\n\n    .dataframe thead th {\n        text-align: right;\n    }\n</style>\n<table border=\"1\" class=\"dataframe\">\n  <thead>\n    <tr style=\"text-align: right;\">\n      <th></th>\n      <th>01-08-2020</th>\n      <th>02-08-2020</th>\n      <th>03-08-2020</th>\n      <th>04-08-2020</th>\n      <th>05-08-2020</th>\n      <th>06-08-2020</th>\n      <th>07-08-2020</th>\n      <th>08-08-2020</th>\n      <th>09-08-2020</th>\n      <th>10-08-2020</th>\n      <th>...</th>\n      <th>13-12-2020</th>\n      <th>14-12-2020</th>\n      <th>15-12-2020</th>\n      <th>16-12-2020</th>\n      <th>17-12-2020</th>\n      <th>18-12-2020</th>\n      <th>19-12-2020</th>\n      <th>20-12-2020</th>\n      <th>21-12-2020</th>\n      <th>22-12-2020</th>\n    </tr>\n  </thead>\n  <tbody>\n    <tr>\n      <th>count</th>\n      <td>8.0</td>\n      <td>8.0</td>\n      <td>8.0</td>\n      <td>8.0</td>\n      <td>8.0</td>\n      <td>8.0</td>\n      <td>8.0</td>\n      <td>8.0</td>\n      <td>8.0</td>\n      <td>8.0</td>\n      <td>...</td>\n      <td>8.0</td>\n      <td>8.0</td>\n      <td>8.0</td>\n      <td>8.0</td>\n      <td>8.0</td>\n      <td>8.0</td>\n      <td>8.0</td>\n      <td>8.0</td>\n      <td>8.0</td>\n      <td>8.0</td>\n    </tr>\n    <tr>\n      <th>mean</th>\n      <td>18.5</td>\n      <td>18.0</td>\n      <td>16.8</td>\n      <td>16.2</td>\n      <td>15.8</td>\n      <td>15.2</td>\n      <td>14.2</td>\n      <td>13.8</td>\n      <td>14.0</td>\n      <td>15.0</td>\n      <td>...</td>\n      <td>280.8</td>\n      <td>281.8</td>\n      <td>289.8</td>\n      <td>290.8</td>\n      <td>297.0</td>\n      <td>297.5</td>\n      <td>309.8</td>\n      <td>316.8</td>\n      <td>331.8</td>\n      <td>334.8</td>\n    </tr>\n    <tr>\n      <th>std</th>\n      <td>23.0</td>\n      <td>22.4</td>\n      <td>20.9</td>\n      <td>20.2</td>\n      <td>19.6</td>\n      <td>19.0</td>\n      <td>17.7</td>\n      <td>17.2</td>\n      <td>17.5</td>\n      <td>18.9</td>\n      <td>...</td>\n      <td>348.6</td>\n      <td>348.6</td>\n      <td>359.2</td>\n      <td>360.3</td>\n      <td>368.3</td>\n      <td>369.0</td>\n      <td>384.0</td>\n      <td>393.9</td>\n      <td>413.3</td>\n      <td>418.4</td>\n    </tr>\n    <tr>\n      <th>min</th>\n      <td>0.0</td>\n      <td>0.0</td>\n      <td>0.0</td>\n      <td>0.0</td>\n      <td>0.0</td>\n      <td>0.0</td>\n      <td>0.0</td>\n      <td>0.0</td>\n      <td>0.0</td>\n      <td>0.0</td>\n      <td>...</td>\n      <td>53.0</td>\n      <td>56.0</td>\n      <td>57.0</td>\n      <td>58.0</td>\n      <td>54.0</td>\n      <td>56.0</td>\n      <td>57.0</td>\n      <td>60.0</td>\n      <td>62.0</td>\n      <td>56.0</td>\n    </tr>\n    <tr>\n      <th>25%</th>\n      <td>9.0</td>\n      <td>8.8</td>\n      <td>7.8</td>\n      <td>7.8</td>\n      <td>7.8</td>\n      <td>7.5</td>\n      <td>7.8</td>\n      <td>6.5</td>\n      <td>6.8</td>\n      <td>7.2</td>\n      <td>...</td>\n      <td>118.5</td>\n      <td>133.0</td>\n      <td>133.8</td>\n      <td>133.5</td>\n      <td>137.0</td>\n      <td>131.8</td>\n      <td>145.0</td>\n      <td>142.0</td>\n      <td>141.8</td>\n      <td>146.5</td>\n    </tr>\n    <tr>\n      <th>50%</th>\n      <td>12.5</td>\n      <td>12.5</td>\n      <td>11.0</td>\n      <td>11.0</td>\n      <td>11.0</td>\n      <td>10.0</td>\n      <td>9.5</td>\n      <td>9.0</td>\n      <td>8.5</td>\n      <td>8.5</td>\n      <td>...</td>\n      <td>156.0</td>\n      <td>153.0</td>\n      <td>156.0</td>\n      <td>155.0</td>\n      <td>159.0</td>\n      <td>162.0</td>\n      <td>165.0</td>\n      <td>169.5</td>\n      <td>180.5</td>\n      <td>175.5</td>\n    </tr>\n    <tr>\n      <th>75%</th>\n      <td>15.2</td>\n      <td>15.0</td>\n      <td>14.0</td>\n      <td>13.5</td>\n      <td>13.0</td>\n      <td>13.2</td>\n      <td>10.8</td>\n      <td>11.8</td>\n      <td>12.5</td>\n      <td>13.5</td>\n      <td>...</td>\n      <td>261.5</td>\n      <td>258.2</td>\n      <td>261.2</td>\n      <td>263.2</td>\n      <td>268.0</td>\n      <td>262.2</td>\n      <td>271.0</td>\n      <td>271.0</td>\n      <td>287.2</td>\n      <td>289.0</td>\n    </tr>\n    <tr>\n      <th>max</th>\n      <td>74.0</td>\n      <td>72.0</td>\n      <td>67.0</td>\n      <td>65.0</td>\n      <td>63.0</td>\n      <td>61.0</td>\n      <td>57.0</td>\n      <td>55.0</td>\n      <td>56.0</td>\n      <td>60.0</td>\n      <td>...</td>\n      <td>1123.0</td>\n      <td>1127.0</td>\n      <td>1159.0</td>\n      <td>1163.0</td>\n      <td>1188.0</td>\n      <td>1190.0</td>\n      <td>1239.0</td>\n      <td>1267.0</td>\n      <td>1327.0</td>\n      <td>1339.0</td>\n    </tr>\n  </tbody>\n</table>\n<p>8 rows × 144 columns</p>\n</div>"
     },
     "execution_count": 114,
     "metadata": {},
     "output_type": "execute_result"
    }
   ],
   "source": [
    "df_MV.describe().round(1)\n"
   ],
   "metadata": {
    "collapsed": false,
    "pycharm": {
     "name": "#%%\n"
    }
   }
  },
  {
   "cell_type": "markdown",
   "source": [
    "### Comparison of proportion of beds occupied by mechanical ventilation and all beds on user defined days"
   ],
   "metadata": {
    "collapsed": false,
    "pycharm": {
     "name": "#%% md\n"
    }
   }
  },
  {
   "cell_type": "code",
   "execution_count": 115,
   "metadata": {
    "pycharm": {
     "name": "#%%\n"
    }
   },
   "outputs": [
    {
     "ename": "ValueError",
     "evalue": "invalid literal for int() with base 10: ''",
     "output_type": "error",
     "traceback": [
      "\u001B[0;31m---------------------------------------------------------------------------\u001B[0m",
      "\u001B[0;31mValueError\u001B[0m                                Traceback (most recent call last)",
      "\u001B[0;32m<ipython-input-115-6ebf79a5cd67>\u001B[0m in \u001B[0;36m<module>\u001B[0;34m\u001B[0m\n\u001B[1;32m     52\u001B[0m         \u001B[0mmake_bar_graph\u001B[0m\u001B[0;34m(\u001B[0m\u001B[0mmv_vs_all_beds\u001B[0m\u001B[0;34m(\u001B[0m\u001B[0mdate_to_compare\u001B[0m\u001B[0;34m)\u001B[0m\u001B[0;34m)\u001B[0m\u001B[0;34m\u001B[0m\u001B[0;34m\u001B[0m\u001B[0m\n\u001B[1;32m     53\u001B[0m \u001B[0;34m\u001B[0m\u001B[0m\n\u001B[0;32m---> 54\u001B[0;31m \u001B[0mno_of_dates_to_compare\u001B[0m \u001B[0;34m=\u001B[0m \u001B[0mint\u001B[0m\u001B[0;34m(\u001B[0m\u001B[0minput\u001B[0m\u001B[0;34m(\u001B[0m\u001B[0;34m\"Please enter the number of dates you'd like to compare: \"\u001B[0m\u001B[0;34m)\u001B[0m\u001B[0;34m)\u001B[0m\u001B[0;34m\u001B[0m\u001B[0;34m\u001B[0m\u001B[0m\n\u001B[0m\u001B[1;32m     55\u001B[0m \u001B[0mcomparison_dates\u001B[0m\u001B[0;34m(\u001B[0m\u001B[0mno_of_dates_to_compare\u001B[0m\u001B[0;34m)\u001B[0m\u001B[0;34m\u001B[0m\u001B[0;34m\u001B[0m\u001B[0m\n\u001B[1;32m     56\u001B[0m \u001B[0;34m\u001B[0m\u001B[0m\n",
      "\u001B[0;31mValueError\u001B[0m: invalid literal for int() with base 10: ''"
     ]
    }
   ],
   "source": [
    "# setting up new dataframe\n",
    "def mv_vs_all_beds(date_to_compare):\n",
    "    summary_df = pd.DataFrame()\n",
    "\n",
    "    # assigning regions and values to summary_df\n",
    "    summary_df['Region'] = df_MV['Name']\n",
    "    summary_df['Mechanical Ventilation (MV)'] = df_MV[date_to_compare]\n",
    "    summary_df['All Beds'] = df_all_beds[date_to_compare]\n",
    "    summary_df['Non MV Beds'] = summary_df['All Beds'] - summary_df['Mechanical Ventilation (MV)']\n",
    "    summary_df['Percentage on MV'] =((summary_df['Mechanical Ventilation (MV)'] /summary_df['All Beds']) * 100).round(1)\n",
    "\n",
    "\n",
    "    # Add title to summary_df\n",
    "    fig = plt.figure(figsize = (10,2))\n",
    "    ax = fig.add_subplot(111)\n",
    "    summary_df = summary_df.set_index(['Region']).reindex(['East of England','London', 'Midlands','North East and Yorkshire',\n",
    "                                 'North West', 'South East', 'South West','ENGLAND']).reset_index()\n",
    "\n",
    "    # make Region the index column 12\n",
    "    summary_df.set_index('Region', inplace=True)\n",
    "\n",
    "    # Rename last row to 'TOTAL'\n",
    "    summary_df = summary_df.rename(index={'ENGLAND':\"TOTAL\"})\n",
    "\n",
    "    # create a table of data for each date chosen\n",
    "    ax.table(cellText = summary_df.values,\n",
    "              rowLabels = summary_df.index,\n",
    "              colLabels = summary_df.columns,\n",
    "              loc = \"center\"\n",
    "             )\n",
    "    ax.set_title(f\"Percentage of MV beds on {date_to_compare}\")\n",
    "    ax.axis(\"off\")\n",
    "    return summary_df\n",
    "\n",
    "def make_bar_graph(summary_df):\n",
    "    # plot bar chart of TOTAL row\n",
    "    total_df = summary_df.copy()\n",
    "    total_df.drop(total_df.index[0:7], inplace=True)\n",
    "    # upper limit has been assigned to max_all_beds\n",
    "    total_df[['Mechanical Ventilation (MV)','Non MV Beds']].plot(kind='bar', stacked=True, ylim=(0,max_all_beds))\n",
    "\n",
    "    # clean up data ready for construction of bar chart\n",
    "    no_totals = summary_df.copy()\n",
    "    no_totals.drop('TOTAL', inplace=True)\n",
    "\n",
    "    # set ylim so scales are the same on multiple graphs\n",
    "    no_totals[['Mechanical Ventilation (MV)','Non MV Beds']].plot(kind='bar', stacked=True, ylim=(0,max_region_all_beds))\n",
    "\n",
    "def comparison_dates(no_of_dates):\n",
    "    for i in range(no_of_dates):\n",
    "        date_to_compare = input(f\"Please enter the {i+1} dates you would like to compare (dd-mm-yyyy)\")\n",
    "        make_bar_graph(mv_vs_all_beds(date_to_compare))\n",
    "\n",
    "no_of_dates_to_compare = int(input(\"Please enter the number of dates you'd like to compare: \"))\n",
    "comparison_dates(no_of_dates_to_compare)\n",
    "\n"
   ]
  },
  {
   "cell_type": "code",
   "execution_count": null,
   "outputs": [],
   "source": [
    "# print(last_day)\n",
    "# df[last_day].agg(['max','sum', 'mean','median','std']).round(1)\n"
   ],
   "metadata": {
    "collapsed": false,
    "pycharm": {
     "name": "#%%\n"
    }
   }
  },
  {
   "cell_type": "markdown",
   "metadata": {
    "pycharm": {
     "name": "#%%\nmd\n"
    }
   },
   "source": [
    "### Scatter plot of all beds vs MV beds (offset MV beds from 1 to 7 days later)"
   ]
  },
  {
   "cell_type": "code",
   "execution_count": null,
   "metadata": {
    "pycharm": {
     "name": "#%%\n"
    }
   },
   "outputs": [],
   "source": [
    "#extract total row from both 'All beds COVID' and 'MV beds COVID'\n",
    "from sklearn.model_selection import train_test_split\n",
    "from sklearn.linear_model import LinearRegression\n",
    "from sklearn import metrics\n",
    "\n",
    "# initialise variable to hold the smallest RMSE over the 6 days and assume that occurs\n",
    "# at day 0\n",
    "smallest_RMSE = 1000\n",
    "day = 1\n",
    "xlsx = pd.ExcelFile('%s.xlsx' % current_covid_admissions, engine='openpyxl')\n",
    "\n",
    "\n",
    "for i in range(1,10):\n",
    "\n",
    "    all_MV_beds = pd.read_excel(xlsx, 'MV beds COVID')\n",
    "    all_beds_england = pd.read_excel(xlsx, 'All beds COVID')\n",
    "\n",
    "    all_MV_beds = all_MV_beds.iloc[14][3+i:-1]\n",
    "    all_beds_england = all_beds_england.iloc[14][4:-i]\n",
    "\n",
    "\n",
    "    # need to reset the index here or NaNs will be introduced\n",
    "    all_beds_vs_MV_beds = pd.concat([\n",
    "        all_beds_england.reset_index(drop=True),\n",
    "        all_MV_beds.reset_index(drop=True)],\n",
    "        axis=1)\n",
    "    all_beds_vs_MV_beds.columns = ['All Beds','MV Beds']\n",
    "\n",
    "    # Linear Regression\n",
    "    X = all_beds_vs_MV_beds.iloc[:,:-1]\n",
    "    y = all_beds_vs_MV_beds.iloc[:,-1]\n",
    "    X_train, X_test, y_train, y_test = train_test_split(X, y, test_size=0.2, random_state=0)\n",
    "\n",
    "\n",
    "    # create an instance of the LinearRegression class\n",
    "    ln1 = LinearRegression()\n",
    "\n",
    "    # Train the regression model\n",
    "    ln1.fit(X_train, y_train)\n",
    "\n",
    "    # print the coefficients\n",
    "    print(f\"{i} days difference\")\n",
    "    print(f\"The intercept: {ln1.intercept_}\")\n",
    "    print(f\"The trained coefficient is: {ln1.coef_}\")\n",
    "\n",
    "    # predicting the test set\n",
    "    y_pred = ln1.predict(X_test)\n",
    "\n",
    "    # RSME (with squared=False)\n",
    "    RMSE = metrics.mean_squared_error(y_pred, y_test, squared=False)\n",
    "    print(f\"RMSE = {RMSE}\")\n",
    "    if RMSE < smallest_RMSE:\n",
    "        smallest_RMSE = RMSE\n",
    "        day = i\n",
    "\n",
    "    print()\n",
    "\n",
    "    # Visualising the Training set results\n",
    "    plt.scatter(X_train, y_train, color='green')\n",
    "    plt.plot(X_train, ln1.predict(X_train), color='yellow')\n",
    "    plt.title(f\"All beds vs MV beds (Training set) for day {i}\")\n",
    "    plt.xlabel('All beds')\n",
    "    plt.ylabel('MV beds')\n",
    "    plt.show()\n",
    "\n",
    "    # Visualising the Test set results\n",
    "    plt.scatter(X_test, y_test, color='red')\n",
    "\n",
    "    # don't replace anything here as regression line is based on testing set\n",
    "    plt.plot(X_train, ln1.predict(X_train), color='pink')\n",
    "    plt.title(f\"All beds vs MV beds (Test set) {i} days difference\")\n",
    "    plt.xlabel('All beds')\n",
    "    plt.ylabel('MV beds')\n",
    "    plt.show()\n",
    "\n"
   ]
  },
  {
   "cell_type": "code",
   "execution_count": null,
   "metadata": {
    "pycharm": {
     "name": "#%%\n"
    }
   },
   "outputs": [],
   "source": [
    "print(f\"The smallest RMSE is {smallest_RMSE.round(2)} from {day} day difference\")"
   ]
  },
  {
   "cell_type": "markdown",
   "metadata": {
    "pycharm": {
     "name": "#%%\nmd\n"
    }
   },
   "source": [
    "### Does the linear regression shows that after 1 day patients move onto a MV bed?"
   ]
  },
  {
   "cell_type": "markdown",
   "metadata": {
    "pycharm": {
     "name": "#%%\nmd\n"
    }
   },
   "source": [
    "### Multiple Linear Regression\n",
    "##### Independent variables 'All Beds' and 'Hospital Admissions and Diagnosis'\n",
    "##### Dependent variable 'MV Beds'"
   ]
  },
  {
   "cell_type": "code",
   "execution_count": null,
   "metadata": {
    "pycharm": {
     "name": "#%%\n"
    }
   },
   "outputs": [],
   "source": []
  }
 ],
 "metadata": {
  "kernelspec": {
   "display_name": "Python 3",
   "language": "python",
   "name": "python3"
  },
  "language_info": {
   "codemirror_mode": {
    "name": "ipython",
    "version": 3
   },
   "file_extension": ".py",
   "mimetype": "text/x-python",
   "name": "python",
   "nbconvert_exporter": "python",
   "pygments_lexer": "ipython3",
   "version": "3.9.1"
  }
 },
 "nbformat": 4,
 "nbformat_minor": 1
}